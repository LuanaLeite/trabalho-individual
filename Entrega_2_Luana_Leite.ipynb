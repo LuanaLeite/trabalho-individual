{
  "nbformat": 4,
  "nbformat_minor": 0,
  "metadata": {
    "colab": {
      "provenance": [],
      "authorship_tag": "ABX9TyNQqG4fTVLliyoQHNcFFYqw",
      "include_colab_link": true
    },
    "kernelspec": {
      "name": "python3",
      "display_name": "Python 3"
    },
    "language_info": {
      "name": "python"
    }
  },
  "cells": [
    {
      "cell_type": "markdown",
      "metadata": {
        "id": "view-in-github",
        "colab_type": "text"
      },
      "source": [
        "<a href=\"https://colab.research.google.com/github/LuanaLeite/trabalho-individual/blob/main/Entrega_2_Luana_Leite.ipynb\" target=\"_parent\"><img src=\"https://colab.research.google.com/assets/colab-badge.svg\" alt=\"Open In Colab\"/></a>"
      ]
    },
    {
      "cell_type": "markdown",
      "source": [
        "# **Trabalho Individual para a disciplina de Introdução a Data Science**\n",
        "\n",
        "\n",
        "> **Aluna**: Luana Leite Rodrigues \n",
        "\n",
        "> **Repositório**: https://github.com/LuanaLeite/trabalho-individual"
      ],
      "metadata": {
        "id": "aWMXD8-Nxfzl"
      }
    },
    {
      "cell_type": "markdown",
      "source": [
        "# **Contexto**"
      ],
      "metadata": {
        "id": "Fu57WbCe9k-y"
      }
    },
    {
      "cell_type": "markdown",
      "source": [
        "**A empresa**: vende produtos de emagrecimento via canais digitais. Conta com uma audiência de mais de 6M de inscritos no Youtube e, aproximadamente, 980mil seguidores no Instagram. Além da produção de conteúdo orgânico, utilização de estratégias de lançamento de produto, a empresa também investe cerca de R$800 mil reais em tráfego pago por mês para captação de leads. \n",
        "\n",
        "**Problemática:** a empresa está no mercado desde 2019 e, recentemente, vem enfrentando novos desafios em relação ao custo de aquisição de clientes e redução de margem de lucro. Dado esse cenário, a grande pergunta feita pelo principal gestor da empresa, demandante da análise, foi \"*Quem são os nossos melhores clientes? O que eles compraram?*\".   \n",
        "\n"
      ],
      "metadata": {
        "id": "znCPZ_eJ9tod"
      }
    },
    {
      "cell_type": "markdown",
      "source": [
        "# **Dados fornecidos**"
      ],
      "metadata": {
        "id": "PLzc79SwD7eF"
      }
    },
    {
      "cell_type": "markdown",
      "source": [
        "Para responder a pergunta feita pelo gestor da empresa, foi disponibilizada uma base de vendas histórica de janeiro de 2020 até abril de 2023. A base é constituída do histórico de 5 plataformas de vendas (hotmart, guru-info, guru-sup, upnid e nutlog). Para organização e manipulação dos dados, tudo foi concatenado em excel, com trativas específicas para deixar as bases no mesmo formato e padronizar seus campos. \n",
        "\n",
        "Para melhor compreensão da base extraída para análise, confira o **dicionário de variáveis**: [dicionário de variáveis.](https://docs.google.com/spreadsheets/d/1h7uDHroNP6_lTfM1Is5HvlHgBBAP84sNmIXJD1hWgEo/edit?usp=sharing)"
      ],
      "metadata": {
        "id": "1jKrOsvHEM77"
      }
    },
    {
      "cell_type": "markdown",
      "source": [
        "## *Coleta e pré-processamento*\n",
        "A empresa forneceu a base histórica das plataformas de vendas citadas anteriormente em Excel. Em domínio da base, foi necessário realizar ajustes de padronização, tratamento de formatação de variáveis como textos, números e datas. Após as alterações, foi gerado um documento em CSV. Devido ao tamanho do arquivo não foi possível salvar no repositório do Git, por isso, o arquivo com os dados foi salvo Google Drive da aluna. \n",
        "\n",
        "Mesmo após o tratamento inicial realizado no Excel, foi necessário realizar ajustes após importação dos dados no Colab. Todas as datas ainda estavam sendo identificadas como \"Object\" e foi necessário realizar a conversão das mesmas via código para serem identificadas como \"datetime64\"."
      ],
      "metadata": {
        "id": "2qbVeRWMIv5z"
      }
    },
    {
      "cell_type": "markdown",
      "source": [
        "# **Importação dos dados**"
      ],
      "metadata": {
        "id": "nvoClGOnMBQH"
      }
    },
    {
      "cell_type": "code",
      "execution_count": 744,
      "metadata": {
        "id": "94JGXMS_XKA6"
      },
      "outputs": [],
      "source": [
        "# Common standard libraries\n",
        "\n",
        "import datetime\n",
        "import time\n",
        "import os"
      ]
    },
    {
      "cell_type": "code",
      "source": [
        "# Common external libraries\n",
        "\n",
        "import pandas as pd\n",
        "import numpy as np\n",
        "import sklearn # scikit-learn\n",
        "import requests\n",
        "from bs4 import BeautifulSoup\n",
        "import math "
      ],
      "metadata": {
        "id": "Gjf1jBJLXLK_"
      },
      "execution_count": 745,
      "outputs": []
    },
    {
      "cell_type": "code",
      "source": [
        "# Visualization libraries\n",
        "\n",
        "%matplotlib inline\n",
        "import matplotlib.pyplot as plt\n",
        "import seaborn as sns"
      ],
      "metadata": {
        "id": "gpUGFxKhXPPN"
      },
      "execution_count": 746,
      "outputs": []
    },
    {
      "cell_type": "code",
      "source": [
        "# Setting plot appearance\n",
        "\n",
        "%config InlineBackend.figure_format='retina'\n",
        "sns.set() # Revert to matplotlib defaults\n",
        "plt.rcParams['figure.figsize'] = (9, 6)\n",
        "plt.rcParams['axes.labelpad'] = 10\n",
        "sns.set_style(\"darkgrid\")\n",
        "# sns.set_context(\"poster\", font_scale=1.0)"
      ],
      "metadata": {
        "id": "uVX93kxBXQQD"
      },
      "execution_count": 747,
      "outputs": []
    },
    {
      "cell_type": "code",
      "source": [
        "\n",
        "from google.colab import drive\n",
        "drive.mount('/content/drive')"
      ],
      "metadata": {
        "colab": {
          "base_uri": "https://localhost:8080/"
        },
        "id": "VHnVlSggXWVV",
        "outputId": "20807f76-4a10-4efb-9a4e-91efe9d2964e"
      },
      "execution_count": 748,
      "outputs": [
        {
          "output_type": "stream",
          "name": "stdout",
          "text": [
            "Drive already mounted at /content/drive; to attempt to forcibly remount, call drive.mount(\"/content/drive\", force_remount=True).\n"
          ]
        }
      ]
    },
    {
      "cell_type": "code",
      "source": [
        "df = pd.read_csv('/content/drive/My Drive/base_dados_vf.csv', sep=',')"
      ],
      "metadata": {
        "id": "9JDMszPWYDvk",
        "colab": {
          "base_uri": "https://localhost:8080/"
        },
        "outputId": "09855420-a2b4-4213-93c4-bbc1a548f77a"
      },
      "execution_count": 749,
      "outputs": [
        {
          "output_type": "stream",
          "name": "stderr",
          "text": [
            "<ipython-input-749-17d116d83fd1>:1: DtypeWarning: Columns (18,19,20,21,22,23,24,25,32,38) have mixed types. Specify dtype option on import or set low_memory=False.\n",
            "  df = pd.read_csv('/content/drive/My Drive/base_dados_vf.csv', sep=',')\n"
          ]
        }
      ]
    },
    {
      "cell_type": "markdown",
      "source": [
        "## **Visualização da base e ajustes de tipo de dados**"
      ],
      "metadata": {
        "id": "m5v9ce6uM-tV"
      }
    },
    {
      "cell_type": "code",
      "source": [
        "df.shape"
      ],
      "metadata": {
        "colab": {
          "base_uri": "https://localhost:8080/"
        },
        "id": "CYOe4W3mbw7b",
        "outputId": "8eb7fb8e-abac-4cf3-91af-25dd8ffdeca4"
      },
      "execution_count": 750,
      "outputs": [
        {
          "output_type": "execute_result",
          "data": {
            "text/plain": [
              "(193367, 39)"
            ]
          },
          "metadata": {},
          "execution_count": 750
        }
      ]
    },
    {
      "cell_type": "code",
      "source": [
        "df.info()"
      ],
      "metadata": {
        "colab": {
          "base_uri": "https://localhost:8080/"
        },
        "id": "y77jgtQNb3xY",
        "outputId": "d36ceff6-611f-4a66-8385-94882f7d209e"
      },
      "execution_count": 751,
      "outputs": [
        {
          "output_type": "stream",
          "name": "stdout",
          "text": [
            "<class 'pandas.core.frame.DataFrame'>\n",
            "RangeIndex: 193367 entries, 0 to 193366\n",
            "Data columns (total 39 columns):\n",
            " #   Column                   Non-Null Count   Dtype  \n",
            "---  ------                   --------------   -----  \n",
            " 0   email_cliente            193367 non-null  object \n",
            " 1   nome_cliente             193367 non-null  object \n",
            " 2   transaction_status       193367 non-null  object \n",
            " 3   transaction_id           193366 non-null  object \n",
            " 4   data_pedido              193367 non-null  object \n",
            " 5   valor_venda              193367 non-null  float64\n",
            " 6   nome_produto             193366 non-null  object \n",
            " 7   oferta                   185841 non-null  object \n",
            " 8   cep                      93669 non-null   object \n",
            " 9   pais                     186426 non-null  object \n",
            " 10  estado                   93673 non-null   object \n",
            " 11  cidade                   93669 non-null   object \n",
            " 12  classificacao_transacao  193367 non-null  object \n",
            " 13  primeiro_produto         185526 non-null  object \n",
            " 14  data_primeira_compra     185526 non-null  object \n",
            " 15  valor_primeira_compra    185526 non-null  float64\n",
            " 16  num_transacoes           185526 non-null  float64\n",
            " 17  ltv_cliente              185526 non-null  float64\n",
            " 18  answer_origin            42794 non-null   object \n",
            " 19  meta_emagrecimento       38388 non-null   object \n",
            " 20  estado_civil             33814 non-null   object \n",
            " 21  tempo_acompanhamento     46937 non-null   object \n",
            " 22  escolaridade             33810 non-null   object \n",
            " 23  renda_mensal             46663 non-null   object \n",
            " 24  idade                    47119 non-null   object \n",
            " 25  genero                   51450 non-null   object \n",
            " 26  quantidade_produto       6024 non-null    float64\n",
            " 27  utm_source               36106 non-null   object \n",
            " 28  utm_medium               31780 non-null   object \n",
            " 29  utm_campaign             33031 non-null   object \n",
            " 30  utm_term                 145 non-null     object \n",
            " 31  utm_content              92618 non-null   object \n",
            " 32  email_pesquisa           51732 non-null   object \n",
            " 33  metodo_pagamento         193367 non-null  object \n",
            " 34  email_primeira_captura   67299 non-null   object \n",
            " 35  data_priemeira_captura   67299 non-null   object \n",
            " 36  origem_primeira_captura  66548 non-null   object \n",
            " 37  evento_primeira_captura  67299 non-null   object \n",
            " 38  telefone                 45305 non-null   object \n",
            "dtypes: float64(5), object(34)\n",
            "memory usage: 57.5+ MB\n"
          ]
        }
      ]
    },
    {
      "cell_type": "markdown",
      "source": [
        "Ajuste de variáveis que vieram fora do formato correto"
      ],
      "metadata": {
        "id": "eSC8gKW5ci2K"
      }
    },
    {
      "cell_type": "code",
      "source": [
        "df = df.astype({\"data_pedido\":'datetime64[ms]',\n",
        "                \"data_primeira_compra\":'datetime64[ms]',\n",
        "                \"data_priemeira_captura\":'datetime64[ms]'})\n",
        "\n"
      ],
      "metadata": {
        "id": "JE3XbHIhnbiF"
      },
      "execution_count": 752,
      "outputs": []
    },
    {
      "cell_type": "code",
      "source": [
        "df.info()"
      ],
      "metadata": {
        "colab": {
          "base_uri": "https://localhost:8080/"
        },
        "id": "Ts0QQIm6xNLC",
        "outputId": "9b0b729d-a0d9-42c6-ff1e-4a49bb0d42b2"
      },
      "execution_count": 753,
      "outputs": [
        {
          "output_type": "stream",
          "name": "stdout",
          "text": [
            "<class 'pandas.core.frame.DataFrame'>\n",
            "RangeIndex: 193367 entries, 0 to 193366\n",
            "Data columns (total 39 columns):\n",
            " #   Column                   Non-Null Count   Dtype         \n",
            "---  ------                   --------------   -----         \n",
            " 0   email_cliente            193367 non-null  object        \n",
            " 1   nome_cliente             193367 non-null  object        \n",
            " 2   transaction_status       193367 non-null  object        \n",
            " 3   transaction_id           193366 non-null  object        \n",
            " 4   data_pedido              193367 non-null  datetime64[ns]\n",
            " 5   valor_venda              193367 non-null  float64       \n",
            " 6   nome_produto             193366 non-null  object        \n",
            " 7   oferta                   185841 non-null  object        \n",
            " 8   cep                      93669 non-null   object        \n",
            " 9   pais                     186426 non-null  object        \n",
            " 10  estado                   93673 non-null   object        \n",
            " 11  cidade                   93669 non-null   object        \n",
            " 12  classificacao_transacao  193367 non-null  object        \n",
            " 13  primeiro_produto         185526 non-null  object        \n",
            " 14  data_primeira_compra     185526 non-null  datetime64[ns]\n",
            " 15  valor_primeira_compra    185526 non-null  float64       \n",
            " 16  num_transacoes           185526 non-null  float64       \n",
            " 17  ltv_cliente              185526 non-null  float64       \n",
            " 18  answer_origin            42794 non-null   object        \n",
            " 19  meta_emagrecimento       38388 non-null   object        \n",
            " 20  estado_civil             33814 non-null   object        \n",
            " 21  tempo_acompanhamento     46937 non-null   object        \n",
            " 22  escolaridade             33810 non-null   object        \n",
            " 23  renda_mensal             46663 non-null   object        \n",
            " 24  idade                    47119 non-null   object        \n",
            " 25  genero                   51450 non-null   object        \n",
            " 26  quantidade_produto       6024 non-null    float64       \n",
            " 27  utm_source               36106 non-null   object        \n",
            " 28  utm_medium               31780 non-null   object        \n",
            " 29  utm_campaign             33031 non-null   object        \n",
            " 30  utm_term                 145 non-null     object        \n",
            " 31  utm_content              92618 non-null   object        \n",
            " 32  email_pesquisa           51732 non-null   object        \n",
            " 33  metodo_pagamento         193367 non-null  object        \n",
            " 34  email_primeira_captura   67299 non-null   object        \n",
            " 35  data_priemeira_captura   67299 non-null   datetime64[ns]\n",
            " 36  origem_primeira_captura  66548 non-null   object        \n",
            " 37  evento_primeira_captura  67299 non-null   object        \n",
            " 38  telefone                 45305 non-null   object        \n",
            "dtypes: datetime64[ns](3), float64(5), object(31)\n",
            "memory usage: 57.5+ MB\n"
          ]
        }
      ]
    },
    {
      "cell_type": "code",
      "source": [
        "print(df)"
      ],
      "metadata": {
        "colab": {
          "base_uri": "https://localhost:8080/"
        },
        "id": "Z66k6r2ixhit",
        "outputId": "24c19bfa-b816-4e5e-fb45-e03147473236"
      },
      "execution_count": 754,
      "outputs": [
        {
          "output_type": "stream",
          "name": "stdout",
          "text": [
            "                      email_cliente                 nome_cliente  \\\n",
            "0               1.analoyo@gmail.com       Ana Paula Moreira Loyo   \n",
            "1          dinhalove.sa@hotmail.com        Sandra Siqueira De Sa   \n",
            "2          dinhalove.sa@hotmail.com        Sandra Siqueira De Sá   \n",
            "3           abreu.capas@outlook.com   Geraldo Francisco De Abreu   \n",
            "4           abreu.capas@outlook.com    Geraldo Francisco De Abeu   \n",
            "...                             ...                          ...   \n",
            "193362  tam.ferreira_jf@hotmail.com    Tamires De Jesus Ferreira   \n",
            "193363         docusse@yahoo.com.br  Maria Estela Macedo Docusse   \n",
            "193364         cgdsalto45@gmail.com  Claudio Gilberto Dalcortivo   \n",
            "193365         cgdsalto45@gmail.com  Claudio Gilberto Dalcortivo   \n",
            "193366   lehandersantos00@gmail.com              Lehander Santos   \n",
            "\n",
            "       transaction_status                        transaction_id data_pedido  \\\n",
            "0                approved                      HP11416037591401  2020-10-26   \n",
            "1                approved  9377dd03-98a9-4dc0-b6a6-1441c9134dc3  2021-05-19   \n",
            "2                approved  94e8017d-a614-4d2c-ae30-a89edd57e9fe  2021-11-18   \n",
            "3                approved  94cbc175-d426-42ec-a4dd-7941910e3f80  2021-11-04   \n",
            "4                approved  951e7aa9-a879-4059-8dea-afdd01849d07  2021-12-15   \n",
            "...                   ...                                   ...         ...   \n",
            "193362           approved  94bd9237-03d8-4bb4-a1fc-7722143c0497  2021-10-28   \n",
            "193363           approved                      HP15015789326486  2020-01-13   \n",
            "193364           approved  93f6ecd5-08a0-4dd6-88b2-4f540d393468  2021-07-21   \n",
            "193365           approved  96d08364-9ec1-4f18-845f-1de1fadf3fbb  2022-07-22   \n",
            "193366           approved                      HP13616002748838  2020-09-16   \n",
            "\n",
            "        valor_venda                                       nome_produto  \\\n",
            "0            997.00     PED • Programa de Emagrecimento Definitivo [R]   \n",
            "1            583.44       [PED] Programa do Emagrecimento (Assinatura)   \n",
            "2           2082.00                  Kit Desinflama - 12 Potes de Cada   \n",
            "3            480.90                      Fórmula SB3 - Kit com 3 Potes   \n",
            "4            625.00      Multivita Men & Women - Kit casal com 6 Potes   \n",
            "...             ...                                                ...   \n",
            "193362      1039.52     Multivita Men & Women - Kit casal com 12 Potes   \n",
            "193363       995.61     PED • Programa de Emagrecimento Definitivo [P]   \n",
            "193364       239.88                  [VSA] Viva com Saúde (Assinatura)   \n",
            "193365       239.88                  [VSA] Viva com Saúde (Assinatura)   \n",
            "193366       153.90  Revista Digital: Viva com Saúde por Dr. Dayan ...   \n",
            "\n",
            "                                                   oferta       cep    pais  \\\n",
            "0                                                11pz9ih9       NaN  Brasil   \n",
            "1                                          12x de R$48,62       NaN      BR   \n",
            "2        Kit Desinflama - 12 Potes de Cada (Frete Grátis)  64890000      BR   \n",
            "3            Fórmula SB3 - Kit com 3 Potes (Frete Grátis)  32050410      BR   \n",
            "4       Multivita Men & Women (Homens e Mulheres) - Ki...  32050410      BR   \n",
            "...                                                   ...       ...     ...   \n",
            "193362  Multivita Men & Women - Kit casal com 12 Potes...  48760000      BR   \n",
            "193363                                           ak2kig03       NaN  Brasil   \n",
            "193364                                 12x de R$19,99/ano       NaN      BR   \n",
            "193365                                 12x de R$19,99/ano       NaN      BR   \n",
            "193366                                           u0b1vvl8       NaN  Brasil   \n",
            "\n",
            "        ... utm_campaign utm_term utm_content            email_pesquisa  \\\n",
            "0       ...          NaN      NaN         NaN       1.analoyo@gmail.com   \n",
            "1       ...          NaN      NaN    29387692  dinhalove.sa@hotmail.com   \n",
            "2       ...          NaN      NaN    53422512  dinhalove.sa@hotmail.com   \n",
            "3       ...          NaN      NaN    52746070   abreu.capas@outlook.com   \n",
            "4       ...          NaN      NaN      453473   abreu.capas@outlook.com   \n",
            "...     ...          ...      ...         ...                       ...   \n",
            "193362  ...          NaN      NaN    52431666                       NaN   \n",
            "193363  ...          NaN      NaN         NaN                       NaN   \n",
            "193364  ...          NaN      NaN    37814030                       NaN   \n",
            "193365  ...          NaN      NaN         NaN                       NaN   \n",
            "193366  ...          NaN      NaN         NaN                       NaN   \n",
            "\n",
            "         metodo_pagamento    email_primeira_captura  data_priemeira_captura  \\\n",
            "0       Cartão de Crédito                       NaN                     NaT   \n",
            "1       Cartão de Crédito  dinhalove.sa@hotmail.com              2022-01-04   \n",
            "2       Cartão de Crédito  dinhalove.sa@hotmail.com              2022-01-04   \n",
            "3       Cartão de Crédito   abreu.capas@outlook.com              2021-12-19   \n",
            "4       Cartão de Crédito   abreu.capas@outlook.com              2021-12-19   \n",
            "...                   ...                       ...                     ...   \n",
            "193362  Cartão de Crédito                       NaN                     NaT   \n",
            "193363  Cartão de Crédito                       NaN                     NaT   \n",
            "193364  Cartão de Crédito                       NaN                     NaT   \n",
            "193365  Cartão de Crédito                       NaN                     NaT   \n",
            "193366  Cartão de Crédito                       NaN                     NaT   \n",
            "\n",
            "        origem_primeira_captura evento_primeira_captura       telefone  \n",
            "0                           NaN                     NaN            NaN  \n",
            "1                         email        PED-c01-2022-jan            NaN  \n",
            "2                         email        PED-c01-2022-jan            NaN  \n",
            "3                         email        PED-c01-2022-jan  5531985140520  \n",
            "4                         email        PED-c01-2022-jan  5531985140520  \n",
            "...                         ...                     ...            ...  \n",
            "193362                      NaN                     NaN            NaN  \n",
            "193363                      NaN                     NaN            NaN  \n",
            "193364                      NaN                     NaN            NaN  \n",
            "193365                      NaN                     NaN            NaN  \n",
            "193366                      NaN                     NaN            NaN  \n",
            "\n",
            "[193367 rows x 39 columns]\n"
          ]
        }
      ]
    },
    {
      "cell_type": "code",
      "source": [
        "df.head()"
      ],
      "metadata": {
        "colab": {
          "base_uri": "https://localhost:8080/",
          "height": 0
        },
        "id": "FFHbq_IkxsOk",
        "outputId": "8d56be49-73d0-46fa-ba4e-348946e16cbe"
      },
      "execution_count": 755,
      "outputs": [
        {
          "output_type": "execute_result",
          "data": {
            "text/plain": [
              "              email_cliente                nome_cliente transaction_status  \\\n",
              "0       1.analoyo@gmail.com      Ana Paula Moreira Loyo           approved   \n",
              "1  dinhalove.sa@hotmail.com       Sandra Siqueira De Sa           approved   \n",
              "2  dinhalove.sa@hotmail.com       Sandra Siqueira De Sá           approved   \n",
              "3   abreu.capas@outlook.com  Geraldo Francisco De Abreu           approved   \n",
              "4   abreu.capas@outlook.com   Geraldo Francisco De Abeu           approved   \n",
              "\n",
              "                         transaction_id data_pedido  valor_venda  \\\n",
              "0                      HP11416037591401  2020-10-26       997.00   \n",
              "1  9377dd03-98a9-4dc0-b6a6-1441c9134dc3  2021-05-19       583.44   \n",
              "2  94e8017d-a614-4d2c-ae30-a89edd57e9fe  2021-11-18      2082.00   \n",
              "3  94cbc175-d426-42ec-a4dd-7941910e3f80  2021-11-04       480.90   \n",
              "4  951e7aa9-a879-4059-8dea-afdd01849d07  2021-12-15       625.00   \n",
              "\n",
              "                                     nome_produto  \\\n",
              "0  PED • Programa de Emagrecimento Definitivo [R]   \n",
              "1    [PED] Programa do Emagrecimento (Assinatura)   \n",
              "2               Kit Desinflama - 12 Potes de Cada   \n",
              "3                   Fórmula SB3 - Kit com 3 Potes   \n",
              "4   Multivita Men & Women - Kit casal com 6 Potes   \n",
              "\n",
              "                                              oferta       cep    pais  ...  \\\n",
              "0                                           11pz9ih9       NaN  Brasil  ...   \n",
              "1                                     12x de R$48,62       NaN      BR  ...   \n",
              "2   Kit Desinflama - 12 Potes de Cada (Frete Grátis)  64890000      BR  ...   \n",
              "3       Fórmula SB3 - Kit com 3 Potes (Frete Grátis)  32050410      BR  ...   \n",
              "4  Multivita Men & Women (Homens e Mulheres) - Ki...  32050410      BR  ...   \n",
              "\n",
              "  utm_campaign utm_term utm_content            email_pesquisa  \\\n",
              "0          NaN      NaN         NaN       1.analoyo@gmail.com   \n",
              "1          NaN      NaN    29387692  dinhalove.sa@hotmail.com   \n",
              "2          NaN      NaN    53422512  dinhalove.sa@hotmail.com   \n",
              "3          NaN      NaN    52746070   abreu.capas@outlook.com   \n",
              "4          NaN      NaN      453473   abreu.capas@outlook.com   \n",
              "\n",
              "    metodo_pagamento    email_primeira_captura  data_priemeira_captura  \\\n",
              "0  Cartão de Crédito                       NaN                     NaT   \n",
              "1  Cartão de Crédito  dinhalove.sa@hotmail.com              2022-01-04   \n",
              "2  Cartão de Crédito  dinhalove.sa@hotmail.com              2022-01-04   \n",
              "3  Cartão de Crédito   abreu.capas@outlook.com              2021-12-19   \n",
              "4  Cartão de Crédito   abreu.capas@outlook.com              2021-12-19   \n",
              "\n",
              "   origem_primeira_captura evento_primeira_captura       telefone  \n",
              "0                      NaN                     NaN            NaN  \n",
              "1                    email        PED-c01-2022-jan            NaN  \n",
              "2                    email        PED-c01-2022-jan            NaN  \n",
              "3                    email        PED-c01-2022-jan  5531985140520  \n",
              "4                    email        PED-c01-2022-jan  5531985140520  \n",
              "\n",
              "[5 rows x 39 columns]"
            ],
            "text/html": [
              "\n",
              "  <div id=\"df-a1d2cf81-5443-485d-bc6c-0c9bee8dbc6b\">\n",
              "    <div class=\"colab-df-container\">\n",
              "      <div>\n",
              "<style scoped>\n",
              "    .dataframe tbody tr th:only-of-type {\n",
              "        vertical-align: middle;\n",
              "    }\n",
              "\n",
              "    .dataframe tbody tr th {\n",
              "        vertical-align: top;\n",
              "    }\n",
              "\n",
              "    .dataframe thead th {\n",
              "        text-align: right;\n",
              "    }\n",
              "</style>\n",
              "<table border=\"1\" class=\"dataframe\">\n",
              "  <thead>\n",
              "    <tr style=\"text-align: right;\">\n",
              "      <th></th>\n",
              "      <th>email_cliente</th>\n",
              "      <th>nome_cliente</th>\n",
              "      <th>transaction_status</th>\n",
              "      <th>transaction_id</th>\n",
              "      <th>data_pedido</th>\n",
              "      <th>valor_venda</th>\n",
              "      <th>nome_produto</th>\n",
              "      <th>oferta</th>\n",
              "      <th>cep</th>\n",
              "      <th>pais</th>\n",
              "      <th>...</th>\n",
              "      <th>utm_campaign</th>\n",
              "      <th>utm_term</th>\n",
              "      <th>utm_content</th>\n",
              "      <th>email_pesquisa</th>\n",
              "      <th>metodo_pagamento</th>\n",
              "      <th>email_primeira_captura</th>\n",
              "      <th>data_priemeira_captura</th>\n",
              "      <th>origem_primeira_captura</th>\n",
              "      <th>evento_primeira_captura</th>\n",
              "      <th>telefone</th>\n",
              "    </tr>\n",
              "  </thead>\n",
              "  <tbody>\n",
              "    <tr>\n",
              "      <th>0</th>\n",
              "      <td>1.analoyo@gmail.com</td>\n",
              "      <td>Ana Paula Moreira Loyo</td>\n",
              "      <td>approved</td>\n",
              "      <td>HP11416037591401</td>\n",
              "      <td>2020-10-26</td>\n",
              "      <td>997.00</td>\n",
              "      <td>PED • Programa de Emagrecimento Definitivo [R]</td>\n",
              "      <td>11pz9ih9</td>\n",
              "      <td>NaN</td>\n",
              "      <td>Brasil</td>\n",
              "      <td>...</td>\n",
              "      <td>NaN</td>\n",
              "      <td>NaN</td>\n",
              "      <td>NaN</td>\n",
              "      <td>1.analoyo@gmail.com</td>\n",
              "      <td>Cartão de Crédito</td>\n",
              "      <td>NaN</td>\n",
              "      <td>NaT</td>\n",
              "      <td>NaN</td>\n",
              "      <td>NaN</td>\n",
              "      <td>NaN</td>\n",
              "    </tr>\n",
              "    <tr>\n",
              "      <th>1</th>\n",
              "      <td>dinhalove.sa@hotmail.com</td>\n",
              "      <td>Sandra Siqueira De Sa</td>\n",
              "      <td>approved</td>\n",
              "      <td>9377dd03-98a9-4dc0-b6a6-1441c9134dc3</td>\n",
              "      <td>2021-05-19</td>\n",
              "      <td>583.44</td>\n",
              "      <td>[PED] Programa do Emagrecimento (Assinatura)</td>\n",
              "      <td>12x de R$48,62</td>\n",
              "      <td>NaN</td>\n",
              "      <td>BR</td>\n",
              "      <td>...</td>\n",
              "      <td>NaN</td>\n",
              "      <td>NaN</td>\n",
              "      <td>29387692</td>\n",
              "      <td>dinhalove.sa@hotmail.com</td>\n",
              "      <td>Cartão de Crédito</td>\n",
              "      <td>dinhalove.sa@hotmail.com</td>\n",
              "      <td>2022-01-04</td>\n",
              "      <td>email</td>\n",
              "      <td>PED-c01-2022-jan</td>\n",
              "      <td>NaN</td>\n",
              "    </tr>\n",
              "    <tr>\n",
              "      <th>2</th>\n",
              "      <td>dinhalove.sa@hotmail.com</td>\n",
              "      <td>Sandra Siqueira De Sá</td>\n",
              "      <td>approved</td>\n",
              "      <td>94e8017d-a614-4d2c-ae30-a89edd57e9fe</td>\n",
              "      <td>2021-11-18</td>\n",
              "      <td>2082.00</td>\n",
              "      <td>Kit Desinflama - 12 Potes de Cada</td>\n",
              "      <td>Kit Desinflama - 12 Potes de Cada (Frete Grátis)</td>\n",
              "      <td>64890000</td>\n",
              "      <td>BR</td>\n",
              "      <td>...</td>\n",
              "      <td>NaN</td>\n",
              "      <td>NaN</td>\n",
              "      <td>53422512</td>\n",
              "      <td>dinhalove.sa@hotmail.com</td>\n",
              "      <td>Cartão de Crédito</td>\n",
              "      <td>dinhalove.sa@hotmail.com</td>\n",
              "      <td>2022-01-04</td>\n",
              "      <td>email</td>\n",
              "      <td>PED-c01-2022-jan</td>\n",
              "      <td>NaN</td>\n",
              "    </tr>\n",
              "    <tr>\n",
              "      <th>3</th>\n",
              "      <td>abreu.capas@outlook.com</td>\n",
              "      <td>Geraldo Francisco De Abreu</td>\n",
              "      <td>approved</td>\n",
              "      <td>94cbc175-d426-42ec-a4dd-7941910e3f80</td>\n",
              "      <td>2021-11-04</td>\n",
              "      <td>480.90</td>\n",
              "      <td>Fórmula SB3 - Kit com 3 Potes</td>\n",
              "      <td>Fórmula SB3 - Kit com 3 Potes (Frete Grátis)</td>\n",
              "      <td>32050410</td>\n",
              "      <td>BR</td>\n",
              "      <td>...</td>\n",
              "      <td>NaN</td>\n",
              "      <td>NaN</td>\n",
              "      <td>52746070</td>\n",
              "      <td>abreu.capas@outlook.com</td>\n",
              "      <td>Cartão de Crédito</td>\n",
              "      <td>abreu.capas@outlook.com</td>\n",
              "      <td>2021-12-19</td>\n",
              "      <td>email</td>\n",
              "      <td>PED-c01-2022-jan</td>\n",
              "      <td>5531985140520</td>\n",
              "    </tr>\n",
              "    <tr>\n",
              "      <th>4</th>\n",
              "      <td>abreu.capas@outlook.com</td>\n",
              "      <td>Geraldo Francisco De Abeu</td>\n",
              "      <td>approved</td>\n",
              "      <td>951e7aa9-a879-4059-8dea-afdd01849d07</td>\n",
              "      <td>2021-12-15</td>\n",
              "      <td>625.00</td>\n",
              "      <td>Multivita Men &amp; Women - Kit casal com 6 Potes</td>\n",
              "      <td>Multivita Men &amp; Women (Homens e Mulheres) - Ki...</td>\n",
              "      <td>32050410</td>\n",
              "      <td>BR</td>\n",
              "      <td>...</td>\n",
              "      <td>NaN</td>\n",
              "      <td>NaN</td>\n",
              "      <td>453473</td>\n",
              "      <td>abreu.capas@outlook.com</td>\n",
              "      <td>Cartão de Crédito</td>\n",
              "      <td>abreu.capas@outlook.com</td>\n",
              "      <td>2021-12-19</td>\n",
              "      <td>email</td>\n",
              "      <td>PED-c01-2022-jan</td>\n",
              "      <td>5531985140520</td>\n",
              "    </tr>\n",
              "  </tbody>\n",
              "</table>\n",
              "<p>5 rows × 39 columns</p>\n",
              "</div>\n",
              "      <button class=\"colab-df-convert\" onclick=\"convertToInteractive('df-a1d2cf81-5443-485d-bc6c-0c9bee8dbc6b')\"\n",
              "              title=\"Convert this dataframe to an interactive table.\"\n",
              "              style=\"display:none;\">\n",
              "        \n",
              "  <svg xmlns=\"http://www.w3.org/2000/svg\" height=\"24px\"viewBox=\"0 0 24 24\"\n",
              "       width=\"24px\">\n",
              "    <path d=\"M0 0h24v24H0V0z\" fill=\"none\"/>\n",
              "    <path d=\"M18.56 5.44l.94 2.06.94-2.06 2.06-.94-2.06-.94-.94-2.06-.94 2.06-2.06.94zm-11 1L8.5 8.5l.94-2.06 2.06-.94-2.06-.94L8.5 2.5l-.94 2.06-2.06.94zm10 10l.94 2.06.94-2.06 2.06-.94-2.06-.94-.94-2.06-.94 2.06-2.06.94z\"/><path d=\"M17.41 7.96l-1.37-1.37c-.4-.4-.92-.59-1.43-.59-.52 0-1.04.2-1.43.59L10.3 9.45l-7.72 7.72c-.78.78-.78 2.05 0 2.83L4 21.41c.39.39.9.59 1.41.59.51 0 1.02-.2 1.41-.59l7.78-7.78 2.81-2.81c.8-.78.8-2.07 0-2.86zM5.41 20L4 18.59l7.72-7.72 1.47 1.35L5.41 20z\"/>\n",
              "  </svg>\n",
              "      </button>\n",
              "      \n",
              "  <style>\n",
              "    .colab-df-container {\n",
              "      display:flex;\n",
              "      flex-wrap:wrap;\n",
              "      gap: 12px;\n",
              "    }\n",
              "\n",
              "    .colab-df-convert {\n",
              "      background-color: #E8F0FE;\n",
              "      border: none;\n",
              "      border-radius: 50%;\n",
              "      cursor: pointer;\n",
              "      display: none;\n",
              "      fill: #1967D2;\n",
              "      height: 32px;\n",
              "      padding: 0 0 0 0;\n",
              "      width: 32px;\n",
              "    }\n",
              "\n",
              "    .colab-df-convert:hover {\n",
              "      background-color: #E2EBFA;\n",
              "      box-shadow: 0px 1px 2px rgba(60, 64, 67, 0.3), 0px 1px 3px 1px rgba(60, 64, 67, 0.15);\n",
              "      fill: #174EA6;\n",
              "    }\n",
              "\n",
              "    [theme=dark] .colab-df-convert {\n",
              "      background-color: #3B4455;\n",
              "      fill: #D2E3FC;\n",
              "    }\n",
              "\n",
              "    [theme=dark] .colab-df-convert:hover {\n",
              "      background-color: #434B5C;\n",
              "      box-shadow: 0px 1px 3px 1px rgba(0, 0, 0, 0.15);\n",
              "      filter: drop-shadow(0px 1px 2px rgba(0, 0, 0, 0.3));\n",
              "      fill: #FFFFFF;\n",
              "    }\n",
              "  </style>\n",
              "\n",
              "      <script>\n",
              "        const buttonEl =\n",
              "          document.querySelector('#df-a1d2cf81-5443-485d-bc6c-0c9bee8dbc6b button.colab-df-convert');\n",
              "        buttonEl.style.display =\n",
              "          google.colab.kernel.accessAllowed ? 'block' : 'none';\n",
              "\n",
              "        async function convertToInteractive(key) {\n",
              "          const element = document.querySelector('#df-a1d2cf81-5443-485d-bc6c-0c9bee8dbc6b');\n",
              "          const dataTable =\n",
              "            await google.colab.kernel.invokeFunction('convertToInteractive',\n",
              "                                                     [key], {});\n",
              "          if (!dataTable) return;\n",
              "\n",
              "          const docLinkHtml = 'Like what you see? Visit the ' +\n",
              "            '<a target=\"_blank\" href=https://colab.research.google.com/notebooks/data_table.ipynb>data table notebook</a>'\n",
              "            + ' to learn more about interactive tables.';\n",
              "          element.innerHTML = '';\n",
              "          dataTable['output_type'] = 'display_data';\n",
              "          await google.colab.output.renderOutput(dataTable, element);\n",
              "          const docLink = document.createElement('div');\n",
              "          docLink.innerHTML = docLinkHtml;\n",
              "          element.appendChild(docLink);\n",
              "        }\n",
              "      </script>\n",
              "    </div>\n",
              "  </div>\n",
              "  "
            ]
          },
          "metadata": {},
          "execution_count": 755
        }
      ]
    },
    {
      "cell_type": "markdown",
      "source": [
        "# **Análise exploratória dos dados**"
      ],
      "metadata": {
        "id": "H0_d0uxBNeS8"
      }
    },
    {
      "cell_type": "code",
      "source": [
        "menor_data = min(df['data_pedido'])\n",
        "print(menor_data)\n"
      ],
      "metadata": {
        "colab": {
          "base_uri": "https://localhost:8080/"
        },
        "id": "135xS9kRzCpC",
        "outputId": "0da196f9-dbe6-409c-bc5d-605d024c4b6d"
      },
      "execution_count": 756,
      "outputs": [
        {
          "output_type": "stream",
          "name": "stdout",
          "text": [
            "2020-01-01 00:00:00\n"
          ]
        }
      ]
    },
    {
      "cell_type": "code",
      "source": [
        "maior_data = max(df['data_pedido'])\n",
        "print(maior_data)"
      ],
      "metadata": {
        "colab": {
          "base_uri": "https://localhost:8080/"
        },
        "id": "CLmtwT49zOtS",
        "outputId": "fabac5bf-9c6b-4e6d-a44f-9a3269673a45"
      },
      "execution_count": 757,
      "outputs": [
        {
          "output_type": "stream",
          "name": "stdout",
          "text": [
            "2023-04-09 20:18:35\n"
          ]
        }
      ]
    },
    {
      "cell_type": "code",
      "source": [
        "df[['ltv_cliente']].describe()"
      ],
      "metadata": {
        "colab": {
          "base_uri": "https://localhost:8080/",
          "height": 300
        },
        "id": "Zo9liXA1_DSj",
        "outputId": "cedd33f7-ca3c-4848-fde2-adda13f7c5ae"
      },
      "execution_count": 758,
      "outputs": [
        {
          "output_type": "execute_result",
          "data": {
            "text/plain": [
              "         ltv_cliente\n",
              "count  185526.000000\n",
              "mean     1203.927148\n",
              "std      1713.500604\n",
              "min         5.000000\n",
              "25%       239.900000\n",
              "50%       583.440000\n",
              "75%      1442.400000\n",
              "max     22083.000000"
            ],
            "text/html": [
              "\n",
              "  <div id=\"df-293bdb1f-db7d-4009-a1f8-e0e644e5ae52\">\n",
              "    <div class=\"colab-df-container\">\n",
              "      <div>\n",
              "<style scoped>\n",
              "    .dataframe tbody tr th:only-of-type {\n",
              "        vertical-align: middle;\n",
              "    }\n",
              "\n",
              "    .dataframe tbody tr th {\n",
              "        vertical-align: top;\n",
              "    }\n",
              "\n",
              "    .dataframe thead th {\n",
              "        text-align: right;\n",
              "    }\n",
              "</style>\n",
              "<table border=\"1\" class=\"dataframe\">\n",
              "  <thead>\n",
              "    <tr style=\"text-align: right;\">\n",
              "      <th></th>\n",
              "      <th>ltv_cliente</th>\n",
              "    </tr>\n",
              "  </thead>\n",
              "  <tbody>\n",
              "    <tr>\n",
              "      <th>count</th>\n",
              "      <td>185526.000000</td>\n",
              "    </tr>\n",
              "    <tr>\n",
              "      <th>mean</th>\n",
              "      <td>1203.927148</td>\n",
              "    </tr>\n",
              "    <tr>\n",
              "      <th>std</th>\n",
              "      <td>1713.500604</td>\n",
              "    </tr>\n",
              "    <tr>\n",
              "      <th>min</th>\n",
              "      <td>5.000000</td>\n",
              "    </tr>\n",
              "    <tr>\n",
              "      <th>25%</th>\n",
              "      <td>239.900000</td>\n",
              "    </tr>\n",
              "    <tr>\n",
              "      <th>50%</th>\n",
              "      <td>583.440000</td>\n",
              "    </tr>\n",
              "    <tr>\n",
              "      <th>75%</th>\n",
              "      <td>1442.400000</td>\n",
              "    </tr>\n",
              "    <tr>\n",
              "      <th>max</th>\n",
              "      <td>22083.000000</td>\n",
              "    </tr>\n",
              "  </tbody>\n",
              "</table>\n",
              "</div>\n",
              "      <button class=\"colab-df-convert\" onclick=\"convertToInteractive('df-293bdb1f-db7d-4009-a1f8-e0e644e5ae52')\"\n",
              "              title=\"Convert this dataframe to an interactive table.\"\n",
              "              style=\"display:none;\">\n",
              "        \n",
              "  <svg xmlns=\"http://www.w3.org/2000/svg\" height=\"24px\"viewBox=\"0 0 24 24\"\n",
              "       width=\"24px\">\n",
              "    <path d=\"M0 0h24v24H0V0z\" fill=\"none\"/>\n",
              "    <path d=\"M18.56 5.44l.94 2.06.94-2.06 2.06-.94-2.06-.94-.94-2.06-.94 2.06-2.06.94zm-11 1L8.5 8.5l.94-2.06 2.06-.94-2.06-.94L8.5 2.5l-.94 2.06-2.06.94zm10 10l.94 2.06.94-2.06 2.06-.94-2.06-.94-.94-2.06-.94 2.06-2.06.94z\"/><path d=\"M17.41 7.96l-1.37-1.37c-.4-.4-.92-.59-1.43-.59-.52 0-1.04.2-1.43.59L10.3 9.45l-7.72 7.72c-.78.78-.78 2.05 0 2.83L4 21.41c.39.39.9.59 1.41.59.51 0 1.02-.2 1.41-.59l7.78-7.78 2.81-2.81c.8-.78.8-2.07 0-2.86zM5.41 20L4 18.59l7.72-7.72 1.47 1.35L5.41 20z\"/>\n",
              "  </svg>\n",
              "      </button>\n",
              "      \n",
              "  <style>\n",
              "    .colab-df-container {\n",
              "      display:flex;\n",
              "      flex-wrap:wrap;\n",
              "      gap: 12px;\n",
              "    }\n",
              "\n",
              "    .colab-df-convert {\n",
              "      background-color: #E8F0FE;\n",
              "      border: none;\n",
              "      border-radius: 50%;\n",
              "      cursor: pointer;\n",
              "      display: none;\n",
              "      fill: #1967D2;\n",
              "      height: 32px;\n",
              "      padding: 0 0 0 0;\n",
              "      width: 32px;\n",
              "    }\n",
              "\n",
              "    .colab-df-convert:hover {\n",
              "      background-color: #E2EBFA;\n",
              "      box-shadow: 0px 1px 2px rgba(60, 64, 67, 0.3), 0px 1px 3px 1px rgba(60, 64, 67, 0.15);\n",
              "      fill: #174EA6;\n",
              "    }\n",
              "\n",
              "    [theme=dark] .colab-df-convert {\n",
              "      background-color: #3B4455;\n",
              "      fill: #D2E3FC;\n",
              "    }\n",
              "\n",
              "    [theme=dark] .colab-df-convert:hover {\n",
              "      background-color: #434B5C;\n",
              "      box-shadow: 0px 1px 3px 1px rgba(0, 0, 0, 0.15);\n",
              "      filter: drop-shadow(0px 1px 2px rgba(0, 0, 0, 0.3));\n",
              "      fill: #FFFFFF;\n",
              "    }\n",
              "  </style>\n",
              "\n",
              "      <script>\n",
              "        const buttonEl =\n",
              "          document.querySelector('#df-293bdb1f-db7d-4009-a1f8-e0e644e5ae52 button.colab-df-convert');\n",
              "        buttonEl.style.display =\n",
              "          google.colab.kernel.accessAllowed ? 'block' : 'none';\n",
              "\n",
              "        async function convertToInteractive(key) {\n",
              "          const element = document.querySelector('#df-293bdb1f-db7d-4009-a1f8-e0e644e5ae52');\n",
              "          const dataTable =\n",
              "            await google.colab.kernel.invokeFunction('convertToInteractive',\n",
              "                                                     [key], {});\n",
              "          if (!dataTable) return;\n",
              "\n",
              "          const docLinkHtml = 'Like what you see? Visit the ' +\n",
              "            '<a target=\"_blank\" href=https://colab.research.google.com/notebooks/data_table.ipynb>data table notebook</a>'\n",
              "            + ' to learn more about interactive tables.';\n",
              "          element.innerHTML = '';\n",
              "          dataTable['output_type'] = 'display_data';\n",
              "          await google.colab.output.renderOutput(dataTable, element);\n",
              "          const docLink = document.createElement('div');\n",
              "          docLink.innerHTML = docLinkHtml;\n",
              "          element.appendChild(docLink);\n",
              "        }\n",
              "      </script>\n",
              "    </div>\n",
              "  </div>\n",
              "  "
            ]
          },
          "metadata": {},
          "execution_count": 758
        }
      ]
    },
    {
      "cell_type": "code",
      "source": [
        "df[['primeiro_produto']].describe()"
      ],
      "metadata": {
        "colab": {
          "base_uri": "https://localhost:8080/",
          "height": 175
        },
        "id": "ErXowan5_dIc",
        "outputId": "0a173ad9-a251-4c4a-dfe9-93ae87a28165"
      },
      "execution_count": 759,
      "outputs": [
        {
          "output_type": "execute_result",
          "data": {
            "text/plain": [
              "                                         primeiro_produto\n",
              "count                                              185526\n",
              "unique                                                213\n",
              "top     Revista Digital: Viva com Saúde por Dr. Dayan ...\n",
              "freq                                                52809"
            ],
            "text/html": [
              "\n",
              "  <div id=\"df-408c3b91-fa6b-4888-84be-690647759c7f\">\n",
              "    <div class=\"colab-df-container\">\n",
              "      <div>\n",
              "<style scoped>\n",
              "    .dataframe tbody tr th:only-of-type {\n",
              "        vertical-align: middle;\n",
              "    }\n",
              "\n",
              "    .dataframe tbody tr th {\n",
              "        vertical-align: top;\n",
              "    }\n",
              "\n",
              "    .dataframe thead th {\n",
              "        text-align: right;\n",
              "    }\n",
              "</style>\n",
              "<table border=\"1\" class=\"dataframe\">\n",
              "  <thead>\n",
              "    <tr style=\"text-align: right;\">\n",
              "      <th></th>\n",
              "      <th>primeiro_produto</th>\n",
              "    </tr>\n",
              "  </thead>\n",
              "  <tbody>\n",
              "    <tr>\n",
              "      <th>count</th>\n",
              "      <td>185526</td>\n",
              "    </tr>\n",
              "    <tr>\n",
              "      <th>unique</th>\n",
              "      <td>213</td>\n",
              "    </tr>\n",
              "    <tr>\n",
              "      <th>top</th>\n",
              "      <td>Revista Digital: Viva com Saúde por Dr. Dayan ...</td>\n",
              "    </tr>\n",
              "    <tr>\n",
              "      <th>freq</th>\n",
              "      <td>52809</td>\n",
              "    </tr>\n",
              "  </tbody>\n",
              "</table>\n",
              "</div>\n",
              "      <button class=\"colab-df-convert\" onclick=\"convertToInteractive('df-408c3b91-fa6b-4888-84be-690647759c7f')\"\n",
              "              title=\"Convert this dataframe to an interactive table.\"\n",
              "              style=\"display:none;\">\n",
              "        \n",
              "  <svg xmlns=\"http://www.w3.org/2000/svg\" height=\"24px\"viewBox=\"0 0 24 24\"\n",
              "       width=\"24px\">\n",
              "    <path d=\"M0 0h24v24H0V0z\" fill=\"none\"/>\n",
              "    <path d=\"M18.56 5.44l.94 2.06.94-2.06 2.06-.94-2.06-.94-.94-2.06-.94 2.06-2.06.94zm-11 1L8.5 8.5l.94-2.06 2.06-.94-2.06-.94L8.5 2.5l-.94 2.06-2.06.94zm10 10l.94 2.06.94-2.06 2.06-.94-2.06-.94-.94-2.06-.94 2.06-2.06.94z\"/><path d=\"M17.41 7.96l-1.37-1.37c-.4-.4-.92-.59-1.43-.59-.52 0-1.04.2-1.43.59L10.3 9.45l-7.72 7.72c-.78.78-.78 2.05 0 2.83L4 21.41c.39.39.9.59 1.41.59.51 0 1.02-.2 1.41-.59l7.78-7.78 2.81-2.81c.8-.78.8-2.07 0-2.86zM5.41 20L4 18.59l7.72-7.72 1.47 1.35L5.41 20z\"/>\n",
              "  </svg>\n",
              "      </button>\n",
              "      \n",
              "  <style>\n",
              "    .colab-df-container {\n",
              "      display:flex;\n",
              "      flex-wrap:wrap;\n",
              "      gap: 12px;\n",
              "    }\n",
              "\n",
              "    .colab-df-convert {\n",
              "      background-color: #E8F0FE;\n",
              "      border: none;\n",
              "      border-radius: 50%;\n",
              "      cursor: pointer;\n",
              "      display: none;\n",
              "      fill: #1967D2;\n",
              "      height: 32px;\n",
              "      padding: 0 0 0 0;\n",
              "      width: 32px;\n",
              "    }\n",
              "\n",
              "    .colab-df-convert:hover {\n",
              "      background-color: #E2EBFA;\n",
              "      box-shadow: 0px 1px 2px rgba(60, 64, 67, 0.3), 0px 1px 3px 1px rgba(60, 64, 67, 0.15);\n",
              "      fill: #174EA6;\n",
              "    }\n",
              "\n",
              "    [theme=dark] .colab-df-convert {\n",
              "      background-color: #3B4455;\n",
              "      fill: #D2E3FC;\n",
              "    }\n",
              "\n",
              "    [theme=dark] .colab-df-convert:hover {\n",
              "      background-color: #434B5C;\n",
              "      box-shadow: 0px 1px 3px 1px rgba(0, 0, 0, 0.15);\n",
              "      filter: drop-shadow(0px 1px 2px rgba(0, 0, 0, 0.3));\n",
              "      fill: #FFFFFF;\n",
              "    }\n",
              "  </style>\n",
              "\n",
              "      <script>\n",
              "        const buttonEl =\n",
              "          document.querySelector('#df-408c3b91-fa6b-4888-84be-690647759c7f button.colab-df-convert');\n",
              "        buttonEl.style.display =\n",
              "          google.colab.kernel.accessAllowed ? 'block' : 'none';\n",
              "\n",
              "        async function convertToInteractive(key) {\n",
              "          const element = document.querySelector('#df-408c3b91-fa6b-4888-84be-690647759c7f');\n",
              "          const dataTable =\n",
              "            await google.colab.kernel.invokeFunction('convertToInteractive',\n",
              "                                                     [key], {});\n",
              "          if (!dataTable) return;\n",
              "\n",
              "          const docLinkHtml = 'Like what you see? Visit the ' +\n",
              "            '<a target=\"_blank\" href=https://colab.research.google.com/notebooks/data_table.ipynb>data table notebook</a>'\n",
              "            + ' to learn more about interactive tables.';\n",
              "          element.innerHTML = '';\n",
              "          dataTable['output_type'] = 'display_data';\n",
              "          await google.colab.output.renderOutput(dataTable, element);\n",
              "          const docLink = document.createElement('div');\n",
              "          docLink.innerHTML = docLinkHtml;\n",
              "          element.appendChild(docLink);\n",
              "        }\n",
              "      </script>\n",
              "    </div>\n",
              "  </div>\n",
              "  "
            ]
          },
          "metadata": {},
          "execution_count": 759
        }
      ]
    },
    {
      "cell_type": "code",
      "source": [
        "df[['idade']].describe()"
      ],
      "metadata": {
        "colab": {
          "base_uri": "https://localhost:8080/",
          "height": 175
        },
        "id": "XnxbsP5Fdqzk",
        "outputId": "24615b80-c168-46fa-87d9-50d41b41ebb4"
      },
      "execution_count": 760,
      "outputs": [
        {
          "output_type": "execute_result",
          "data": {
            "text/plain": [
              "               idade\n",
              "count          47119\n",
              "unique            61\n",
              "top     56 - 65 anos\n",
              "freq           14798"
            ],
            "text/html": [
              "\n",
              "  <div id=\"df-37df8b8d-8ca3-40a5-8580-3850010dea63\">\n",
              "    <div class=\"colab-df-container\">\n",
              "      <div>\n",
              "<style scoped>\n",
              "    .dataframe tbody tr th:only-of-type {\n",
              "        vertical-align: middle;\n",
              "    }\n",
              "\n",
              "    .dataframe tbody tr th {\n",
              "        vertical-align: top;\n",
              "    }\n",
              "\n",
              "    .dataframe thead th {\n",
              "        text-align: right;\n",
              "    }\n",
              "</style>\n",
              "<table border=\"1\" class=\"dataframe\">\n",
              "  <thead>\n",
              "    <tr style=\"text-align: right;\">\n",
              "      <th></th>\n",
              "      <th>idade</th>\n",
              "    </tr>\n",
              "  </thead>\n",
              "  <tbody>\n",
              "    <tr>\n",
              "      <th>count</th>\n",
              "      <td>47119</td>\n",
              "    </tr>\n",
              "    <tr>\n",
              "      <th>unique</th>\n",
              "      <td>61</td>\n",
              "    </tr>\n",
              "    <tr>\n",
              "      <th>top</th>\n",
              "      <td>56 - 65 anos</td>\n",
              "    </tr>\n",
              "    <tr>\n",
              "      <th>freq</th>\n",
              "      <td>14798</td>\n",
              "    </tr>\n",
              "  </tbody>\n",
              "</table>\n",
              "</div>\n",
              "      <button class=\"colab-df-convert\" onclick=\"convertToInteractive('df-37df8b8d-8ca3-40a5-8580-3850010dea63')\"\n",
              "              title=\"Convert this dataframe to an interactive table.\"\n",
              "              style=\"display:none;\">\n",
              "        \n",
              "  <svg xmlns=\"http://www.w3.org/2000/svg\" height=\"24px\"viewBox=\"0 0 24 24\"\n",
              "       width=\"24px\">\n",
              "    <path d=\"M0 0h24v24H0V0z\" fill=\"none\"/>\n",
              "    <path d=\"M18.56 5.44l.94 2.06.94-2.06 2.06-.94-2.06-.94-.94-2.06-.94 2.06-2.06.94zm-11 1L8.5 8.5l.94-2.06 2.06-.94-2.06-.94L8.5 2.5l-.94 2.06-2.06.94zm10 10l.94 2.06.94-2.06 2.06-.94-2.06-.94-.94-2.06-.94 2.06-2.06.94z\"/><path d=\"M17.41 7.96l-1.37-1.37c-.4-.4-.92-.59-1.43-.59-.52 0-1.04.2-1.43.59L10.3 9.45l-7.72 7.72c-.78.78-.78 2.05 0 2.83L4 21.41c.39.39.9.59 1.41.59.51 0 1.02-.2 1.41-.59l7.78-7.78 2.81-2.81c.8-.78.8-2.07 0-2.86zM5.41 20L4 18.59l7.72-7.72 1.47 1.35L5.41 20z\"/>\n",
              "  </svg>\n",
              "      </button>\n",
              "      \n",
              "  <style>\n",
              "    .colab-df-container {\n",
              "      display:flex;\n",
              "      flex-wrap:wrap;\n",
              "      gap: 12px;\n",
              "    }\n",
              "\n",
              "    .colab-df-convert {\n",
              "      background-color: #E8F0FE;\n",
              "      border: none;\n",
              "      border-radius: 50%;\n",
              "      cursor: pointer;\n",
              "      display: none;\n",
              "      fill: #1967D2;\n",
              "      height: 32px;\n",
              "      padding: 0 0 0 0;\n",
              "      width: 32px;\n",
              "    }\n",
              "\n",
              "    .colab-df-convert:hover {\n",
              "      background-color: #E2EBFA;\n",
              "      box-shadow: 0px 1px 2px rgba(60, 64, 67, 0.3), 0px 1px 3px 1px rgba(60, 64, 67, 0.15);\n",
              "      fill: #174EA6;\n",
              "    }\n",
              "\n",
              "    [theme=dark] .colab-df-convert {\n",
              "      background-color: #3B4455;\n",
              "      fill: #D2E3FC;\n",
              "    }\n",
              "\n",
              "    [theme=dark] .colab-df-convert:hover {\n",
              "      background-color: #434B5C;\n",
              "      box-shadow: 0px 1px 3px 1px rgba(0, 0, 0, 0.15);\n",
              "      filter: drop-shadow(0px 1px 2px rgba(0, 0, 0, 0.3));\n",
              "      fill: #FFFFFF;\n",
              "    }\n",
              "  </style>\n",
              "\n",
              "      <script>\n",
              "        const buttonEl =\n",
              "          document.querySelector('#df-37df8b8d-8ca3-40a5-8580-3850010dea63 button.colab-df-convert');\n",
              "        buttonEl.style.display =\n",
              "          google.colab.kernel.accessAllowed ? 'block' : 'none';\n",
              "\n",
              "        async function convertToInteractive(key) {\n",
              "          const element = document.querySelector('#df-37df8b8d-8ca3-40a5-8580-3850010dea63');\n",
              "          const dataTable =\n",
              "            await google.colab.kernel.invokeFunction('convertToInteractive',\n",
              "                                                     [key], {});\n",
              "          if (!dataTable) return;\n",
              "\n",
              "          const docLinkHtml = 'Like what you see? Visit the ' +\n",
              "            '<a target=\"_blank\" href=https://colab.research.google.com/notebooks/data_table.ipynb>data table notebook</a>'\n",
              "            + ' to learn more about interactive tables.';\n",
              "          element.innerHTML = '';\n",
              "          dataTable['output_type'] = 'display_data';\n",
              "          await google.colab.output.renderOutput(dataTable, element);\n",
              "          const docLink = document.createElement('div');\n",
              "          docLink.innerHTML = docLinkHtml;\n",
              "          element.appendChild(docLink);\n",
              "        }\n",
              "      </script>\n",
              "    </div>\n",
              "  </div>\n",
              "  "
            ]
          },
          "metadata": {},
          "execution_count": 760
        }
      ]
    },
    {
      "cell_type": "code",
      "source": [
        "df.describe().T"
      ],
      "metadata": {
        "id": "CIny63HVCHYy",
        "outputId": "51f4e927-ed9e-43af-d93c-cee328d3f2c5",
        "colab": {
          "base_uri": "https://localhost:8080/",
          "height": 206
        }
      },
      "execution_count": 761,
      "outputs": [
        {
          "output_type": "execute_result",
          "data": {
            "text/plain": [
              "                          count         mean          std  min    25%     50%  \\\n",
              "valor_venda            193367.0   391.670814   348.239101  0.0  153.9  216.33   \n",
              "valor_primeira_compra  185526.0   407.488197   359.026737  5.0  153.9  206.00   \n",
              "num_transacoes         185526.0     2.920017     3.372321  1.0    1.0    2.00   \n",
              "ltv_cliente            185526.0  1203.927148  1713.500604  5.0  239.9  583.44   \n",
              "quantidade_produto       6024.0     2.240372     2.733802  0.0    0.0    1.00   \n",
              "\n",
              "                           75%       max  \n",
              "valor_venda             577.32   2499.24  \n",
              "valor_primeira_compra   583.00   2499.24  \n",
              "num_transacoes            3.00     47.00  \n",
              "ltv_cliente            1442.40  22083.00  \n",
              "quantidade_produto        3.00     24.00  "
            ],
            "text/html": [
              "\n",
              "  <div id=\"df-fa0247fa-cd0b-492f-80ae-c001b9976c8f\">\n",
              "    <div class=\"colab-df-container\">\n",
              "      <div>\n",
              "<style scoped>\n",
              "    .dataframe tbody tr th:only-of-type {\n",
              "        vertical-align: middle;\n",
              "    }\n",
              "\n",
              "    .dataframe tbody tr th {\n",
              "        vertical-align: top;\n",
              "    }\n",
              "\n",
              "    .dataframe thead th {\n",
              "        text-align: right;\n",
              "    }\n",
              "</style>\n",
              "<table border=\"1\" class=\"dataframe\">\n",
              "  <thead>\n",
              "    <tr style=\"text-align: right;\">\n",
              "      <th></th>\n",
              "      <th>count</th>\n",
              "      <th>mean</th>\n",
              "      <th>std</th>\n",
              "      <th>min</th>\n",
              "      <th>25%</th>\n",
              "      <th>50%</th>\n",
              "      <th>75%</th>\n",
              "      <th>max</th>\n",
              "    </tr>\n",
              "  </thead>\n",
              "  <tbody>\n",
              "    <tr>\n",
              "      <th>valor_venda</th>\n",
              "      <td>193367.0</td>\n",
              "      <td>391.670814</td>\n",
              "      <td>348.239101</td>\n",
              "      <td>0.0</td>\n",
              "      <td>153.9</td>\n",
              "      <td>216.33</td>\n",
              "      <td>577.32</td>\n",
              "      <td>2499.24</td>\n",
              "    </tr>\n",
              "    <tr>\n",
              "      <th>valor_primeira_compra</th>\n",
              "      <td>185526.0</td>\n",
              "      <td>407.488197</td>\n",
              "      <td>359.026737</td>\n",
              "      <td>5.0</td>\n",
              "      <td>153.9</td>\n",
              "      <td>206.00</td>\n",
              "      <td>583.00</td>\n",
              "      <td>2499.24</td>\n",
              "    </tr>\n",
              "    <tr>\n",
              "      <th>num_transacoes</th>\n",
              "      <td>185526.0</td>\n",
              "      <td>2.920017</td>\n",
              "      <td>3.372321</td>\n",
              "      <td>1.0</td>\n",
              "      <td>1.0</td>\n",
              "      <td>2.00</td>\n",
              "      <td>3.00</td>\n",
              "      <td>47.00</td>\n",
              "    </tr>\n",
              "    <tr>\n",
              "      <th>ltv_cliente</th>\n",
              "      <td>185526.0</td>\n",
              "      <td>1203.927148</td>\n",
              "      <td>1713.500604</td>\n",
              "      <td>5.0</td>\n",
              "      <td>239.9</td>\n",
              "      <td>583.44</td>\n",
              "      <td>1442.40</td>\n",
              "      <td>22083.00</td>\n",
              "    </tr>\n",
              "    <tr>\n",
              "      <th>quantidade_produto</th>\n",
              "      <td>6024.0</td>\n",
              "      <td>2.240372</td>\n",
              "      <td>2.733802</td>\n",
              "      <td>0.0</td>\n",
              "      <td>0.0</td>\n",
              "      <td>1.00</td>\n",
              "      <td>3.00</td>\n",
              "      <td>24.00</td>\n",
              "    </tr>\n",
              "  </tbody>\n",
              "</table>\n",
              "</div>\n",
              "      <button class=\"colab-df-convert\" onclick=\"convertToInteractive('df-fa0247fa-cd0b-492f-80ae-c001b9976c8f')\"\n",
              "              title=\"Convert this dataframe to an interactive table.\"\n",
              "              style=\"display:none;\">\n",
              "        \n",
              "  <svg xmlns=\"http://www.w3.org/2000/svg\" height=\"24px\"viewBox=\"0 0 24 24\"\n",
              "       width=\"24px\">\n",
              "    <path d=\"M0 0h24v24H0V0z\" fill=\"none\"/>\n",
              "    <path d=\"M18.56 5.44l.94 2.06.94-2.06 2.06-.94-2.06-.94-.94-2.06-.94 2.06-2.06.94zm-11 1L8.5 8.5l.94-2.06 2.06-.94-2.06-.94L8.5 2.5l-.94 2.06-2.06.94zm10 10l.94 2.06.94-2.06 2.06-.94-2.06-.94-.94-2.06-.94 2.06-2.06.94z\"/><path d=\"M17.41 7.96l-1.37-1.37c-.4-.4-.92-.59-1.43-.59-.52 0-1.04.2-1.43.59L10.3 9.45l-7.72 7.72c-.78.78-.78 2.05 0 2.83L4 21.41c.39.39.9.59 1.41.59.51 0 1.02-.2 1.41-.59l7.78-7.78 2.81-2.81c.8-.78.8-2.07 0-2.86zM5.41 20L4 18.59l7.72-7.72 1.47 1.35L5.41 20z\"/>\n",
              "  </svg>\n",
              "      </button>\n",
              "      \n",
              "  <style>\n",
              "    .colab-df-container {\n",
              "      display:flex;\n",
              "      flex-wrap:wrap;\n",
              "      gap: 12px;\n",
              "    }\n",
              "\n",
              "    .colab-df-convert {\n",
              "      background-color: #E8F0FE;\n",
              "      border: none;\n",
              "      border-radius: 50%;\n",
              "      cursor: pointer;\n",
              "      display: none;\n",
              "      fill: #1967D2;\n",
              "      height: 32px;\n",
              "      padding: 0 0 0 0;\n",
              "      width: 32px;\n",
              "    }\n",
              "\n",
              "    .colab-df-convert:hover {\n",
              "      background-color: #E2EBFA;\n",
              "      box-shadow: 0px 1px 2px rgba(60, 64, 67, 0.3), 0px 1px 3px 1px rgba(60, 64, 67, 0.15);\n",
              "      fill: #174EA6;\n",
              "    }\n",
              "\n",
              "    [theme=dark] .colab-df-convert {\n",
              "      background-color: #3B4455;\n",
              "      fill: #D2E3FC;\n",
              "    }\n",
              "\n",
              "    [theme=dark] .colab-df-convert:hover {\n",
              "      background-color: #434B5C;\n",
              "      box-shadow: 0px 1px 3px 1px rgba(0, 0, 0, 0.15);\n",
              "      filter: drop-shadow(0px 1px 2px rgba(0, 0, 0, 0.3));\n",
              "      fill: #FFFFFF;\n",
              "    }\n",
              "  </style>\n",
              "\n",
              "      <script>\n",
              "        const buttonEl =\n",
              "          document.querySelector('#df-fa0247fa-cd0b-492f-80ae-c001b9976c8f button.colab-df-convert');\n",
              "        buttonEl.style.display =\n",
              "          google.colab.kernel.accessAllowed ? 'block' : 'none';\n",
              "\n",
              "        async function convertToInteractive(key) {\n",
              "          const element = document.querySelector('#df-fa0247fa-cd0b-492f-80ae-c001b9976c8f');\n",
              "          const dataTable =\n",
              "            await google.colab.kernel.invokeFunction('convertToInteractive',\n",
              "                                                     [key], {});\n",
              "          if (!dataTable) return;\n",
              "\n",
              "          const docLinkHtml = 'Like what you see? Visit the ' +\n",
              "            '<a target=\"_blank\" href=https://colab.research.google.com/notebooks/data_table.ipynb>data table notebook</a>'\n",
              "            + ' to learn more about interactive tables.';\n",
              "          element.innerHTML = '';\n",
              "          dataTable['output_type'] = 'display_data';\n",
              "          await google.colab.output.renderOutput(dataTable, element);\n",
              "          const docLink = document.createElement('div');\n",
              "          docLink.innerHTML = docLinkHtml;\n",
              "          element.appendChild(docLink);\n",
              "        }\n",
              "      </script>\n",
              "    </div>\n",
              "  </div>\n",
              "  "
            ]
          },
          "metadata": {},
          "execution_count": 761
        }
      ]
    },
    {
      "cell_type": "code",
      "source": [
        "df['ltv_cliente'].hist(bins=20)"
      ],
      "metadata": {
        "colab": {
          "base_uri": "https://localhost:8080/",
          "height": 543
        },
        "id": "F2Ui4QlBO45L",
        "outputId": "079f2cbc-4fe3-4a05-9e61-3d104e56e6d3"
      },
      "execution_count": 762,
      "outputs": [
        {
          "output_type": "execute_result",
          "data": {
            "text/plain": [
              "<Axes: >"
            ]
          },
          "metadata": {},
          "execution_count": 762
        },
        {
          "output_type": "display_data",
          "data": {
            "text/plain": [
              "<Figure size 900x600 with 1 Axes>"
            ],
            "image/png": "[encoded data removed]"
          },
          "metadata": {
            "image/png": {
              "width": 788,
              "height": 509
            }
          }
        }
      ]
    },
    {
      "cell_type": "code",
      "source": [
        "df.groupby(['transaction_status']).count()"
      ],
      "metadata": {
        "colab": {
          "base_uri": "https://localhost:8080/",
          "height": 205
        },
        "id": "ywNKB60kP4Zv",
        "outputId": "2d6a422c-6619-43ae-a377-67e71559c73e"
      },
      "execution_count": 763,
      "outputs": [
        {
          "output_type": "execute_result",
          "data": {
            "text/plain": [
              "                    email_cliente  nome_cliente  transaction_id  data_pedido  \\\n",
              "transaction_status                                                             \n",
              "approved                   193367        193367          193366       193367   \n",
              "\n",
              "                    valor_venda  nome_produto  oferta    cep    pais  estado  \\\n",
              "transaction_status                                                             \n",
              "approved                 193367        193366  185841  93669  186426   93673   \n",
              "\n",
              "                    ...  utm_campaign  utm_term  utm_content  email_pesquisa  \\\n",
              "transaction_status  ...                                                        \n",
              "approved            ...         33031       145        92618           51732   \n",
              "\n",
              "                    metodo_pagamento  email_primeira_captura  \\\n",
              "transaction_status                                             \n",
              "approved                      193367                   67299   \n",
              "\n",
              "                    data_priemeira_captura  origem_primeira_captura  \\\n",
              "transaction_status                                                    \n",
              "approved                             67299                    66548   \n",
              "\n",
              "                    evento_primeira_captura  telefone  \n",
              "transaction_status                                     \n",
              "approved                              67299     45305  \n",
              "\n",
              "[1 rows x 38 columns]"
            ],
            "text/html": [
              "\n",
              "  <div id=\"df-d114a914-3c9c-41fa-a06a-dfd743866031\">\n",
              "    <div class=\"colab-df-container\">\n",
              "      <div>\n",
              "<style scoped>\n",
              "    .dataframe tbody tr th:only-of-type {\n",
              "        vertical-align: middle;\n",
              "    }\n",
              "\n",
              "    .dataframe tbody tr th {\n",
              "        vertical-align: top;\n",
              "    }\n",
              "\n",
              "    .dataframe thead th {\n",
              "        text-align: right;\n",
              "    }\n",
              "</style>\n",
              "<table border=\"1\" class=\"dataframe\">\n",
              "  <thead>\n",
              "    <tr style=\"text-align: right;\">\n",
              "      <th></th>\n",
              "      <th>email_cliente</th>\n",
              "      <th>nome_cliente</th>\n",
              "      <th>transaction_id</th>\n",
              "      <th>data_pedido</th>\n",
              "      <th>valor_venda</th>\n",
              "      <th>nome_produto</th>\n",
              "      <th>oferta</th>\n",
              "      <th>cep</th>\n",
              "      <th>pais</th>\n",
              "      <th>estado</th>\n",
              "      <th>...</th>\n",
              "      <th>utm_campaign</th>\n",
              "      <th>utm_term</th>\n",
              "      <th>utm_content</th>\n",
              "      <th>email_pesquisa</th>\n",
              "      <th>metodo_pagamento</th>\n",
              "      <th>email_primeira_captura</th>\n",
              "      <th>data_priemeira_captura</th>\n",
              "      <th>origem_primeira_captura</th>\n",
              "      <th>evento_primeira_captura</th>\n",
              "      <th>telefone</th>\n",
              "    </tr>\n",
              "    <tr>\n",
              "      <th>transaction_status</th>\n",
              "      <th></th>\n",
              "      <th></th>\n",
              "      <th></th>\n",
              "      <th></th>\n",
              "      <th></th>\n",
              "      <th></th>\n",
              "      <th></th>\n",
              "      <th></th>\n",
              "      <th></th>\n",
              "      <th></th>\n",
              "      <th></th>\n",
              "      <th></th>\n",
              "      <th></th>\n",
              "      <th></th>\n",
              "      <th></th>\n",
              "      <th></th>\n",
              "      <th></th>\n",
              "      <th></th>\n",
              "      <th></th>\n",
              "      <th></th>\n",
              "      <th></th>\n",
              "    </tr>\n",
              "  </thead>\n",
              "  <tbody>\n",
              "    <tr>\n",
              "      <th>approved</th>\n",
              "      <td>193367</td>\n",
              "      <td>193367</td>\n",
              "      <td>193366</td>\n",
              "      <td>193367</td>\n",
              "      <td>193367</td>\n",
              "      <td>193366</td>\n",
              "      <td>185841</td>\n",
              "      <td>93669</td>\n",
              "      <td>186426</td>\n",
              "      <td>93673</td>\n",
              "      <td>...</td>\n",
              "      <td>33031</td>\n",
              "      <td>145</td>\n",
              "      <td>92618</td>\n",
              "      <td>51732</td>\n",
              "      <td>193367</td>\n",
              "      <td>67299</td>\n",
              "      <td>67299</td>\n",
              "      <td>66548</td>\n",
              "      <td>67299</td>\n",
              "      <td>45305</td>\n",
              "    </tr>\n",
              "  </tbody>\n",
              "</table>\n",
              "<p>1 rows × 38 columns</p>\n",
              "</div>\n",
              "      <button class=\"colab-df-convert\" onclick=\"convertToInteractive('df-d114a914-3c9c-41fa-a06a-dfd743866031')\"\n",
              "              title=\"Convert this dataframe to an interactive table.\"\n",
              "              style=\"display:none;\">\n",
              "        \n",
              "  <svg xmlns=\"http://www.w3.org/2000/svg\" height=\"24px\"viewBox=\"0 0 24 24\"\n",
              "       width=\"24px\">\n",
              "    <path d=\"M0 0h24v24H0V0z\" fill=\"none\"/>\n",
              "    <path d=\"M18.56 5.44l.94 2.06.94-2.06 2.06-.94-2.06-.94-.94-2.06-.94 2.06-2.06.94zm-11 1L8.5 8.5l.94-2.06 2.06-.94-2.06-.94L8.5 2.5l-.94 2.06-2.06.94zm10 10l.94 2.06.94-2.06 2.06-.94-2.06-.94-.94-2.06-.94 2.06-2.06.94z\"/><path d=\"M17.41 7.96l-1.37-1.37c-.4-.4-.92-.59-1.43-.59-.52 0-1.04.2-1.43.59L10.3 9.45l-7.72 7.72c-.78.78-.78 2.05 0 2.83L4 21.41c.39.39.9.59 1.41.59.51 0 1.02-.2 1.41-.59l7.78-7.78 2.81-2.81c.8-.78.8-2.07 0-2.86zM5.41 20L4 18.59l7.72-7.72 1.47 1.35L5.41 20z\"/>\n",
              "  </svg>\n",
              "      </button>\n",
              "      \n",
              "  <style>\n",
              "    .colab-df-container {\n",
              "      display:flex;\n",
              "      flex-wrap:wrap;\n",
              "      gap: 12px;\n",
              "    }\n",
              "\n",
              "    .colab-df-convert {\n",
              "      background-color: #E8F0FE;\n",
              "      border: none;\n",
              "      border-radius: 50%;\n",
              "      cursor: pointer;\n",
              "      display: none;\n",
              "      fill: #1967D2;\n",
              "      height: 32px;\n",
              "      padding: 0 0 0 0;\n",
              "      width: 32px;\n",
              "    }\n",
              "\n",
              "    .colab-df-convert:hover {\n",
              "      background-color: #E2EBFA;\n",
              "      box-shadow: 0px 1px 2px rgba(60, 64, 67, 0.3), 0px 1px 3px 1px rgba(60, 64, 67, 0.15);\n",
              "      fill: #174EA6;\n",
              "    }\n",
              "\n",
              "    [theme=dark] .colab-df-convert {\n",
              "      background-color: #3B4455;\n",
              "      fill: #D2E3FC;\n",
              "    }\n",
              "\n",
              "    [theme=dark] .colab-df-convert:hover {\n",
              "      background-color: #434B5C;\n",
              "      box-shadow: 0px 1px 3px 1px rgba(0, 0, 0, 0.15);\n",
              "      filter: drop-shadow(0px 1px 2px rgba(0, 0, 0, 0.3));\n",
              "      fill: #FFFFFF;\n",
              "    }\n",
              "  </style>\n",
              "\n",
              "      <script>\n",
              "        const buttonEl =\n",
              "          document.querySelector('#df-d114a914-3c9c-41fa-a06a-dfd743866031 button.colab-df-convert');\n",
              "        buttonEl.style.display =\n",
              "          google.colab.kernel.accessAllowed ? 'block' : 'none';\n",
              "\n",
              "        async function convertToInteractive(key) {\n",
              "          const element = document.querySelector('#df-d114a914-3c9c-41fa-a06a-dfd743866031');\n",
              "          const dataTable =\n",
              "            await google.colab.kernel.invokeFunction('convertToInteractive',\n",
              "                                                     [key], {});\n",
              "          if (!dataTable) return;\n",
              "\n",
              "          const docLinkHtml = 'Like what you see? Visit the ' +\n",
              "            '<a target=\"_blank\" href=https://colab.research.google.com/notebooks/data_table.ipynb>data table notebook</a>'\n",
              "            + ' to learn more about interactive tables.';\n",
              "          element.innerHTML = '';\n",
              "          dataTable['output_type'] = 'display_data';\n",
              "          await google.colab.output.renderOutput(dataTable, element);\n",
              "          const docLink = document.createElement('div');\n",
              "          docLink.innerHTML = docLinkHtml;\n",
              "          element.appendChild(docLink);\n",
              "        }\n",
              "      </script>\n",
              "    </div>\n",
              "  </div>\n",
              "  "
            ]
          },
          "metadata": {},
          "execution_count": 763
        }
      ]
    },
    {
      "cell_type": "code",
      "source": [
        "df.groupby(['nome_produto']).count()"
      ],
      "metadata": {
        "colab": {
          "base_uri": "https://localhost:8080/",
          "height": 779
        },
        "id": "slENeMkcQeFP",
        "outputId": "4e2e389b-f16a-4294-8c5f-e1056e68674b"
      },
      "execution_count": 764,
      "outputs": [
        {
          "output_type": "execute_result",
          "data": {
            "text/plain": [
              "                                             email_cliente  nome_cliente  \\\n",
              "nome_produto                                                               \n",
              "Acesso Cozinha Vitascience                               5             5   \n",
              "Bela Vita                                              607           607   \n",
              "Belavita - Kit com 3 Potes                             397           397   \n",
              "Belavita - Kit com 5 Potes                               6             6   \n",
              "Belavita - Kit com 8 Potes                             127           127   \n",
              "...                                                    ...           ...   \n",
              "Ômega Vita - Kit com 7 Potes                             6             6   \n",
              "Ômega Vita - Kit com 7 Potes (Frete grátis)            191           191   \n",
              "Ômega Vita - Kit com 8 Potes                           340           340   \n",
              "Ômega Vita - Pote Unitário                              96            96   \n",
              "Ômega Vita - Pote Unitário (Frete grátis)              696           696   \n",
              "\n",
              "                                             transaction_status  \\\n",
              "nome_produto                                                      \n",
              "Acesso Cozinha Vitascience                                    5   \n",
              "Bela Vita                                                   607   \n",
              "Belavita - Kit com 3 Potes                                  397   \n",
              "Belavita - Kit com 5 Potes                                    6   \n",
              "Belavita - Kit com 8 Potes                                  127   \n",
              "...                                                         ...   \n",
              "Ômega Vita - Kit com 7 Potes                                  6   \n",
              "Ômega Vita - Kit com 7 Potes (Frete grátis)                 191   \n",
              "Ômega Vita - Kit com 8 Potes                                340   \n",
              "Ômega Vita - Pote Unitário                                   96   \n",
              "Ômega Vita - Pote Unitário (Frete grátis)                   696   \n",
              "\n",
              "                                             transaction_id  data_pedido  \\\n",
              "nome_produto                                                               \n",
              "Acesso Cozinha Vitascience                                5            5   \n",
              "Bela Vita                                               607          607   \n",
              "Belavita - Kit com 3 Potes                              397          397   \n",
              "Belavita - Kit com 5 Potes                                6            6   \n",
              "Belavita - Kit com 8 Potes                              127          127   \n",
              "...                                                     ...          ...   \n",
              "Ômega Vita - Kit com 7 Potes                              6            6   \n",
              "Ômega Vita - Kit com 7 Potes (Frete grátis)             191          191   \n",
              "Ômega Vita - Kit com 8 Potes                            340          340   \n",
              "Ômega Vita - Pote Unitário                               96           96   \n",
              "Ômega Vita - Pote Unitário (Frete grátis)               696          696   \n",
              "\n",
              "                                             valor_venda  oferta  cep  pais  \\\n",
              "nome_produto                                                                  \n",
              "Acesso Cozinha Vitascience                             5       5    5     5   \n",
              "Bela Vita                                            607     607  607   607   \n",
              "Belavita - Kit com 3 Potes                           397     397  397   397   \n",
              "Belavita - Kit com 5 Potes                             6       6    6     6   \n",
              "Belavita - Kit com 8 Potes                           127     127  127   127   \n",
              "...                                                  ...     ...  ...   ...   \n",
              "Ômega Vita - Kit com 7 Potes                           6       6    6     6   \n",
              "Ômega Vita - Kit com 7 Potes (Frete grátis)          191     191  191   191   \n",
              "Ômega Vita - Kit com 8 Potes                         340     340  340   340   \n",
              "Ômega Vita - Pote Unitário                            96      96   96    96   \n",
              "Ômega Vita - Pote Unitário (Frete grátis)            696     696  696   696   \n",
              "\n",
              "                                             estado  ...  utm_campaign  \\\n",
              "nome_produto                                         ...                 \n",
              "Acesso Cozinha Vitascience                        5  ...             5   \n",
              "Bela Vita                                       607  ...           463   \n",
              "Belavita - Kit com 3 Potes                      397  ...           387   \n",
              "Belavita - Kit com 5 Potes                        6  ...             4   \n",
              "Belavita - Kit com 8 Potes                      127  ...           123   \n",
              "...                                             ...  ...           ...   \n",
              "Ômega Vita - Kit com 7 Potes                      6  ...             2   \n",
              "Ômega Vita - Kit com 7 Potes (Frete grátis)     191  ...            60   \n",
              "Ômega Vita - Kit com 8 Potes                    340  ...           317   \n",
              "Ômega Vita - Pote Unitário                       96  ...            46   \n",
              "Ômega Vita - Pote Unitário (Frete grátis)       696  ...           154   \n",
              "\n",
              "                                             utm_term  utm_content  \\\n",
              "nome_produto                                                         \n",
              "Acesso Cozinha Vitascience                          1            4   \n",
              "Bela Vita                                           0          363   \n",
              "Belavita - Kit com 3 Potes                          0          236   \n",
              "Belavita - Kit com 5 Potes                          0            4   \n",
              "Belavita - Kit com 8 Potes                          0           80   \n",
              "...                                               ...          ...   \n",
              "Ômega Vita - Kit com 7 Potes                        0            1   \n",
              "Ômega Vita - Kit com 7 Potes (Frete grátis)         0          130   \n",
              "Ômega Vita - Kit com 8 Potes                        0          275   \n",
              "Ômega Vita - Pote Unitário                          0           35   \n",
              "Ômega Vita - Pote Unitário (Frete grátis)           0          506   \n",
              "\n",
              "                                             email_pesquisa  metodo_pagamento  \\\n",
              "nome_produto                                                                    \n",
              "Acesso Cozinha Vitascience                                4                 5   \n",
              "Bela Vita                                               319               607   \n",
              "Belavita - Kit com 3 Potes                              212               397   \n",
              "Belavita - Kit com 5 Potes                                0                 6   \n",
              "Belavita - Kit com 8 Potes                               68               127   \n",
              "...                                                     ...               ...   \n",
              "Ômega Vita - Kit com 7 Potes                              4                 6   \n",
              "Ômega Vita - Kit com 7 Potes (Frete grátis)             107               191   \n",
              "Ômega Vita - Kit com 8 Potes                            171               340   \n",
              "Ômega Vita - Pote Unitário                               38                96   \n",
              "Ômega Vita - Pote Unitário (Frete grátis)               352               696   \n",
              "\n",
              "                                             email_primeira_captura  \\\n",
              "nome_produto                                                          \n",
              "Acesso Cozinha Vitascience                                        4   \n",
              "Bela Vita                                                       437   \n",
              "Belavita - Kit com 3 Potes                                      263   \n",
              "Belavita - Kit com 5 Potes                                        4   \n",
              "Belavita - Kit com 8 Potes                                       93   \n",
              "...                                                             ...   \n",
              "Ômega Vita - Kit com 7 Potes                                      5   \n",
              "Ômega Vita - Kit com 7 Potes (Frete grátis)                     122   \n",
              "Ômega Vita - Kit com 8 Potes                                    239   \n",
              "Ômega Vita - Pote Unitário                                       52   \n",
              "Ômega Vita - Pote Unitário (Frete grátis)                       415   \n",
              "\n",
              "                                             data_priemeira_captura  \\\n",
              "nome_produto                                                          \n",
              "Acesso Cozinha Vitascience                                        4   \n",
              "Bela Vita                                                       437   \n",
              "Belavita - Kit com 3 Potes                                      263   \n",
              "Belavita - Kit com 5 Potes                                        4   \n",
              "Belavita - Kit com 8 Potes                                       93   \n",
              "...                                                             ...   \n",
              "Ômega Vita - Kit com 7 Potes                                      5   \n",
              "Ômega Vita - Kit com 7 Potes (Frete grátis)                     122   \n",
              "Ômega Vita - Kit com 8 Potes                                    239   \n",
              "Ômega Vita - Pote Unitário                                       52   \n",
              "Ômega Vita - Pote Unitário (Frete grátis)                       415   \n",
              "\n",
              "                                             origem_primeira_captura  \\\n",
              "nome_produto                                                           \n",
              "Acesso Cozinha Vitascience                                         4   \n",
              "Bela Vita                                                        432   \n",
              "Belavita - Kit com 3 Potes                                       259   \n",
              "Belavita - Kit com 5 Potes                                         4   \n",
              "Belavita - Kit com 8 Potes                                        93   \n",
              "...                                                              ...   \n",
              "Ômega Vita - Kit com 7 Potes                                       5   \n",
              "Ômega Vita - Kit com 7 Potes (Frete grátis)                      121   \n",
              "Ômega Vita - Kit com 8 Potes                                     237   \n",
              "Ômega Vita - Pote Unitário                                        52   \n",
              "Ômega Vita - Pote Unitário (Frete grátis)                        414   \n",
              "\n",
              "                                             evento_primeira_captura  telefone  \n",
              "nome_produto                                                                    \n",
              "Acesso Cozinha Vitascience                                         4         3  \n",
              "Bela Vita                                                        437       303  \n",
              "Belavita - Kit com 3 Potes                                       263       195  \n",
              "Belavita - Kit com 5 Potes                                         4         0  \n",
              "Belavita - Kit com 8 Potes                                        93        64  \n",
              "...                                                              ...       ...  \n",
              "Ômega Vita - Kit com 7 Potes                                       5         4  \n",
              "Ômega Vita - Kit com 7 Potes (Frete grátis)                      122        99  \n",
              "Ômega Vita - Kit com 8 Potes                                     239       164  \n",
              "Ômega Vita - Pote Unitário                                        52        35  \n",
              "Ômega Vita - Pote Unitário (Frete grátis)                        415       328  \n",
              "\n",
              "[229 rows x 38 columns]"
            ],
            "text/html": [
              "\n",
              "  <div id=\"df-43dc20d0-2248-4e38-bfbc-adb079c707fc\">\n",
              "    <div class=\"colab-df-container\">\n",
              "      <div>\n",
              "<style scoped>\n",
              "    .dataframe tbody tr th:only-of-type {\n",
              "        vertical-align: middle;\n",
              "    }\n",
              "\n",
              "    .dataframe tbody tr th {\n",
              "        vertical-align: top;\n",
              "    }\n",
              "\n",
              "    .dataframe thead th {\n",
              "        text-align: right;\n",
              "    }\n",
              "</style>\n",
              "<table border=\"1\" class=\"dataframe\">\n",
              "  <thead>\n",
              "    <tr style=\"text-align: right;\">\n",
              "      <th></th>\n",
              "      <th>email_cliente</th>\n",
              "      <th>nome_cliente</th>\n",
              "      <th>transaction_status</th>\n",
              "      <th>transaction_id</th>\n",
              "      <th>data_pedido</th>\n",
              "      <th>valor_venda</th>\n",
              "      <th>oferta</th>\n",
              "      <th>cep</th>\n",
              "      <th>pais</th>\n",
              "      <th>estado</th>\n",
              "      <th>...</th>\n",
              "      <th>utm_campaign</th>\n",
              "      <th>utm_term</th>\n",
              "      <th>utm_content</th>\n",
              "      <th>email_pesquisa</th>\n",
              "      <th>metodo_pagamento</th>\n",
              "      <th>email_primeira_captura</th>\n",
              "      <th>data_priemeira_captura</th>\n",
              "      <th>origem_primeira_captura</th>\n",
              "      <th>evento_primeira_captura</th>\n",
              "      <th>telefone</th>\n",
              "    </tr>\n",
              "    <tr>\n",
              "      <th>nome_produto</th>\n",
              "      <th></th>\n",
              "      <th></th>\n",
              "      <th></th>\n",
              "      <th></th>\n",
              "      <th></th>\n",
              "      <th></th>\n",
              "      <th></th>\n",
              "      <th></th>\n",
              "      <th></th>\n",
              "      <th></th>\n",
              "      <th></th>\n",
              "      <th></th>\n",
              "      <th></th>\n",
              "      <th></th>\n",
              "      <th></th>\n",
              "      <th></th>\n",
              "      <th></th>\n",
              "      <th></th>\n",
              "      <th></th>\n",
              "      <th></th>\n",
              "      <th></th>\n",
              "    </tr>\n",
              "  </thead>\n",
              "  <tbody>\n",
              "    <tr>\n",
              "      <th>Acesso Cozinha Vitascience</th>\n",
              "      <td>5</td>\n",
              "      <td>5</td>\n",
              "      <td>5</td>\n",
              "      <td>5</td>\n",
              "      <td>5</td>\n",
              "      <td>5</td>\n",
              "      <td>5</td>\n",
              "      <td>5</td>\n",
              "      <td>5</td>\n",
              "      <td>5</td>\n",
              "      <td>...</td>\n",
              "      <td>5</td>\n",
              "      <td>1</td>\n",
              "      <td>4</td>\n",
              "      <td>4</td>\n",
              "      <td>5</td>\n",
              "      <td>4</td>\n",
              "      <td>4</td>\n",
              "      <td>4</td>\n",
              "      <td>4</td>\n",
              "      <td>3</td>\n",
              "    </tr>\n",
              "    <tr>\n",
              "      <th>Bela Vita</th>\n",
              "      <td>607</td>\n",
              "      <td>607</td>\n",
              "      <td>607</td>\n",
              "      <td>607</td>\n",
              "      <td>607</td>\n",
              "      <td>607</td>\n",
              "      <td>607</td>\n",
              "      <td>607</td>\n",
              "      <td>607</td>\n",
              "      <td>607</td>\n",
              "      <td>...</td>\n",
              "      <td>463</td>\n",
              "      <td>0</td>\n",
              "      <td>363</td>\n",
              "      <td>319</td>\n",
              "      <td>607</td>\n",
              "      <td>437</td>\n",
              "      <td>437</td>\n",
              "      <td>432</td>\n",
              "      <td>437</td>\n",
              "      <td>303</td>\n",
              "    </tr>\n",
              "    <tr>\n",
              "      <th>Belavita - Kit com 3 Potes</th>\n",
              "      <td>397</td>\n",
              "      <td>397</td>\n",
              "      <td>397</td>\n",
              "      <td>397</td>\n",
              "      <td>397</td>\n",
              "      <td>397</td>\n",
              "      <td>397</td>\n",
              "      <td>397</td>\n",
              "      <td>397</td>\n",
              "      <td>397</td>\n",
              "      <td>...</td>\n",
              "      <td>387</td>\n",
              "      <td>0</td>\n",
              "      <td>236</td>\n",
              "      <td>212</td>\n",
              "      <td>397</td>\n",
              "      <td>263</td>\n",
              "      <td>263</td>\n",
              "      <td>259</td>\n",
              "      <td>263</td>\n",
              "      <td>195</td>\n",
              "    </tr>\n",
              "    <tr>\n",
              "      <th>Belavita - Kit com 5 Potes</th>\n",
              "      <td>6</td>\n",
              "      <td>6</td>\n",
              "      <td>6</td>\n",
              "      <td>6</td>\n",
              "      <td>6</td>\n",
              "      <td>6</td>\n",
              "      <td>6</td>\n",
              "      <td>6</td>\n",
              "      <td>6</td>\n",
              "      <td>6</td>\n",
              "      <td>...</td>\n",
              "      <td>4</td>\n",
              "      <td>0</td>\n",
              "      <td>4</td>\n",
              "      <td>0</td>\n",
              "      <td>6</td>\n",
              "      <td>4</td>\n",
              "      <td>4</td>\n",
              "      <td>4</td>\n",
              "      <td>4</td>\n",
              "      <td>0</td>\n",
              "    </tr>\n",
              "    <tr>\n",
              "      <th>Belavita - Kit com 8 Potes</th>\n",
              "      <td>127</td>\n",
              "      <td>127</td>\n",
              "      <td>127</td>\n",
              "      <td>127</td>\n",
              "      <td>127</td>\n",
              "      <td>127</td>\n",
              "      <td>127</td>\n",
              "      <td>127</td>\n",
              "      <td>127</td>\n",
              "      <td>127</td>\n",
              "      <td>...</td>\n",
              "      <td>123</td>\n",
              "      <td>0</td>\n",
              "      <td>80</td>\n",
              "      <td>68</td>\n",
              "      <td>127</td>\n",
              "      <td>93</td>\n",
              "      <td>93</td>\n",
              "      <td>93</td>\n",
              "      <td>93</td>\n",
              "      <td>64</td>\n",
              "    </tr>\n",
              "    <tr>\n",
              "      <th>...</th>\n",
              "      <td>...</td>\n",
              "      <td>...</td>\n",
              "      <td>...</td>\n",
              "      <td>...</td>\n",
              "      <td>...</td>\n",
              "      <td>...</td>\n",
              "      <td>...</td>\n",
              "      <td>...</td>\n",
              "      <td>...</td>\n",
              "      <td>...</td>\n",
              "      <td>...</td>\n",
              "      <td>...</td>\n",
              "      <td>...</td>\n",
              "      <td>...</td>\n",
              "      <td>...</td>\n",
              "      <td>...</td>\n",
              "      <td>...</td>\n",
              "      <td>...</td>\n",
              "      <td>...</td>\n",
              "      <td>...</td>\n",
              "      <td>...</td>\n",
              "    </tr>\n",
              "    <tr>\n",
              "      <th>Ômega Vita - Kit com 7 Potes</th>\n",
              "      <td>6</td>\n",
              "      <td>6</td>\n",
              "      <td>6</td>\n",
              "      <td>6</td>\n",
              "      <td>6</td>\n",
              "      <td>6</td>\n",
              "      <td>6</td>\n",
              "      <td>6</td>\n",
              "      <td>6</td>\n",
              "      <td>6</td>\n",
              "      <td>...</td>\n",
              "      <td>2</td>\n",
              "      <td>0</td>\n",
              "      <td>1</td>\n",
              "      <td>4</td>\n",
              "      <td>6</td>\n",
              "      <td>5</td>\n",
              "      <td>5</td>\n",
              "      <td>5</td>\n",
              "      <td>5</td>\n",
              "      <td>4</td>\n",
              "    </tr>\n",
              "    <tr>\n",
              "      <th>Ômega Vita - Kit com 7 Potes (Frete grátis)</th>\n",
              "      <td>191</td>\n",
              "      <td>191</td>\n",
              "      <td>191</td>\n",
              "      <td>191</td>\n",
              "      <td>191</td>\n",
              "      <td>191</td>\n",
              "      <td>191</td>\n",
              "      <td>191</td>\n",
              "      <td>191</td>\n",
              "      <td>191</td>\n",
              "      <td>...</td>\n",
              "      <td>60</td>\n",
              "      <td>0</td>\n",
              "      <td>130</td>\n",
              "      <td>107</td>\n",
              "      <td>191</td>\n",
              "      <td>122</td>\n",
              "      <td>122</td>\n",
              "      <td>121</td>\n",
              "      <td>122</td>\n",
              "      <td>99</td>\n",
              "    </tr>\n",
              "    <tr>\n",
              "      <th>Ômega Vita - Kit com 8 Potes</th>\n",
              "      <td>340</td>\n",
              "      <td>340</td>\n",
              "      <td>340</td>\n",
              "      <td>340</td>\n",
              "      <td>340</td>\n",
              "      <td>340</td>\n",
              "      <td>340</td>\n",
              "      <td>340</td>\n",
              "      <td>340</td>\n",
              "      <td>340</td>\n",
              "      <td>...</td>\n",
              "      <td>317</td>\n",
              "      <td>0</td>\n",
              "      <td>275</td>\n",
              "      <td>171</td>\n",
              "      <td>340</td>\n",
              "      <td>239</td>\n",
              "      <td>239</td>\n",
              "      <td>237</td>\n",
              "      <td>239</td>\n",
              "      <td>164</td>\n",
              "    </tr>\n",
              "    <tr>\n",
              "      <th>Ômega Vita - Pote Unitário</th>\n",
              "      <td>96</td>\n",
              "      <td>96</td>\n",
              "      <td>96</td>\n",
              "      <td>96</td>\n",
              "      <td>96</td>\n",
              "      <td>96</td>\n",
              "      <td>96</td>\n",
              "      <td>96</td>\n",
              "      <td>96</td>\n",
              "      <td>96</td>\n",
              "      <td>...</td>\n",
              "      <td>46</td>\n",
              "      <td>0</td>\n",
              "      <td>35</td>\n",
              "      <td>38</td>\n",
              "      <td>96</td>\n",
              "      <td>52</td>\n",
              "      <td>52</td>\n",
              "      <td>52</td>\n",
              "      <td>52</td>\n",
              "      <td>35</td>\n",
              "    </tr>\n",
              "    <tr>\n",
              "      <th>Ômega Vita - Pote Unitário (Frete grátis)</th>\n",
              "      <td>696</td>\n",
              "      <td>696</td>\n",
              "      <td>696</td>\n",
              "      <td>696</td>\n",
              "      <td>696</td>\n",
              "      <td>696</td>\n",
              "      <td>696</td>\n",
              "      <td>696</td>\n",
              "      <td>696</td>\n",
              "      <td>696</td>\n",
              "      <td>...</td>\n",
              "      <td>154</td>\n",
              "      <td>0</td>\n",
              "      <td>506</td>\n",
              "      <td>352</td>\n",
              "      <td>696</td>\n",
              "      <td>415</td>\n",
              "      <td>415</td>\n",
              "      <td>414</td>\n",
              "      <td>415</td>\n",
              "      <td>328</td>\n",
              "    </tr>\n",
              "  </tbody>\n",
              "</table>\n",
              "<p>229 rows × 38 columns</p>\n",
              "</div>\n",
              "      <button class=\"colab-df-convert\" onclick=\"convertToInteractive('df-43dc20d0-2248-4e38-bfbc-adb079c707fc')\"\n",
              "              title=\"Convert this dataframe to an interactive table.\"\n",
              "              style=\"display:none;\">\n",
              "        \n",
              "  <svg xmlns=\"http://www.w3.org/2000/svg\" height=\"24px\"viewBox=\"0 0 24 24\"\n",
              "       width=\"24px\">\n",
              "    <path d=\"M0 0h24v24H0V0z\" fill=\"none\"/>\n",
              "    <path d=\"M18.56 5.44l.94 2.06.94-2.06 2.06-.94-2.06-.94-.94-2.06-.94 2.06-2.06.94zm-11 1L8.5 8.5l.94-2.06 2.06-.94-2.06-.94L8.5 2.5l-.94 2.06-2.06.94zm10 10l.94 2.06.94-2.06 2.06-.94-2.06-.94-.94-2.06-.94 2.06-2.06.94z\"/><path d=\"M17.41 7.96l-1.37-1.37c-.4-.4-.92-.59-1.43-.59-.52 0-1.04.2-1.43.59L10.3 9.45l-7.72 7.72c-.78.78-.78 2.05 0 2.83L4 21.41c.39.39.9.59 1.41.59.51 0 1.02-.2 1.41-.59l7.78-7.78 2.81-2.81c.8-.78.8-2.07 0-2.86zM5.41 20L4 18.59l7.72-7.72 1.47 1.35L5.41 20z\"/>\n",
              "  </svg>\n",
              "      </button>\n",
              "      \n",
              "  <style>\n",
              "    .colab-df-container {\n",
              "      display:flex;\n",
              "      flex-wrap:wrap;\n",
              "      gap: 12px;\n",
              "    }\n",
              "\n",
              "    .colab-df-convert {\n",
              "      background-color: #E8F0FE;\n",
              "      border: none;\n",
              "      border-radius: 50%;\n",
              "      cursor: pointer;\n",
              "      display: none;\n",
              "      fill: #1967D2;\n",
              "      height: 32px;\n",
              "      padding: 0 0 0 0;\n",
              "      width: 32px;\n",
              "    }\n",
              "\n",
              "    .colab-df-convert:hover {\n",
              "      background-color: #E2EBFA;\n",
              "      box-shadow: 0px 1px 2px rgba(60, 64, 67, 0.3), 0px 1px 3px 1px rgba(60, 64, 67, 0.15);\n",
              "      fill: #174EA6;\n",
              "    }\n",
              "\n",
              "    [theme=dark] .colab-df-convert {\n",
              "      background-color: #3B4455;\n",
              "      fill: #D2E3FC;\n",
              "    }\n",
              "\n",
              "    [theme=dark] .colab-df-convert:hover {\n",
              "      background-color: #434B5C;\n",
              "      box-shadow: 0px 1px 3px 1px rgba(0, 0, 0, 0.15);\n",
              "      filter: drop-shadow(0px 1px 2px rgba(0, 0, 0, 0.3));\n",
              "      fill: #FFFFFF;\n",
              "    }\n",
              "  </style>\n",
              "\n",
              "      <script>\n",
              "        const buttonEl =\n",
              "          document.querySelector('#df-43dc20d0-2248-4e38-bfbc-adb079c707fc button.colab-df-convert');\n",
              "        buttonEl.style.display =\n",
              "          google.colab.kernel.accessAllowed ? 'block' : 'none';\n",
              "\n",
              "        async function convertToInteractive(key) {\n",
              "          const element = document.querySelector('#df-43dc20d0-2248-4e38-bfbc-adb079c707fc');\n",
              "          const dataTable =\n",
              "            await google.colab.kernel.invokeFunction('convertToInteractive',\n",
              "                                                     [key], {});\n",
              "          if (!dataTable) return;\n",
              "\n",
              "          const docLinkHtml = 'Like what you see? Visit the ' +\n",
              "            '<a target=\"_blank\" href=https://colab.research.google.com/notebooks/data_table.ipynb>data table notebook</a>'\n",
              "            + ' to learn more about interactive tables.';\n",
              "          element.innerHTML = '';\n",
              "          dataTable['output_type'] = 'display_data';\n",
              "          await google.colab.output.renderOutput(dataTable, element);\n",
              "          const docLink = document.createElement('div');\n",
              "          docLink.innerHTML = docLinkHtml;\n",
              "          element.appendChild(docLink);\n",
              "        }\n",
              "      </script>\n",
              "    </div>\n",
              "  </div>\n",
              "  "
            ]
          },
          "metadata": {},
          "execution_count": 764
        }
      ]
    },
    {
      "cell_type": "code",
      "source": [
        "ax = df[['ltv_cliente']].plot(\n",
        "    kind='box',\n",
        "    grid=True, \n",
        "    figsize=(10, 10),\n",
        "\n",
        ")\n",
        "\n",
        "ax.set_ylabel('LTV clientes')\n",
        "ax.set_title('Valor do LTV de clientes (R$)')\n",
        "\n",
        "plt.show()"
      ],
      "metadata": {
        "colab": {
          "base_uri": "https://localhost:8080/",
          "height": 856
        },
        "id": "dBx6D9e0V5z5",
        "outputId": "81362f9c-1752-4f54-dcd4-e779f6dddd19"
      },
      "execution_count": 765,
      "outputs": [
        {
          "output_type": "display_data",
          "data": {
            "text/plain": [
              "<Figure size 1000x1000 with 1 Axes>"
            ],
            "image/png": "[encoded data removed]"
          },
          "metadata": {
            "image/png": {
              "width": 887,
              "height": 839
            }
          }
        }
      ]
    },
    {
      "cell_type": "code",
      "source": [
        "pd.DataFrame(\n",
        "    df.groupby(\n",
        "        by='primeiro_produto'\n",
        "    )['valor_primeira_compra', 'quantidade_produto'].sum()\n",
        ")"
      ],
      "metadata": {
        "colab": {
          "base_uri": "https://localhost:8080/",
          "height": 489
        },
        "id": "Mk6-sSuvYXE7",
        "outputId": "d5a88f43-1cf4-4421-a79c-72f6645408b7"
      },
      "execution_count": 766,
      "outputs": [
        {
          "output_type": "stream",
          "name": "stderr",
          "text": [
            "<ipython-input-766-3cb988a1427f>:2: FutureWarning: Indexing with multiple keys (implicitly converted to a tuple of keys) will be deprecated, use a list instead.\n",
            "  df.groupby(\n"
          ]
        },
        {
          "output_type": "execute_result",
          "data": {
            "text/plain": [
              "                                             valor_primeira_compra  \\\n",
              "primeiro_produto                                                     \n",
              "Bela Vita                                                 63794.25   \n",
              "Belavita - Kit com 3 Potes                                60412.50   \n",
              "Belavita - Kit com 5 Potes                                 1253.00   \n",
              "Belavita - Kit com 8 Potes                                39738.00   \n",
              "Belavita - Pote Unitário                                  12565.80   \n",
              "...                                                            ...   \n",
              "Ômega Vita - Kit com 7 Potes                               2490.46   \n",
              "Ômega Vita - Kit com 7 Potes (Frete grátis)               11731.66   \n",
              "Ômega Vita - Kit com 8 Potes                              77215.57   \n",
              "Ômega Vita - Pote Unitário                                 3908.14   \n",
              "Ômega Vita - Pote Unitário (Frete grátis)                  7817.08   \n",
              "\n",
              "                                             quantidade_produto  \n",
              "primeiro_produto                                                 \n",
              "Bela Vita                                                  42.0  \n",
              "Belavita - Kit com 3 Potes                                  1.0  \n",
              "Belavita - Kit com 5 Potes                                 10.0  \n",
              "Belavita - Kit com 8 Potes                                  6.0  \n",
              "Belavita - Pote Unitário                                    1.0  \n",
              "...                                                         ...  \n",
              "Ômega Vita - Kit com 7 Potes                                0.0  \n",
              "Ômega Vita - Kit com 7 Potes (Frete grátis)                 0.0  \n",
              "Ômega Vita - Kit com 8 Potes                               16.0  \n",
              "Ômega Vita - Pote Unitário                                  0.0  \n",
              "Ômega Vita - Pote Unitário (Frete grátis)                  12.0  \n",
              "\n",
              "[213 rows x 2 columns]"
            ],
            "text/html": [
              "\n",
              "  <div id=\"df-f9fe0859-b7d0-48e4-8bb2-136aacd11bfa\">\n",
              "    <div class=\"colab-df-container\">\n",
              "      <div>\n",
              "<style scoped>\n",
              "    .dataframe tbody tr th:only-of-type {\n",
              "        vertical-align: middle;\n",
              "    }\n",
              "\n",
              "    .dataframe tbody tr th {\n",
              "        vertical-align: top;\n",
              "    }\n",
              "\n",
              "    .dataframe thead th {\n",
              "        text-align: right;\n",
              "    }\n",
              "</style>\n",
              "<table border=\"1\" class=\"dataframe\">\n",
              "  <thead>\n",
              "    <tr style=\"text-align: right;\">\n",
              "      <th></th>\n",
              "      <th>valor_primeira_compra</th>\n",
              "      <th>quantidade_produto</th>\n",
              "    </tr>\n",
              "    <tr>\n",
              "      <th>primeiro_produto</th>\n",
              "      <th></th>\n",
              "      <th></th>\n",
              "    </tr>\n",
              "  </thead>\n",
              "  <tbody>\n",
              "    <tr>\n",
              "      <th>Bela Vita</th>\n",
              "      <td>63794.25</td>\n",
              "      <td>42.0</td>\n",
              "    </tr>\n",
              "    <tr>\n",
              "      <th>Belavita - Kit com 3 Potes</th>\n",
              "      <td>60412.50</td>\n",
              "      <td>1.0</td>\n",
              "    </tr>\n",
              "    <tr>\n",
              "      <th>Belavita - Kit com 5 Potes</th>\n",
              "      <td>1253.00</td>\n",
              "      <td>10.0</td>\n",
              "    </tr>\n",
              "    <tr>\n",
              "      <th>Belavita - Kit com 8 Potes</th>\n",
              "      <td>39738.00</td>\n",
              "      <td>6.0</td>\n",
              "    </tr>\n",
              "    <tr>\n",
              "      <th>Belavita - Pote Unitário</th>\n",
              "      <td>12565.80</td>\n",
              "      <td>1.0</td>\n",
              "    </tr>\n",
              "    <tr>\n",
              "      <th>...</th>\n",
              "      <td>...</td>\n",
              "      <td>...</td>\n",
              "    </tr>\n",
              "    <tr>\n",
              "      <th>Ômega Vita - Kit com 7 Potes</th>\n",
              "      <td>2490.46</td>\n",
              "      <td>0.0</td>\n",
              "    </tr>\n",
              "    <tr>\n",
              "      <th>Ômega Vita - Kit com 7 Potes (Frete grátis)</th>\n",
              "      <td>11731.66</td>\n",
              "      <td>0.0</td>\n",
              "    </tr>\n",
              "    <tr>\n",
              "      <th>Ômega Vita - Kit com 8 Potes</th>\n",
              "      <td>77215.57</td>\n",
              "      <td>16.0</td>\n",
              "    </tr>\n",
              "    <tr>\n",
              "      <th>Ômega Vita - Pote Unitário</th>\n",
              "      <td>3908.14</td>\n",
              "      <td>0.0</td>\n",
              "    </tr>\n",
              "    <tr>\n",
              "      <th>Ômega Vita - Pote Unitário (Frete grátis)</th>\n",
              "      <td>7817.08</td>\n",
              "      <td>12.0</td>\n",
              "    </tr>\n",
              "  </tbody>\n",
              "</table>\n",
              "<p>213 rows × 2 columns</p>\n",
              "</div>\n",
              "      <button class=\"colab-df-convert\" onclick=\"convertToInteractive('df-f9fe0859-b7d0-48e4-8bb2-136aacd11bfa')\"\n",
              "              title=\"Convert this dataframe to an interactive table.\"\n",
              "              style=\"display:none;\">\n",
              "        \n",
              "  <svg xmlns=\"http://www.w3.org/2000/svg\" height=\"24px\"viewBox=\"0 0 24 24\"\n",
              "       width=\"24px\">\n",
              "    <path d=\"M0 0h24v24H0V0z\" fill=\"none\"/>\n",
              "    <path d=\"M18.56 5.44l.94 2.06.94-2.06 2.06-.94-2.06-.94-.94-2.06-.94 2.06-2.06.94zm-11 1L8.5 8.5l.94-2.06 2.06-.94-2.06-.94L8.5 2.5l-.94 2.06-2.06.94zm10 10l.94 2.06.94-2.06 2.06-.94-2.06-.94-.94-2.06-.94 2.06-2.06.94z\"/><path d=\"M17.41 7.96l-1.37-1.37c-.4-.4-.92-.59-1.43-.59-.52 0-1.04.2-1.43.59L10.3 9.45l-7.72 7.72c-.78.78-.78 2.05 0 2.83L4 21.41c.39.39.9.59 1.41.59.51 0 1.02-.2 1.41-.59l7.78-7.78 2.81-2.81c.8-.78.8-2.07 0-2.86zM5.41 20L4 18.59l7.72-7.72 1.47 1.35L5.41 20z\"/>\n",
              "  </svg>\n",
              "      </button>\n",
              "      \n",
              "  <style>\n",
              "    .colab-df-container {\n",
              "      display:flex;\n",
              "      flex-wrap:wrap;\n",
              "      gap: 12px;\n",
              "    }\n",
              "\n",
              "    .colab-df-convert {\n",
              "      background-color: #E8F0FE;\n",
              "      border: none;\n",
              "      border-radius: 50%;\n",
              "      cursor: pointer;\n",
              "      display: none;\n",
              "      fill: #1967D2;\n",
              "      height: 32px;\n",
              "      padding: 0 0 0 0;\n",
              "      width: 32px;\n",
              "    }\n",
              "\n",
              "    .colab-df-convert:hover {\n",
              "      background-color: #E2EBFA;\n",
              "      box-shadow: 0px 1px 2px rgba(60, 64, 67, 0.3), 0px 1px 3px 1px rgba(60, 64, 67, 0.15);\n",
              "      fill: #174EA6;\n",
              "    }\n",
              "\n",
              "    [theme=dark] .colab-df-convert {\n",
              "      background-color: #3B4455;\n",
              "      fill: #D2E3FC;\n",
              "    }\n",
              "\n",
              "    [theme=dark] .colab-df-convert:hover {\n",
              "      background-color: #434B5C;\n",
              "      box-shadow: 0px 1px 3px 1px rgba(0, 0, 0, 0.15);\n",
              "      filter: drop-shadow(0px 1px 2px rgba(0, 0, 0, 0.3));\n",
              "      fill: #FFFFFF;\n",
              "    }\n",
              "  </style>\n",
              "\n",
              "      <script>\n",
              "        const buttonEl =\n",
              "          document.querySelector('#df-f9fe0859-b7d0-48e4-8bb2-136aacd11bfa button.colab-df-convert');\n",
              "        buttonEl.style.display =\n",
              "          google.colab.kernel.accessAllowed ? 'block' : 'none';\n",
              "\n",
              "        async function convertToInteractive(key) {\n",
              "          const element = document.querySelector('#df-f9fe0859-b7d0-48e4-8bb2-136aacd11bfa');\n",
              "          const dataTable =\n",
              "            await google.colab.kernel.invokeFunction('convertToInteractive',\n",
              "                                                     [key], {});\n",
              "          if (!dataTable) return;\n",
              "\n",
              "          const docLinkHtml = 'Like what you see? Visit the ' +\n",
              "            '<a target=\"_blank\" href=https://colab.research.google.com/notebooks/data_table.ipynb>data table notebook</a>'\n",
              "            + ' to learn more about interactive tables.';\n",
              "          element.innerHTML = '';\n",
              "          dataTable['output_type'] = 'display_data';\n",
              "          await google.colab.output.renderOutput(dataTable, element);\n",
              "          const docLink = document.createElement('div');\n",
              "          docLink.innerHTML = docLinkHtml;\n",
              "          element.appendChild(docLink);\n",
              "        }\n",
              "      </script>\n",
              "    </div>\n",
              "  </div>\n",
              "  "
            ]
          },
          "metadata": {},
          "execution_count": 766
        }
      ]
    },
    {
      "cell_type": "markdown",
      "source": [
        "Avalia a quantidade de clientes por estado"
      ],
      "metadata": {
        "id": "RAhsN_1eiGam"
      }
    },
    {
      "cell_type": "code",
      "source": [
        "clientes_por_estado = df.groupby('estado')['email_cliente'].nunique()\n",
        "\n",
        "print(clientes_por_estado)\n"
      ],
      "metadata": {
        "colab": {
          "base_uri": "https://localhost:8080/"
        },
        "id": "HXjkdK8hh4n6",
        "outputId": "83960c50-a2e3-4177-8016-e7070b9c75df"
      },
      "execution_count": 767,
      "outputs": [
        {
          "output_type": "stream",
          "name": "stdout",
          "text": [
            "estado\n",
            "01         3\n",
            "04         1\n",
            "05         1\n",
            "06         2\n",
            "08         2\n",
            "          ..\n",
            "TX         2\n",
            "VA         1\n",
            "VD         1\n",
            "ZH         1\n",
            "alagoas    1\n",
            "Name: email_cliente, Length: 106, dtype: int64\n"
          ]
        }
      ]
    },
    {
      "cell_type": "markdown",
      "source": [
        "# Preparação de variáveis relevantes para a análise"
      ],
      "metadata": {
        "id": "Rx9-WdmCiaIk"
      }
    },
    {
      "cell_type": "markdown",
      "source": [
        "**Idade**"
      ],
      "metadata": {
        "id": "HMIcsnBvlFPd"
      }
    },
    {
      "cell_type": "code",
      "source": [
        "print(df['idade'])"
      ],
      "metadata": {
        "colab": {
          "base_uri": "https://localhost:8080/"
        },
        "id": "GHtx4vF2iab3",
        "outputId": "e1a18c9e-4132-4d24-adb2-18695e58a625"
      },
      "execution_count": 768,
      "outputs": [
        {
          "output_type": "stream",
          "name": "stdout",
          "text": [
            "0         NaN\n",
            "1         NaN\n",
            "2         NaN\n",
            "3         NaN\n",
            "4         NaN\n",
            "         ... \n",
            "193362    NaN\n",
            "193363    NaN\n",
            "193364    NaN\n",
            "193365    NaN\n",
            "193366    NaN\n",
            "Name: idade, Length: 193367, dtype: object\n"
          ]
        }
      ]
    },
    {
      "cell_type": "markdown",
      "source": [
        "Exclusão dos registros sem valor de idade preenchido"
      ],
      "metadata": {
        "id": "JAMULL8Ek2xM"
      }
    },
    {
      "cell_type": "code",
      "source": [
        "df_novo = df.dropna(subset=['idade'])"
      ],
      "metadata": {
        "id": "RuY8Ne79kfEq"
      },
      "execution_count": 769,
      "outputs": []
    },
    {
      "cell_type": "code",
      "source": [
        "print(df_novo['idade'])"
      ],
      "metadata": {
        "colab": {
          "base_uri": "https://localhost:8080/"
        },
        "id": "E28Ke5YvklTY",
        "outputId": "f5418c42-398b-4f50-83f5-4a0ee5fc82c7"
      },
      "execution_count": 770,
      "outputs": [
        {
          "output_type": "stream",
          "name": "stdout",
          "text": [
            "20       46 - 55 anos\n",
            "21       46 - 55 anos\n",
            "53       46 - 55 anos\n",
            "54       46 - 55 anos\n",
            "56       46 - 55 anos\n",
            "             ...     \n",
            "51727    26 - 35 anos\n",
            "51728    36 - 45 anos\n",
            "51729    56 - 65 anos\n",
            "51730    46 - 55 anos\n",
            "51731    56 - 65 anos\n",
            "Name: idade, Length: 47119, dtype: object\n"
          ]
        }
      ]
    },
    {
      "cell_type": "markdown",
      "source": [
        "Visualizar idades únicas"
      ],
      "metadata": {
        "id": "3segoWAZr1sp"
      }
    },
    {
      "cell_type": "code",
      "source": [
        "idades_unicas = np.unique(df_novo['idade'])\n",
        "\n",
        "print(idades_unicas)"
      ],
      "metadata": {
        "colab": {
          "base_uri": "https://localhost:8080/"
        },
        "id": "2QwwQGPMpXoL",
        "outputId": "9d33b4b3-d65e-4401-d81a-3d6e481cbb51"
      },
      "execution_count": 771,
      "outputs": [
        {
          "output_type": "stream",
          "name": "stdout",
          "text": [
            "['18 - 24 anos' '21 - 25 anos' '25' '25 - 29 anos' '26 - 35 anos' '30'\n",
            " '30 - 34 anos' '32' '33' '34' '35' '35 - 39 anos' '36' '36 - 45 anos'\n",
            " '37' '38' '39' '40' '40 - 44 anos' '41' '42' '43' '44' '45'\n",
            " '45 - 49 anos' '46' '46 - 55 anos' '47' '48' '49' '50' '50 - 54 anos'\n",
            " '51' '52' '53' '54' '55' '55 - 59 anos' '56' '56 - 65 anos' '57' '58'\n",
            " '59' '60' '60 - 69 anos' '61' '62' '63' '64' '65' '66 - 70 anos' '67'\n",
            " '68' '69' '70' '70 ou mais' '71 - 80 anos' '72' '80' '81 ou mais'\n",
            " 'Menos de 20 anos']\n"
          ]
        }
      ]
    },
    {
      "cell_type": "markdown",
      "source": [
        "Classificar idades"
      ],
      "metadata": {
        "id": "BGlFv7KvsftF"
      }
    },
    {
      "cell_type": "code",
      "source": [
        "def classificar_idade(idade):\n",
        "    if idade == '18 - 24 anos' or idade == '21 - 25 anos' or idade == 'Menos de 20 anos':\n",
        "        return '24 anos ou menos'\n",
        "    elif idade == '25' or idade == '25 - 29 anos' or idade == '26 - 35 anos' or idade == '30' or idade == '30 - 34 anos' or idade == '32' or idade == '33' or idade == '34':\n",
        "        return '25 - 34 anos'\n",
        "    elif idade == '35' or idade == '35 - 39 anos' or idade == '36' or idade == '36 - 45 anos' or idade == '37' or idade == '38' or idade == '39' or idade == '40' or idade == '40 - 44 anos' or idade == '41' or idade == '42' or idade == '43' or idade == '44':\n",
        "        return '35 - 44 anos'\n",
        "    elif idade == '45' or idade == '45 - 49 anos' or idade == '46' or idade == '46 - 55 anos' or idade == '47' or idade ==  '48' or idade == '49' or idade == '50' or idade == '50 - 54 anos' or idade == '51' or idade == '52' or idade == '53' or idade == '54':\n",
        "        return '45 - 54 anos'\n",
        "    elif idade == '55' or idade == '55 - 59 anos' or idade == '56' or idade == '56 - 65 anos' or idade == '57' or idade == '58' or idade == '59' or idade == '60' or idade == '61' or idade == '62' or idade == '63' or idade == '64': \n",
        "      return '55 - 64 anos'\n",
        "    else:\n",
        "      return '65 anos ou mais'\n",
        "\n",
        "df_novo['faixas_idade'] = df_novo['idade'].apply(classificar_idade)\n",
        "\n",
        "print(df_novo['faixas_idade'])"
      ],
      "metadata": {
        "colab": {
          "base_uri": "https://localhost:8080/"
        },
        "id": "1zIEOxLQseqK",
        "outputId": "0b8312e3-e8ed-4151-e7ad-9e5d5dd1f8dc"
      },
      "execution_count": 772,
      "outputs": [
        {
          "output_type": "stream",
          "name": "stdout",
          "text": [
            "20       45 - 54 anos\n",
            "21       45 - 54 anos\n",
            "53       45 - 54 anos\n",
            "54       45 - 54 anos\n",
            "56       45 - 54 anos\n",
            "             ...     \n",
            "51727    25 - 34 anos\n",
            "51728    35 - 44 anos\n",
            "51729    55 - 64 anos\n",
            "51730    45 - 54 anos\n",
            "51731    55 - 64 anos\n",
            "Name: faixas_idade, Length: 47119, dtype: object\n"
          ]
        },
        {
          "output_type": "stream",
          "name": "stderr",
          "text": [
            "<ipython-input-772-1f5988c8494c>:15: SettingWithCopyWarning: \n",
            "A value is trying to be set on a copy of a slice from a DataFrame.\n",
            "Try using .loc[row_indexer,col_indexer] = value instead\n",
            "\n",
            "See the caveats in the documentation: https://pandas.pydata.org/pandas-docs/stable/user_guide/indexing.html#returning-a-view-versus-a-copy\n",
            "  df_novo['faixas_idade'] = df_novo['idade'].apply(classificar_idade)\n"
          ]
        }
      ]
    },
    {
      "cell_type": "code",
      "source": [
        "idades_unicas = np.unique(df_novo['faixas_idade'])\n",
        "\n",
        "print(idades_unicas)"
      ],
      "metadata": {
        "colab": {
          "base_uri": "https://localhost:8080/"
        },
        "id": "aLgere0Ax5h6",
        "outputId": "21f0ddb7-9b13-474b-ddc4-e246a1124354"
      },
      "execution_count": 773,
      "outputs": [
        {
          "output_type": "stream",
          "name": "stdout",
          "text": [
            "['24 anos ou menos' '25 - 34 anos' '35 - 44 anos' '45 - 54 anos'\n",
            " '55 - 64 anos' '65 anos ou mais']\n"
          ]
        }
      ]
    },
    {
      "cell_type": "code",
      "source": [
        "df_novo['faixas_idade'].describe()"
      ],
      "metadata": {
        "colab": {
          "base_uri": "https://localhost:8080/"
        },
        "id": "p1fobuyHyCQI",
        "outputId": "d464d3c8-78bc-4e09-cf6f-aaa84fa39c35"
      },
      "execution_count": 774,
      "outputs": [
        {
          "output_type": "execute_result",
          "data": {
            "text/plain": [
              "count            47119\n",
              "unique               6\n",
              "top       55 - 64 anos\n",
              "freq             15048\n",
              "Name: faixas_idade, dtype: object"
            ]
          },
          "metadata": {},
          "execution_count": 774
        }
      ]
    },
    {
      "cell_type": "markdown",
      "source": [
        "Renda mensal"
      ],
      "metadata": {
        "id": "uEWzYV6TlVIT"
      }
    },
    {
      "cell_type": "code",
      "source": [
        "print(df_novo['renda_mensal'])"
      ],
      "metadata": {
        "colab": {
          "base_uri": "https://localhost:8080/"
        },
        "id": "ZsnRE-etlPDg",
        "outputId": "58a27e08-79d9-4aaf-cdca-2ec41c89867e"
      },
      "execution_count": 775,
      "outputs": [
        {
          "output_type": "stream",
          "name": "stdout",
          "text": [
            "20             Não quero informar\n",
            "21             Não quero informar\n",
            "53             Não quero informar\n",
            "54             Não quero informar\n",
            "56        Entre R$3.000 e R$5.000\n",
            "                   ...           \n",
            "51727     Entre R$1.000 e R$2.000\n",
            "51728    Entre R$5.000 e R$10.000\n",
            "51729       Estou Desempregada(o)\n",
            "51730    Entre R$5.000 e R$10.000\n",
            "51731       Estou Desempregada(o)\n",
            "Name: renda_mensal, Length: 47119, dtype: object\n"
          ]
        }
      ]
    },
    {
      "cell_type": "code",
      "source": [
        "valores_unicos = df_novo['renda_mensal'].unique()\n",
        "print(valores_unicos)"
      ],
      "metadata": {
        "colab": {
          "base_uri": "https://localhost:8080/"
        },
        "id": "IeYsijzGybEa",
        "outputId": "11cf1b30-753d-47fa-81db-d9059bcf1dd5"
      },
      "execution_count": 776,
      "outputs": [
        {
          "output_type": "stream",
          "name": "stdout",
          "text": [
            "['Não quero informar' 'Entre R$3.000 e R$5.000' 'Entre R$500 e R$1.000'\n",
            " 'Acima de R$10.000' 'Entre R$5.000 e R$10.000' 'Estou Desempregada(o)'\n",
            " 'Entre R$2.000 e R$3.000' 'Entre R$1.000 e R$2.000' 'Menos de R$500' nan]\n"
          ]
        }
      ]
    },
    {
      "cell_type": "markdown",
      "source": [
        "Escolaridade"
      ],
      "metadata": {
        "id": "TO0_0WOHnkZG"
      }
    },
    {
      "cell_type": "code",
      "source": [
        "print(df_novo['escolaridade'])"
      ],
      "metadata": {
        "colab": {
          "base_uri": "https://localhost:8080/"
        },
        "id": "ZUduADenlk-0",
        "outputId": "9b92eba3-576b-4a09-d236-1d9ad0b31403"
      },
      "execution_count": 777,
      "outputs": [
        {
          "output_type": "stream",
          "name": "stdout",
          "text": [
            "20       Ensino Superior Completo\n",
            "21       Ensino Superior Completo\n",
            "53              Mestrado Completo\n",
            "54              Mestrado Completo\n",
            "56              Mestrado Completo\n",
            "                   ...           \n",
            "51727       Ensino Médio Completo\n",
            "51728    Ensino Superior Completo\n",
            "51729       Ensino Médio Completo\n",
            "51730    Ensino Superior Completo\n",
            "51731       Ensino Médio Completo\n",
            "Name: escolaridade, Length: 47119, dtype: object\n"
          ]
        }
      ]
    },
    {
      "cell_type": "code",
      "source": [
        "valores_unicos = df_novo['escolaridade'].unique()\n",
        "print(valores_unicos)"
      ],
      "metadata": {
        "colab": {
          "base_uri": "https://localhost:8080/"
        },
        "id": "H2nT64bX0GjV",
        "outputId": "c7f1e86b-9ca9-42f6-8f09-436e064ec5df"
      },
      "execution_count": 778,
      "outputs": [
        {
          "output_type": "stream",
          "name": "stdout",
          "text": [
            "['Ensino Superior Completo' 'Mestrado Completo' 'Ensino Médio Completo'\n",
            " 'Ensino Fundamental Completo' 'Não estudei' 'Doutorado Completo' nan\n",
            " 'Ensino superior' 'Médio completo' 'Ensino médio' 'Ensino fundamental'\n",
            " 'Pós graduação' 'Fundamental completo' 'Superior incompleto'\n",
            " 'Superior completo' 'Pós-graduação' 'Doutorado' 'Mestrado'\n",
            " 'Médio incompleto']\n"
          ]
        }
      ]
    },
    {
      "cell_type": "markdown",
      "source": [
        "Gênero"
      ],
      "metadata": {
        "id": "-CcUB7Oont1S"
      }
    },
    {
      "cell_type": "code",
      "source": [
        "print(df_novo['genero'])"
      ],
      "metadata": {
        "colab": {
          "base_uri": "https://localhost:8080/"
        },
        "id": "z8qheRotnwop",
        "outputId": "138a76be-3f5e-4fab-d853-af8c574611eb"
      },
      "execution_count": 779,
      "outputs": [
        {
          "output_type": "stream",
          "name": "stdout",
          "text": [
            "20       Mulher\n",
            "21       Mulher\n",
            "53       Mulher\n",
            "54       Mulher\n",
            "56       Mulher\n",
            "          ...  \n",
            "51727    Mulher\n",
            "51728     Homem\n",
            "51729    Mulher\n",
            "51730    Mulher\n",
            "51731    Mulher\n",
            "Name: genero, Length: 47119, dtype: object\n"
          ]
        }
      ]
    },
    {
      "cell_type": "code",
      "source": [
        "valores_unicos = df_novo['genero'].unique()\n",
        "print(valores_unicos)"
      ],
      "metadata": {
        "colab": {
          "base_uri": "https://localhost:8080/"
        },
        "id": "tsMSMvNq0Q3S",
        "outputId": "f1646855-25c2-42b9-a923-bc05f9cc78cc"
      },
      "execution_count": 780,
      "outputs": [
        {
          "output_type": "stream",
          "name": "stdout",
          "text": [
            "['Mulher' 'Homem' 'Outro' nan]\n"
          ]
        }
      ]
    },
    {
      "cell_type": "markdown",
      "source": [
        "Estado civil"
      ],
      "metadata": {
        "id": "VbEBaBq_n11Y"
      }
    },
    {
      "cell_type": "code",
      "source": [
        "print(df_novo['estado_civil'])"
      ],
      "metadata": {
        "colab": {
          "base_uri": "https://localhost:8080/"
        },
        "id": "XH19nPLVn4r0",
        "outputId": "a022cd4e-40a0-4dea-9ef6-b098b7d1dbfe"
      },
      "execution_count": 781,
      "outputs": [
        {
          "output_type": "stream",
          "name": "stdout",
          "text": [
            "20         Solteiro(a)\n",
            "21         Solteiro(a)\n",
            "53           Casado(a)\n",
            "54           Casado(a)\n",
            "56       Divorciado(a)\n",
            "             ...      \n",
            "51727        Casado(a)\n",
            "51728        Casado(a)\n",
            "51729        Casado(a)\n",
            "51730        Casado(a)\n",
            "51731      Solteiro(a)\n",
            "Name: estado_civil, Length: 47119, dtype: object\n"
          ]
        }
      ]
    },
    {
      "cell_type": "code",
      "source": [
        "valores_unicos = df_novo['estado_civil'].unique()\n",
        "print(valores_unicos)"
      ],
      "metadata": {
        "colab": {
          "base_uri": "https://localhost:8080/"
        },
        "id": "kv5WZuX10Upd",
        "outputId": "6604ae3f-0361-4268-8676-9d6007a9008d"
      },
      "execution_count": 782,
      "outputs": [
        {
          "output_type": "stream",
          "name": "stdout",
          "text": [
            "['Solteiro(a)' 'Casado(a)' 'Divorciado(a)' 'Viúvo(a)' nan]\n"
          ]
        }
      ]
    },
    {
      "cell_type": "markdown",
      "source": [
        "Substituindo valores NaN da variável depentente pela media"
      ],
      "metadata": {
        "id": "pK9-d8T9fZeH"
      }
    },
    {
      "cell_type": "code",
      "source": [
        "df_novo['ltv_cliente'].fillna(df['ltv_cliente'].mean(), inplace=True)\n"
      ],
      "metadata": {
        "colab": {
          "base_uri": "https://localhost:8080/"
        },
        "id": "6oIuhj6OfNHC",
        "outputId": "f2c52194-73d0-4e49-b45e-6c15961a1323"
      },
      "execution_count": 783,
      "outputs": [
        {
          "output_type": "stream",
          "name": "stderr",
          "text": [
            "<ipython-input-783-2e161ecd4ada>:1: SettingWithCopyWarning: \n",
            "A value is trying to be set on a copy of a slice from a DataFrame\n",
            "\n",
            "See the caveats in the documentation: https://pandas.pydata.org/pandas-docs/stable/user_guide/indexing.html#returning-a-view-versus-a-copy\n",
            "  df_novo['ltv_cliente'].fillna(df['ltv_cliente'].mean(), inplace=True)\n"
          ]
        }
      ]
    },
    {
      "cell_type": "markdown",
      "source": [
        "# LTV por perfil"
      ],
      "metadata": {
        "id": "4Ir7YQQ1oiTX"
      }
    },
    {
      "cell_type": "markdown",
      "source": [
        "## LTV por faixa de idade"
      ],
      "metadata": {
        "id": "Z2GHDOy72Lmu"
      }
    },
    {
      "cell_type": "code",
      "source": [
        "pd.DataFrame(\n",
        "    df_novo.groupby(\n",
        "        by='faixas_idade'\n",
        "    )['ltv_cliente'].mean()\n",
        ")"
      ],
      "metadata": {
        "colab": {
          "base_uri": "https://localhost:8080/",
          "height": 269
        },
        "id": "1GIsRikDooCL",
        "outputId": "84457ba4-42fb-41b8-c69e-9947a2537c58"
      },
      "execution_count": 784,
      "outputs": [
        {
          "output_type": "execute_result",
          "data": {
            "text/plain": [
              "                  ltv_cliente\n",
              "faixas_idade                 \n",
              "24 anos ou menos  2255.065095\n",
              "25 - 34 anos      1323.765860\n",
              "35 - 44 anos      1470.192111\n",
              "45 - 54 anos      1891.862094\n",
              "55 - 64 anos      2629.040967\n",
              "65 anos ou mais   3196.087810"
            ],
            "text/html": [
              "\n",
              "  <div id=\"df-194fcc33-3500-4798-9e59-5b8a23d09d66\">\n",
              "    <div class=\"colab-df-container\">\n",
              "      <div>\n",
              "<style scoped>\n",
              "    .dataframe tbody tr th:only-of-type {\n",
              "        vertical-align: middle;\n",
              "    }\n",
              "\n",
              "    .dataframe tbody tr th {\n",
              "        vertical-align: top;\n",
              "    }\n",
              "\n",
              "    .dataframe thead th {\n",
              "        text-align: right;\n",
              "    }\n",
              "</style>\n",
              "<table border=\"1\" class=\"dataframe\">\n",
              "  <thead>\n",
              "    <tr style=\"text-align: right;\">\n",
              "      <th></th>\n",
              "      <th>ltv_cliente</th>\n",
              "    </tr>\n",
              "    <tr>\n",
              "      <th>faixas_idade</th>\n",
              "      <th></th>\n",
              "    </tr>\n",
              "  </thead>\n",
              "  <tbody>\n",
              "    <tr>\n",
              "      <th>24 anos ou menos</th>\n",
              "      <td>2255.065095</td>\n",
              "    </tr>\n",
              "    <tr>\n",
              "      <th>25 - 34 anos</th>\n",
              "      <td>1323.765860</td>\n",
              "    </tr>\n",
              "    <tr>\n",
              "      <th>35 - 44 anos</th>\n",
              "      <td>1470.192111</td>\n",
              "    </tr>\n",
              "    <tr>\n",
              "      <th>45 - 54 anos</th>\n",
              "      <td>1891.862094</td>\n",
              "    </tr>\n",
              "    <tr>\n",
              "      <th>55 - 64 anos</th>\n",
              "      <td>2629.040967</td>\n",
              "    </tr>\n",
              "    <tr>\n",
              "      <th>65 anos ou mais</th>\n",
              "      <td>3196.087810</td>\n",
              "    </tr>\n",
              "  </tbody>\n",
              "</table>\n",
              "</div>\n",
              "      <button class=\"colab-df-convert\" onclick=\"convertToInteractive('df-194fcc33-3500-4798-9e59-5b8a23d09d66')\"\n",
              "              title=\"Convert this dataframe to an interactive table.\"\n",
              "              style=\"display:none;\">\n",
              "        \n",
              "  <svg xmlns=\"http://www.w3.org/2000/svg\" height=\"24px\"viewBox=\"0 0 24 24\"\n",
              "       width=\"24px\">\n",
              "    <path d=\"M0 0h24v24H0V0z\" fill=\"none\"/>\n",
              "    <path d=\"M18.56 5.44l.94 2.06.94-2.06 2.06-.94-2.06-.94-.94-2.06-.94 2.06-2.06.94zm-11 1L8.5 8.5l.94-2.06 2.06-.94-2.06-.94L8.5 2.5l-.94 2.06-2.06.94zm10 10l.94 2.06.94-2.06 2.06-.94-2.06-.94-.94-2.06-.94 2.06-2.06.94z\"/><path d=\"M17.41 7.96l-1.37-1.37c-.4-.4-.92-.59-1.43-.59-.52 0-1.04.2-1.43.59L10.3 9.45l-7.72 7.72c-.78.78-.78 2.05 0 2.83L4 21.41c.39.39.9.59 1.41.59.51 0 1.02-.2 1.41-.59l7.78-7.78 2.81-2.81c.8-.78.8-2.07 0-2.86zM5.41 20L4 18.59l7.72-7.72 1.47 1.35L5.41 20z\"/>\n",
              "  </svg>\n",
              "      </button>\n",
              "      \n",
              "  <style>\n",
              "    .colab-df-container {\n",
              "      display:flex;\n",
              "      flex-wrap:wrap;\n",
              "      gap: 12px;\n",
              "    }\n",
              "\n",
              "    .colab-df-convert {\n",
              "      background-color: #E8F0FE;\n",
              "      border: none;\n",
              "      border-radius: 50%;\n",
              "      cursor: pointer;\n",
              "      display: none;\n",
              "      fill: #1967D2;\n",
              "      height: 32px;\n",
              "      padding: 0 0 0 0;\n",
              "      width: 32px;\n",
              "    }\n",
              "\n",
              "    .colab-df-convert:hover {\n",
              "      background-color: #E2EBFA;\n",
              "      box-shadow: 0px 1px 2px rgba(60, 64, 67, 0.3), 0px 1px 3px 1px rgba(60, 64, 67, 0.15);\n",
              "      fill: #174EA6;\n",
              "    }\n",
              "\n",
              "    [theme=dark] .colab-df-convert {\n",
              "      background-color: #3B4455;\n",
              "      fill: #D2E3FC;\n",
              "    }\n",
              "\n",
              "    [theme=dark] .colab-df-convert:hover {\n",
              "      background-color: #434B5C;\n",
              "      box-shadow: 0px 1px 3px 1px rgba(0, 0, 0, 0.15);\n",
              "      filter: drop-shadow(0px 1px 2px rgba(0, 0, 0, 0.3));\n",
              "      fill: #FFFFFF;\n",
              "    }\n",
              "  </style>\n",
              "\n",
              "      <script>\n",
              "        const buttonEl =\n",
              "          document.querySelector('#df-194fcc33-3500-4798-9e59-5b8a23d09d66 button.colab-df-convert');\n",
              "        buttonEl.style.display =\n",
              "          google.colab.kernel.accessAllowed ? 'block' : 'none';\n",
              "\n",
              "        async function convertToInteractive(key) {\n",
              "          const element = document.querySelector('#df-194fcc33-3500-4798-9e59-5b8a23d09d66');\n",
              "          const dataTable =\n",
              "            await google.colab.kernel.invokeFunction('convertToInteractive',\n",
              "                                                     [key], {});\n",
              "          if (!dataTable) return;\n",
              "\n",
              "          const docLinkHtml = 'Like what you see? Visit the ' +\n",
              "            '<a target=\"_blank\" href=https://colab.research.google.com/notebooks/data_table.ipynb>data table notebook</a>'\n",
              "            + ' to learn more about interactive tables.';\n",
              "          element.innerHTML = '';\n",
              "          dataTable['output_type'] = 'display_data';\n",
              "          await google.colab.output.renderOutput(dataTable, element);\n",
              "          const docLink = document.createElement('div');\n",
              "          docLink.innerHTML = docLinkHtml;\n",
              "          element.appendChild(docLink);\n",
              "        }\n",
              "      </script>\n",
              "    </div>\n",
              "  </div>\n",
              "  "
            ]
          },
          "metadata": {},
          "execution_count": 784
        }
      ]
    },
    {
      "cell_type": "code",
      "source": [
        "df_media = pd.DataFrame(\n",
        "    df_novo.groupby(by='faixas_idade')['ltv_cliente'].mean()\n",
        ")\n",
        "\n",
        "df_media.plot(kind='bar')\n",
        "\n",
        "# Define o título do gráfico e dos eixos\n",
        "plt.title('Média de LTV por Faixa de Idade')\n",
        "plt.xlabel('Faixa de Idade')\n",
        "plt.ylabel('Média de LTV')\n",
        "\n",
        "# Exibe o gráfico\n",
        "plt.show()\n"
      ],
      "metadata": {
        "colab": {
          "base_uri": "https://localhost:8080/",
          "height": 704
        },
        "id": "SHx5IYn412cq",
        "outputId": "5d1708f2-a224-42d3-f7ad-6ae1065ad316"
      },
      "execution_count": 785,
      "outputs": [
        {
          "output_type": "display_data",
          "data": {
            "text/plain": [
              "<Figure size 900x600 with 1 Axes>"
            ],
            "image/png": "[encoded data removed]"
          },
          "metadata": {
            "image/png": {
              "width": 799,
              "height": 687
            }
          }
        }
      ]
    },
    {
      "cell_type": "markdown",
      "source": [
        "## LTV por escolaridade"
      ],
      "metadata": {
        "id": "QG7YVw9K2aaO"
      }
    },
    {
      "cell_type": "code",
      "source": [
        "pd.DataFrame(\n",
        "    df_novo.groupby(\n",
        "        by='escolaridade'\n",
        "    )['ltv_cliente'].mean()\n",
        ")"
      ],
      "metadata": {
        "colab": {
          "base_uri": "https://localhost:8080/",
          "height": 645
        },
        "id": "kidnX8zB2deh",
        "outputId": "d938f71b-ceaa-4f7d-d780-40591071140c"
      },
      "execution_count": 786,
      "outputs": [
        {
          "output_type": "execute_result",
          "data": {
            "text/plain": [
              "                             ltv_cliente\n",
              "escolaridade                            \n",
              "Doutorado                     979.510000\n",
              "Doutorado Completo           3275.067031\n",
              "Ensino Fundamental Completo  1993.341178\n",
              "Ensino Médio Completo        2211.680285\n",
              "Ensino Superior Completo     2731.067095\n",
              "Ensino fundamental           2294.559630\n",
              "Ensino médio                 3228.632746\n",
              "Ensino superior              2875.165957\n",
              "Fundamental completo         1024.870269\n",
              "Mestrado                     1202.485833\n",
              "Mestrado Completo            3186.353109\n",
              "Médio completo               1151.446793\n",
              "Médio incompleto              873.579728\n",
              "Não estudei                  2982.881336\n",
              "Pós graduação                2725.716437\n",
              "Pós-graduação                1582.063654\n",
              "Superior completo            1397.620380\n",
              "Superior incompleto           963.251488"
            ],
            "text/html": [
              "\n",
              "  <div id=\"df-c6362d2e-a5b7-4712-8a7f-5d602c28804e\">\n",
              "    <div class=\"colab-df-container\">\n",
              "      <div>\n",
              "<style scoped>\n",
              "    .dataframe tbody tr th:only-of-type {\n",
              "        vertical-align: middle;\n",
              "    }\n",
              "\n",
              "    .dataframe tbody tr th {\n",
              "        vertical-align: top;\n",
              "    }\n",
              "\n",
              "    .dataframe thead th {\n",
              "        text-align: right;\n",
              "    }\n",
              "</style>\n",
              "<table border=\"1\" class=\"dataframe\">\n",
              "  <thead>\n",
              "    <tr style=\"text-align: right;\">\n",
              "      <th></th>\n",
              "      <th>ltv_cliente</th>\n",
              "    </tr>\n",
              "    <tr>\n",
              "      <th>escolaridade</th>\n",
              "      <th></th>\n",
              "    </tr>\n",
              "  </thead>\n",
              "  <tbody>\n",
              "    <tr>\n",
              "      <th>Doutorado</th>\n",
              "      <td>979.510000</td>\n",
              "    </tr>\n",
              "    <tr>\n",
              "      <th>Doutorado Completo</th>\n",
              "      <td>3275.067031</td>\n",
              "    </tr>\n",
              "    <tr>\n",
              "      <th>Ensino Fundamental Completo</th>\n",
              "      <td>1993.341178</td>\n",
              "    </tr>\n",
              "    <tr>\n",
              "      <th>Ensino Médio Completo</th>\n",
              "      <td>2211.680285</td>\n",
              "    </tr>\n",
              "    <tr>\n",
              "      <th>Ensino Superior Completo</th>\n",
              "      <td>2731.067095</td>\n",
              "    </tr>\n",
              "    <tr>\n",
              "      <th>Ensino fundamental</th>\n",
              "      <td>2294.559630</td>\n",
              "    </tr>\n",
              "    <tr>\n",
              "      <th>Ensino médio</th>\n",
              "      <td>3228.632746</td>\n",
              "    </tr>\n",
              "    <tr>\n",
              "      <th>Ensino superior</th>\n",
              "      <td>2875.165957</td>\n",
              "    </tr>\n",
              "    <tr>\n",
              "      <th>Fundamental completo</th>\n",
              "      <td>1024.870269</td>\n",
              "    </tr>\n",
              "    <tr>\n",
              "      <th>Mestrado</th>\n",
              "      <td>1202.485833</td>\n",
              "    </tr>\n",
              "    <tr>\n",
              "      <th>Mestrado Completo</th>\n",
              "      <td>3186.353109</td>\n",
              "    </tr>\n",
              "    <tr>\n",
              "      <th>Médio completo</th>\n",
              "      <td>1151.446793</td>\n",
              "    </tr>\n",
              "    <tr>\n",
              "      <th>Médio incompleto</th>\n",
              "      <td>873.579728</td>\n",
              "    </tr>\n",
              "    <tr>\n",
              "      <th>Não estudei</th>\n",
              "      <td>2982.881336</td>\n",
              "    </tr>\n",
              "    <tr>\n",
              "      <th>Pós graduação</th>\n",
              "      <td>2725.716437</td>\n",
              "    </tr>\n",
              "    <tr>\n",
              "      <th>Pós-graduação</th>\n",
              "      <td>1582.063654</td>\n",
              "    </tr>\n",
              "    <tr>\n",
              "      <th>Superior completo</th>\n",
              "      <td>1397.620380</td>\n",
              "    </tr>\n",
              "    <tr>\n",
              "      <th>Superior incompleto</th>\n",
              "      <td>963.251488</td>\n",
              "    </tr>\n",
              "  </tbody>\n",
              "</table>\n",
              "</div>\n",
              "      <button class=\"colab-df-convert\" onclick=\"convertToInteractive('df-c6362d2e-a5b7-4712-8a7f-5d602c28804e')\"\n",
              "              title=\"Convert this dataframe to an interactive table.\"\n",
              "              style=\"display:none;\">\n",
              "        \n",
              "  <svg xmlns=\"http://www.w3.org/2000/svg\" height=\"24px\"viewBox=\"0 0 24 24\"\n",
              "       width=\"24px\">\n",
              "    <path d=\"M0 0h24v24H0V0z\" fill=\"none\"/>\n",
              "    <path d=\"M18.56 5.44l.94 2.06.94-2.06 2.06-.94-2.06-.94-.94-2.06-.94 2.06-2.06.94zm-11 1L8.5 8.5l.94-2.06 2.06-.94-2.06-.94L8.5 2.5l-.94 2.06-2.06.94zm10 10l.94 2.06.94-2.06 2.06-.94-2.06-.94-.94-2.06-.94 2.06-2.06.94z\"/><path d=\"M17.41 7.96l-1.37-1.37c-.4-.4-.92-.59-1.43-.59-.52 0-1.04.2-1.43.59L10.3 9.45l-7.72 7.72c-.78.78-.78 2.05 0 2.83L4 21.41c.39.39.9.59 1.41.59.51 0 1.02-.2 1.41-.59l7.78-7.78 2.81-2.81c.8-.78.8-2.07 0-2.86zM5.41 20L4 18.59l7.72-7.72 1.47 1.35L5.41 20z\"/>\n",
              "  </svg>\n",
              "      </button>\n",
              "      \n",
              "  <style>\n",
              "    .colab-df-container {\n",
              "      display:flex;\n",
              "      flex-wrap:wrap;\n",
              "      gap: 12px;\n",
              "    }\n",
              "\n",
              "    .colab-df-convert {\n",
              "      background-color: #E8F0FE;\n",
              "      border: none;\n",
              "      border-radius: 50%;\n",
              "      cursor: pointer;\n",
              "      display: none;\n",
              "      fill: #1967D2;\n",
              "      height: 32px;\n",
              "      padding: 0 0 0 0;\n",
              "      width: 32px;\n",
              "    }\n",
              "\n",
              "    .colab-df-convert:hover {\n",
              "      background-color: #E2EBFA;\n",
              "      box-shadow: 0px 1px 2px rgba(60, 64, 67, 0.3), 0px 1px 3px 1px rgba(60, 64, 67, 0.15);\n",
              "      fill: #174EA6;\n",
              "    }\n",
              "\n",
              "    [theme=dark] .colab-df-convert {\n",
              "      background-color: #3B4455;\n",
              "      fill: #D2E3FC;\n",
              "    }\n",
              "\n",
              "    [theme=dark] .colab-df-convert:hover {\n",
              "      background-color: #434B5C;\n",
              "      box-shadow: 0px 1px 3px 1px rgba(0, 0, 0, 0.15);\n",
              "      filter: drop-shadow(0px 1px 2px rgba(0, 0, 0, 0.3));\n",
              "      fill: #FFFFFF;\n",
              "    }\n",
              "  </style>\n",
              "\n",
              "      <script>\n",
              "        const buttonEl =\n",
              "          document.querySelector('#df-c6362d2e-a5b7-4712-8a7f-5d602c28804e button.colab-df-convert');\n",
              "        buttonEl.style.display =\n",
              "          google.colab.kernel.accessAllowed ? 'block' : 'none';\n",
              "\n",
              "        async function convertToInteractive(key) {\n",
              "          const element = document.querySelector('#df-c6362d2e-a5b7-4712-8a7f-5d602c28804e');\n",
              "          const dataTable =\n",
              "            await google.colab.kernel.invokeFunction('convertToInteractive',\n",
              "                                                     [key], {});\n",
              "          if (!dataTable) return;\n",
              "\n",
              "          const docLinkHtml = 'Like what you see? Visit the ' +\n",
              "            '<a target=\"_blank\" href=https://colab.research.google.com/notebooks/data_table.ipynb>data table notebook</a>'\n",
              "            + ' to learn more about interactive tables.';\n",
              "          element.innerHTML = '';\n",
              "          dataTable['output_type'] = 'display_data';\n",
              "          await google.colab.output.renderOutput(dataTable, element);\n",
              "          const docLink = document.createElement('div');\n",
              "          docLink.innerHTML = docLinkHtml;\n",
              "          element.appendChild(docLink);\n",
              "        }\n",
              "      </script>\n",
              "    </div>\n",
              "  </div>\n",
              "  "
            ]
          },
          "metadata": {},
          "execution_count": 786
        }
      ]
    },
    {
      "cell_type": "code",
      "source": [
        "df_escolaridade = pd.DataFrame(\n",
        "    df_novo.groupby(by='escolaridade')['ltv_cliente'].mean()\n",
        ")\n",
        "\n",
        "df_escolaridade.plot(kind='bar')\n",
        "\n",
        "# Define o título do gráfico e dos eixos\n",
        "plt.title('Média de LTV por Escolaridade')\n",
        "plt.xlabel('Escolaridade')\n",
        "plt.ylabel('Média de LTV')\n",
        "\n",
        "# Exibe o gráfico\n",
        "plt.show()"
      ],
      "metadata": {
        "colab": {
          "base_uri": "https://localhost:8080/",
          "height": 797
        },
        "id": "6wCw_2Zv2jBz",
        "outputId": "b1a165aa-0774-49cb-af77-4df77ec78a9c"
      },
      "execution_count": 787,
      "outputs": [
        {
          "output_type": "display_data",
          "data": {
            "text/plain": [
              "<Figure size 900x600 with 1 Axes>"
            ],
            "image/png": "[encoded data removed]"
          },
          "metadata": {
            "image/png": {
              "width": 799,
              "height": 780
            }
          }
        }
      ]
    },
    {
      "cell_type": "markdown",
      "source": [
        "## LTV por renda"
      ],
      "metadata": {
        "id": "L3L3npXC23LH"
      }
    },
    {
      "cell_type": "code",
      "source": [
        "pd.DataFrame(\n",
        "    df_novo.groupby(\n",
        "        by='renda_mensal'\n",
        "    )['ltv_cliente'].mean()\n",
        ")"
      ],
      "metadata": {
        "colab": {
          "base_uri": "https://localhost:8080/",
          "height": 363
        },
        "id": "7kaPM-wY25He",
        "outputId": "59e3572b-809c-4202-ec0b-ec14029b42e0"
      },
      "execution_count": 788,
      "outputs": [
        {
          "output_type": "execute_result",
          "data": {
            "text/plain": [
              "                          ltv_cliente\n",
              "renda_mensal                         \n",
              "Acima de R$10.000         3394.122479\n",
              "Entre R$1.000 e R$2.000   1887.008554\n",
              "Entre R$2.000 e R$3.000   2360.158396\n",
              "Entre R$3.000 e R$5.000   2651.972624\n",
              "Entre R$5.000 e R$10.000  2852.239587\n",
              "Entre R$500 e R$1.000     1664.851316\n",
              "Estou Desempregada(o)     1475.829718\n",
              "Menos de R$500            1578.720311\n",
              "Não quero informar        2847.001947"
            ],
            "text/html": [
              "\n",
              "  <div id=\"df-db8c94d8-6ead-4dfc-ab0f-3d71d0e8bdb7\">\n",
              "    <div class=\"colab-df-container\">\n",
              "      <div>\n",
              "<style scoped>\n",
              "    .dataframe tbody tr th:only-of-type {\n",
              "        vertical-align: middle;\n",
              "    }\n",
              "\n",
              "    .dataframe tbody tr th {\n",
              "        vertical-align: top;\n",
              "    }\n",
              "\n",
              "    .dataframe thead th {\n",
              "        text-align: right;\n",
              "    }\n",
              "</style>\n",
              "<table border=\"1\" class=\"dataframe\">\n",
              "  <thead>\n",
              "    <tr style=\"text-align: right;\">\n",
              "      <th></th>\n",
              "      <th>ltv_cliente</th>\n",
              "    </tr>\n",
              "    <tr>\n",
              "      <th>renda_mensal</th>\n",
              "      <th></th>\n",
              "    </tr>\n",
              "  </thead>\n",
              "  <tbody>\n",
              "    <tr>\n",
              "      <th>Acima de R$10.000</th>\n",
              "      <td>3394.122479</td>\n",
              "    </tr>\n",
              "    <tr>\n",
              "      <th>Entre R$1.000 e R$2.000</th>\n",
              "      <td>1887.008554</td>\n",
              "    </tr>\n",
              "    <tr>\n",
              "      <th>Entre R$2.000 e R$3.000</th>\n",
              "      <td>2360.158396</td>\n",
              "    </tr>\n",
              "    <tr>\n",
              "      <th>Entre R$3.000 e R$5.000</th>\n",
              "      <td>2651.972624</td>\n",
              "    </tr>\n",
              "    <tr>\n",
              "      <th>Entre R$5.000 e R$10.000</th>\n",
              "      <td>2852.239587</td>\n",
              "    </tr>\n",
              "    <tr>\n",
              "      <th>Entre R$500 e R$1.000</th>\n",
              "      <td>1664.851316</td>\n",
              "    </tr>\n",
              "    <tr>\n",
              "      <th>Estou Desempregada(o)</th>\n",
              "      <td>1475.829718</td>\n",
              "    </tr>\n",
              "    <tr>\n",
              "      <th>Menos de R$500</th>\n",
              "      <td>1578.720311</td>\n",
              "    </tr>\n",
              "    <tr>\n",
              "      <th>Não quero informar</th>\n",
              "      <td>2847.001947</td>\n",
              "    </tr>\n",
              "  </tbody>\n",
              "</table>\n",
              "</div>\n",
              "      <button class=\"colab-df-convert\" onclick=\"convertToInteractive('df-db8c94d8-6ead-4dfc-ab0f-3d71d0e8bdb7')\"\n",
              "              title=\"Convert this dataframe to an interactive table.\"\n",
              "              style=\"display:none;\">\n",
              "        \n",
              "  <svg xmlns=\"http://www.w3.org/2000/svg\" height=\"24px\"viewBox=\"0 0 24 24\"\n",
              "       width=\"24px\">\n",
              "    <path d=\"M0 0h24v24H0V0z\" fill=\"none\"/>\n",
              "    <path d=\"M18.56 5.44l.94 2.06.94-2.06 2.06-.94-2.06-.94-.94-2.06-.94 2.06-2.06.94zm-11 1L8.5 8.5l.94-2.06 2.06-.94-2.06-.94L8.5 2.5l-.94 2.06-2.06.94zm10 10l.94 2.06.94-2.06 2.06-.94-2.06-.94-.94-2.06-.94 2.06-2.06.94z\"/><path d=\"M17.41 7.96l-1.37-1.37c-.4-.4-.92-.59-1.43-.59-.52 0-1.04.2-1.43.59L10.3 9.45l-7.72 7.72c-.78.78-.78 2.05 0 2.83L4 21.41c.39.39.9.59 1.41.59.51 0 1.02-.2 1.41-.59l7.78-7.78 2.81-2.81c.8-.78.8-2.07 0-2.86zM5.41 20L4 18.59l7.72-7.72 1.47 1.35L5.41 20z\"/>\n",
              "  </svg>\n",
              "      </button>\n",
              "      \n",
              "  <style>\n",
              "    .colab-df-container {\n",
              "      display:flex;\n",
              "      flex-wrap:wrap;\n",
              "      gap: 12px;\n",
              "    }\n",
              "\n",
              "    .colab-df-convert {\n",
              "      background-color: #E8F0FE;\n",
              "      border: none;\n",
              "      border-radius: 50%;\n",
              "      cursor: pointer;\n",
              "      display: none;\n",
              "      fill: #1967D2;\n",
              "      height: 32px;\n",
              "      padding: 0 0 0 0;\n",
              "      width: 32px;\n",
              "    }\n",
              "\n",
              "    .colab-df-convert:hover {\n",
              "      background-color: #E2EBFA;\n",
              "      box-shadow: 0px 1px 2px rgba(60, 64, 67, 0.3), 0px 1px 3px 1px rgba(60, 64, 67, 0.15);\n",
              "      fill: #174EA6;\n",
              "    }\n",
              "\n",
              "    [theme=dark] .colab-df-convert {\n",
              "      background-color: #3B4455;\n",
              "      fill: #D2E3FC;\n",
              "    }\n",
              "\n",
              "    [theme=dark] .colab-df-convert:hover {\n",
              "      background-color: #434B5C;\n",
              "      box-shadow: 0px 1px 3px 1px rgba(0, 0, 0, 0.15);\n",
              "      filter: drop-shadow(0px 1px 2px rgba(0, 0, 0, 0.3));\n",
              "      fill: #FFFFFF;\n",
              "    }\n",
              "  </style>\n",
              "\n",
              "      <script>\n",
              "        const buttonEl =\n",
              "          document.querySelector('#df-db8c94d8-6ead-4dfc-ab0f-3d71d0e8bdb7 button.colab-df-convert');\n",
              "        buttonEl.style.display =\n",
              "          google.colab.kernel.accessAllowed ? 'block' : 'none';\n",
              "\n",
              "        async function convertToInteractive(key) {\n",
              "          const element = document.querySelector('#df-db8c94d8-6ead-4dfc-ab0f-3d71d0e8bdb7');\n",
              "          const dataTable =\n",
              "            await google.colab.kernel.invokeFunction('convertToInteractive',\n",
              "                                                     [key], {});\n",
              "          if (!dataTable) return;\n",
              "\n",
              "          const docLinkHtml = 'Like what you see? Visit the ' +\n",
              "            '<a target=\"_blank\" href=https://colab.research.google.com/notebooks/data_table.ipynb>data table notebook</a>'\n",
              "            + ' to learn more about interactive tables.';\n",
              "          element.innerHTML = '';\n",
              "          dataTable['output_type'] = 'display_data';\n",
              "          await google.colab.output.renderOutput(dataTable, element);\n",
              "          const docLink = document.createElement('div');\n",
              "          docLink.innerHTML = docLinkHtml;\n",
              "          element.appendChild(docLink);\n",
              "        }\n",
              "      </script>\n",
              "    </div>\n",
              "  </div>\n",
              "  "
            ]
          },
          "metadata": {},
          "execution_count": 788
        }
      ]
    },
    {
      "cell_type": "code",
      "source": [
        "df_renda = pd.DataFrame(\n",
        "    df_novo.groupby(by='renda_mensal')['ltv_cliente'].mean()\n",
        ")\n",
        "\n",
        "df_renda.plot(kind='bar')\n",
        "\n",
        "# Define o título do gráfico e dos eixos\n",
        "plt.title('Média de LTV por Renda Mensal')\n",
        "plt.xlabel('Renda Mensal')\n",
        "plt.ylabel('Média de LTV')\n",
        "\n",
        "# Exibe o gráfico\n",
        "plt.show()"
      ],
      "metadata": {
        "colab": {
          "base_uri": "https://localhost:8080/",
          "height": 749
        },
        "id": "Olfe9wTJ295l",
        "outputId": "e47b184c-3e6a-4e42-e6c5-fde9f34b2a84"
      },
      "execution_count": 789,
      "outputs": [
        {
          "output_type": "display_data",
          "data": {
            "text/plain": [
              "<Figure size 900x600 with 1 Axes>"
            ],
            "image/png": "[encoded data removed]"
          },
          "metadata": {
            "image/png": {
              "width": 799,
              "height": 732
            }
          }
        }
      ]
    },
    {
      "cell_type": "markdown",
      "source": [
        "# Teste T"
      ],
      "metadata": {
        "id": "tceOavzV4OG5"
      }
    },
    {
      "cell_type": "markdown",
      "source": [
        "A empresa acredita que o cliente que os seus melhores clientes possuem idade entre 45 e 54 anos. **Premissa para análise**: melhores clientes são aqueles que possuem o maior LTV"
      ],
      "metadata": {
        "id": "m4Gx_hN-4RSt"
      }
    },
    {
      "cell_type": "markdown",
      "source": [
        "**HIpótese nula:** não há diferença significativa entre as médias das vendas dos clientes com idade entre 30 e 45 anos e as vendas dos clientes em outras faixas etárias"
      ],
      "metadata": {
        "id": "Cp6PgUZ_-JZW"
      }
    },
    {
      "cell_type": "code",
      "source": [
        "clientes_interesse = df_novo[df_novo['faixas_idade'] == '45 - 54 anos']\n",
        "clientes_outros = df_novo[df_novo['faixas_idade'] != '45 - 54 anos']\n",
        "\n",
        "clientes_interesse = clientes_interesse.dropna(subset=['ltv_cliente'])\n",
        "clientes_outros = clientes_outros.dropna(subset=['ltv_cliente'])\n",
        "\n",
        "t, p = ttest_ind(clientes_interesse['ltv_cliente'], clientes_outros['ltv_cliente'], equal_var=False)\n",
        "\n",
        "print('O valor do teste t é:', t)\n",
        "print('O valor p é:', p)\n"
      ],
      "metadata": {
        "colab": {
          "base_uri": "https://localhost:8080/"
        },
        "id": "srv6zmBW6cna",
        "outputId": "4a50318a-8ee7-4c43-be6a-db25dbbbe843"
      },
      "execution_count": 790,
      "outputs": [
        {
          "output_type": "stream",
          "name": "stdout",
          "text": [
            "O valor do teste t é: -25.63997156091893\n",
            "O valor p é: 8.103488941410954e-144\n"
          ]
        }
      ]
    },
    {
      "cell_type": "code",
      "source": [
        "clientes_interesse = df_novo[df_novo['faixas_idade'] == '35 - 44 anos']\n",
        "clientes_outros = df_novo[df_novo['faixas_idade'] != '35 - 44 anos']\n",
        "\n",
        "clientes_interesse = clientes_interesse.dropna(subset=['ltv_cliente'])\n",
        "clientes_outros = clientes_outros.dropna(subset=['ltv_cliente'])\n",
        "\n",
        "t, p = ttest_ind(clientes_interesse['ltv_cliente'], clientes_outros['ltv_cliente'], equal_var=False)\n",
        "\n",
        "print('O valor do teste t é:', t)\n",
        "print('O valor p é:', p)\n"
      ],
      "metadata": {
        "colab": {
          "base_uri": "https://localhost:8080/"
        },
        "id": "ogdL0sjhALwm",
        "outputId": "210b310d-eee8-45d4-8b20-fc21ec0d7e0a"
      },
      "execution_count": 791,
      "outputs": [
        {
          "output_type": "stream",
          "name": "stdout",
          "text": [
            "O valor do teste t é: -43.89385184645\n",
            "O valor p é: 0.0\n"
          ]
        }
      ]
    },
    {
      "cell_type": "markdown",
      "source": [
        "# Tranformação das variáveis categóricas em dummies"
      ],
      "metadata": {
        "id": "lfxiI5USUhLx"
      }
    },
    {
      "cell_type": "code",
      "source": [
        "df = df.drop_duplicates(subset=['email_cliente'])\n"
      ],
      "metadata": {
        "id": "FrODLRjntm_T"
      },
      "execution_count": 792,
      "outputs": []
    },
    {
      "cell_type": "code",
      "source": [
        "df_novo['faixas_idade'].value_counts()\n"
      ],
      "metadata": {
        "colab": {
          "base_uri": "https://localhost:8080/"
        },
        "id": "kO90g-bQUpiT",
        "outputId": "97eac4dc-6367-4b30-d5f6-dee68e015f97"
      },
      "execution_count": 793,
      "outputs": [
        {
          "output_type": "execute_result",
          "data": {
            "text/plain": [
              "55 - 64 anos        15048\n",
              "45 - 54 anos        14635\n",
              "65 anos ou mais      8390\n",
              "35 - 44 anos         7461\n",
              "25 - 34 anos         1345\n",
              "24 anos ou menos      240\n",
              "Name: faixas_idade, dtype: int64"
            ]
          },
          "metadata": {},
          "execution_count": 793
        }
      ]
    },
    {
      "cell_type": "code",
      "source": [
        "dummie_idade = pd.get_dummies(df_novo['faixas_idade'], drop_first=True, prefix='idade')\n",
        "df_novo = pd.concat([df_novo, dummie_idade], axis=1)\n",
        "\n",
        "print(dummie_idade)"
      ],
      "metadata": {
        "colab": {
          "base_uri": "https://localhost:8080/"
        },
        "id": "QJkROWfCOfFH",
        "outputId": "42ef6ea9-2443-47ca-b362-e5a94cced70d"
      },
      "execution_count": 794,
      "outputs": [
        {
          "output_type": "stream",
          "name": "stdout",
          "text": [
            "       idade_25 - 34 anos  idade_35 - 44 anos  idade_45 - 54 anos  \\\n",
            "20                      0                   0                   1   \n",
            "21                      0                   0                   1   \n",
            "53                      0                   0                   1   \n",
            "54                      0                   0                   1   \n",
            "56                      0                   0                   1   \n",
            "...                   ...                 ...                 ...   \n",
            "51727                   1                   0                   0   \n",
            "51728                   0                   1                   0   \n",
            "51729                   0                   0                   0   \n",
            "51730                   0                   0                   1   \n",
            "51731                   0                   0                   0   \n",
            "\n",
            "       idade_55 - 64 anos  idade_65 anos ou mais  \n",
            "20                      0                      0  \n",
            "21                      0                      0  \n",
            "53                      0                      0  \n",
            "54                      0                      0  \n",
            "56                      0                      0  \n",
            "...                   ...                    ...  \n",
            "51727                   0                      0  \n",
            "51728                   0                      0  \n",
            "51729                   1                      0  \n",
            "51730                   0                      0  \n",
            "51731                   1                      0  \n",
            "\n",
            "[47119 rows x 5 columns]\n"
          ]
        }
      ]
    },
    {
      "cell_type": "code",
      "source": [
        "df_novo['renda_mensal'].value_counts()\n"
      ],
      "metadata": {
        "colab": {
          "base_uri": "https://localhost:8080/"
        },
        "id": "zSdMg3k1paQf",
        "outputId": "12f2a8cd-52ef-4ea3-e7a2-1e6b8d61ad8f"
      },
      "execution_count": 795,
      "outputs": [
        {
          "output_type": "execute_result",
          "data": {
            "text/plain": [
              "Entre R$1.000 e R$2.000     8494\n",
              "Entre R$2.000 e R$3.000     7347\n",
              "Entre R$3.000 e R$5.000     7133\n",
              "Não quero informar          6119\n",
              "Entre R$500 e R$1.000       5246\n",
              "Entre R$5.000 e R$10.000    4992\n",
              "Estou Desempregada(o)       4483\n",
              "Acima de R$10.000           1635\n",
              "Menos de R$500              1214\n",
              "Name: renda_mensal, dtype: int64"
            ]
          },
          "metadata": {},
          "execution_count": 795
        }
      ]
    },
    {
      "cell_type": "code",
      "source": [
        "dummie_renda = pd.get_dummies(df_novo['renda_mensal'], drop_first=True)\n",
        "df_novo = pd.concat([df_novo, dummie_renda], axis=1)\n",
        "print(dummie_renda)"
      ],
      "metadata": {
        "colab": {
          "base_uri": "https://localhost:8080/"
        },
        "id": "GfXDyggtOxuT",
        "outputId": "f4d5d4c2-5f25-45b9-a3dd-fc696bb8c552"
      },
      "execution_count": 796,
      "outputs": [
        {
          "output_type": "stream",
          "name": "stdout",
          "text": [
            "       Entre R$1.000 e R$2.000  Entre R$2.000 e R$3.000  \\\n",
            "20                           0                        0   \n",
            "21                           0                        0   \n",
            "53                           0                        0   \n",
            "54                           0                        0   \n",
            "56                           0                        0   \n",
            "...                        ...                      ...   \n",
            "51727                        1                        0   \n",
            "51728                        0                        0   \n",
            "51729                        0                        0   \n",
            "51730                        0                        0   \n",
            "51731                        0                        0   \n",
            "\n",
            "       Entre R$3.000 e R$5.000  Entre R$5.000 e R$10.000  \\\n",
            "20                           0                         0   \n",
            "21                           0                         0   \n",
            "53                           0                         0   \n",
            "54                           0                         0   \n",
            "56                           1                         0   \n",
            "...                        ...                       ...   \n",
            "51727                        0                         0   \n",
            "51728                        0                         1   \n",
            "51729                        0                         0   \n",
            "51730                        0                         1   \n",
            "51731                        0                         0   \n",
            "\n",
            "       Entre R$500 e R$1.000  Estou Desempregada(o)  Menos de R$500  \\\n",
            "20                         0                      0               0   \n",
            "21                         0                      0               0   \n",
            "53                         0                      0               0   \n",
            "54                         0                      0               0   \n",
            "56                         0                      0               0   \n",
            "...                      ...                    ...             ...   \n",
            "51727                      0                      0               0   \n",
            "51728                      0                      0               0   \n",
            "51729                      0                      1               0   \n",
            "51730                      0                      0               0   \n",
            "51731                      0                      1               0   \n",
            "\n",
            "       Não quero informar  \n",
            "20                      1  \n",
            "21                      1  \n",
            "53                      1  \n",
            "54                      1  \n",
            "56                      0  \n",
            "...                   ...  \n",
            "51727                   0  \n",
            "51728                   0  \n",
            "51729                   0  \n",
            "51730                   0  \n",
            "51731                   0  \n",
            "\n",
            "[47119 rows x 8 columns]\n"
          ]
        }
      ]
    },
    {
      "cell_type": "code",
      "source": [
        "df_novo['primeiro_produto'].value_counts()\n"
      ],
      "metadata": {
        "colab": {
          "base_uri": "https://localhost:8080/"
        },
        "id": "amQaSCAPpNzE",
        "outputId": "533e248c-545d-4812-d607-c0e0f6b8f0ba"
      },
      "execution_count": 797,
      "outputs": [
        {
          "output_type": "execute_result",
          "data": {
            "text/plain": [
              "Revista Digital: Viva com Saúde por Dr. Dayan Siebra    8448\n",
              "[VSA] Viva com Saúde (Assinatura)                       3799\n",
              "[PED] Programa do Emagrecimento (Assinatura)            2759\n",
              "PED • Programa de Emagrecimento Definitivo [P]          2723\n",
              "PED • Programa de Emagrecimento Definitivo [R]          2350\n",
              "                                                        ... \n",
              "Kit Vita - 1 Pote de Cada                                  1\n",
              "VitaD                                                      1\n",
              "Fórmula SB3 Amostra grátis                                 1\n",
              "Vita D - Kit com 5 Potes                                   1\n",
              "Vita D - Kit com 3 Potes                                   1\n",
              "Name: primeiro_produto, Length: 178, dtype: int64"
            ]
          },
          "metadata": {},
          "execution_count": 797
        }
      ]
    },
    {
      "cell_type": "code",
      "source": [
        "dummie_primeiroprod = pd.get_dummies(df_novo['primeiro_produto'], drop_first=True)\n",
        "df_novo = pd.concat([df_novo, dummie_primeiroprod], axis=1)\n",
        "\n",
        "print(dummie_primeiroprod)"
      ],
      "metadata": {
        "colab": {
          "base_uri": "https://localhost:8080/"
        },
        "id": "kxIHPi3TPCPC",
        "outputId": "939d6d83-aac5-4e21-dc4c-74733bd97127"
      },
      "execution_count": 798,
      "outputs": [
        {
          "output_type": "stream",
          "name": "stdout",
          "text": [
            "       Belavita - Kit com 3 Potes  Belavita - Kit com 8 Potes  \\\n",
            "20                              0                           0   \n",
            "21                              0                           0   \n",
            "53                              0                           0   \n",
            "54                              0                           0   \n",
            "56                              0                           0   \n",
            "...                           ...                         ...   \n",
            "51727                           0                           0   \n",
            "51728                           0                           0   \n",
            "51729                           0                           0   \n",
            "51730                           0                           0   \n",
            "51731                           0                           0   \n",
            "\n",
            "       Belavita - Pote Unitário  Colágeno Tipo 2 | 30 dias  \\\n",
            "20                            0                          0   \n",
            "21                            0                          0   \n",
            "53                            0                          0   \n",
            "54                            0                          0   \n",
            "56                            0                          0   \n",
            "...                         ...                        ...   \n",
            "51727                         0                          0   \n",
            "51728                         0                          0   \n",
            "51729                         0                          0   \n",
            "51730                         0                          0   \n",
            "51731                         0                          0   \n",
            "\n",
            "       Colágeno Tipo 2 | Kit 60 dias  Colágeno Tipo 2 | Kit 90 dias  \\\n",
            "20                                 0                              0   \n",
            "21                                 0                              0   \n",
            "53                                 0                              0   \n",
            "54                                 0                              0   \n",
            "56                                 0                              0   \n",
            "...                              ...                            ...   \n",
            "51727                              0                              0   \n",
            "51728                              0                              0   \n",
            "51729                              0                              0   \n",
            "51730                              0                              0   \n",
            "51731                              0                              0   \n",
            "\n",
            "       Detox Sistemico  Detox Sistêmico  Ebook Detox de 15 Dias  \\\n",
            "20                   0                0                       0   \n",
            "21                   0                0                       0   \n",
            "53                   0                0                       0   \n",
            "54                   0                0                       0   \n",
            "56                   0                0                       0   \n",
            "...                ...              ...                     ...   \n",
            "51727                0                0                       0   \n",
            "51728                0                0                       0   \n",
            "51729                0                0                       0   \n",
            "51730                0                0                       0   \n",
            "51731                0                0                       0   \n",
            "\n",
            "       Evento Presencial Dayan Siebra  ...  [VSA] Viva com Saúde (Assinatura)  \\\n",
            "20                                  0  ...                                  0   \n",
            "21                                  0  ...                                  0   \n",
            "53                                  0  ...                                  1   \n",
            "54                                  0  ...                                  1   \n",
            "56                                  0  ...                                  0   \n",
            "...                               ...  ...                                ...   \n",
            "51727                               0  ...                                  1   \n",
            "51728                               0  ...                                  0   \n",
            "51729                               0  ...                                  0   \n",
            "51730                               0  ...                                  1   \n",
            "51731                               0  ...                                  0   \n",
            "\n",
            "       [VSA] Viva com Saúde: Revista Digital (Assinatura)  \\\n",
            "20                                                     0    \n",
            "21                                                     0    \n",
            "53                                                     0    \n",
            "54                                                     0    \n",
            "56                                                     0    \n",
            "...                                                  ...    \n",
            "51727                                                  0    \n",
            "51728                                                  0    \n",
            "51729                                                  0    \n",
            "51730                                                  0    \n",
            "51731                                                  0    \n",
            "\n",
            "       [VSA] Viva com Saúde: Revista Digital (One Time)  \\\n",
            "20                                                    0   \n",
            "21                                                    0   \n",
            "53                                                    0   \n",
            "54                                                    0   \n",
            "56                                                    0   \n",
            "...                                                 ...   \n",
            "51727                                                 0   \n",
            "51728                                                 0   \n",
            "51729                                                 0   \n",
            "51730                                                 0   \n",
            "51731                                                 0   \n",
            "\n",
            "       Ômega Vita - Kit com 3 Potes  \\\n",
            "20                                0   \n",
            "21                                0   \n",
            "53                                0   \n",
            "54                                0   \n",
            "56                                0   \n",
            "...                             ...   \n",
            "51727                             0   \n",
            "51728                             0   \n",
            "51729                             0   \n",
            "51730                             0   \n",
            "51731                             0   \n",
            "\n",
            "       Ômega Vita - Kit com 3 Potes (Frete grátis)  \\\n",
            "20                                               0   \n",
            "21                                               0   \n",
            "53                                               0   \n",
            "54                                               0   \n",
            "56                                               0   \n",
            "...                                            ...   \n",
            "51727                                            0   \n",
            "51728                                            0   \n",
            "51729                                            0   \n",
            "51730                                            0   \n",
            "51731                                            0   \n",
            "\n",
            "       Ômega Vita - Kit com 5 Potes  \\\n",
            "20                                0   \n",
            "21                                0   \n",
            "53                                0   \n",
            "54                                0   \n",
            "56                                0   \n",
            "...                             ...   \n",
            "51727                             0   \n",
            "51728                             0   \n",
            "51729                             0   \n",
            "51730                             0   \n",
            "51731                             0   \n",
            "\n",
            "       Ômega Vita - Kit com 7 Potes (Frete grátis)  \\\n",
            "20                                               0   \n",
            "21                                               0   \n",
            "53                                               0   \n",
            "54                                               0   \n",
            "56                                               0   \n",
            "...                                            ...   \n",
            "51727                                            0   \n",
            "51728                                            0   \n",
            "51729                                            0   \n",
            "51730                                            0   \n",
            "51731                                            0   \n",
            "\n",
            "       Ômega Vita - Kit com 8 Potes  Ômega Vita - Pote Unitário  \\\n",
            "20                                0                           0   \n",
            "21                                0                           0   \n",
            "53                                0                           0   \n",
            "54                                0                           0   \n",
            "56                                0                           0   \n",
            "...                             ...                         ...   \n",
            "51727                             0                           0   \n",
            "51728                             0                           0   \n",
            "51729                             0                           0   \n",
            "51730                             0                           0   \n",
            "51731                             0                           0   \n",
            "\n",
            "       Ômega Vita - Pote Unitário (Frete grátis)  \n",
            "20                                             0  \n",
            "21                                             0  \n",
            "53                                             0  \n",
            "54                                             0  \n",
            "56                                             0  \n",
            "...                                          ...  \n",
            "51727                                          0  \n",
            "51728                                          0  \n",
            "51729                                          0  \n",
            "51730                                          0  \n",
            "51731                                          0  \n",
            "\n",
            "[47119 rows x 177 columns]\n"
          ]
        }
      ]
    },
    {
      "cell_type": "code",
      "source": [
        "dummie_genero = pd.get_dummies(df_novo['genero'], drop_first=True)\n",
        "df_novo = pd.concat([df_novo, dummie_genero], axis=1)\n",
        "\n",
        "print(dummie_genero)"
      ],
      "metadata": {
        "colab": {
          "base_uri": "https://localhost:8080/"
        },
        "id": "f3e6H8bcn5cq",
        "outputId": "dbdb4ebd-ae54-45e5-cc84-8a4649be9e36"
      },
      "execution_count": 799,
      "outputs": [
        {
          "output_type": "stream",
          "name": "stdout",
          "text": [
            "       Mulher  Outro\n",
            "20          1      0\n",
            "21          1      0\n",
            "53          1      0\n",
            "54          1      0\n",
            "56          1      0\n",
            "...       ...    ...\n",
            "51727       1      0\n",
            "51728       0      0\n",
            "51729       1      0\n",
            "51730       1      0\n",
            "51731       1      0\n",
            "\n",
            "[47119 rows x 2 columns]\n"
          ]
        }
      ]
    },
    {
      "cell_type": "markdown",
      "source": [
        "# Stepwise Selection"
      ],
      "metadata": {
        "id": "tp32AQ1UKRoM"
      }
    },
    {
      "cell_type": "markdown",
      "source": [
        "## Foward Selection"
      ],
      "metadata": {
        "id": "Fk7tkXJCZZ6I"
      }
    },
    {
      "cell_type": "code",
      "source": [
        "import pandas as pd\n",
        "\n",
        "# Variáveis de entrada\n",
        "X = df_novo[['idade_25 - 34 anos', 'idade_35 - 44 anos', 'idade_45 - 54 anos', 'idade_55 - 64 anos', 'idade_65 anos ou mais', 'Entre R$1.000 e R$2.000', 'Entre R$2.000 e R$3.000', 'Entre R$3.000 e R$5.000', 'Entre R$5.000 e R$10.000',\n",
        "             'Entre R$500 e R$1.000', 'Estou Desempregada(o)', 'Menos de R$500', 'Não quero informar']]\n",
        "\n",
        "\n",
        "# Variável de saída\n",
        "y = df_novo['ltv_cliente']\n"
      ],
      "metadata": {
        "id": "ElgElqG7KR8C"
      },
      "execution_count": 800,
      "outputs": []
    },
    {
      "cell_type": "code",
      "source": [
        "X = sm.add_constant(X)\n",
        "\n",
        "# iniciando o modelo com uma variável vazia \n",
        "model = sm.OLS(y, X[['const']]).fit()\n",
        "\n",
        "# Loop para adicionar variáveis uma de cada vez\n",
        "for i in X.columns:\n",
        "    if i != 'const':\n",
        "        # Adicionando uma variável ao modelo\n",
        "        model_new = sm.OLS(y, X[['const', i]]).fit()\n",
        "        # Verificando se a nova variável é significativa\n",
        "        if model_new.f_pvalue < 0.5:\n",
        "            model = model_new\n",
        "\n",
        "# Imprimindo os resultados do modelo\n",
        "print(model.summary())"
      ],
      "metadata": {
        "colab": {
          "base_uri": "https://localhost:8080/"
        },
        "id": "Osa0afzWPRCT",
        "outputId": "950702e2-d2b8-4d23-8cc7-5326448434d9"
      },
      "execution_count": 801,
      "outputs": [
        {
          "output_type": "stream",
          "name": "stdout",
          "text": [
            "                            OLS Regression Results                            \n",
            "==============================================================================\n",
            "Dep. Variable:            ltv_cliente   R-squared:                       0.008\n",
            "Model:                            OLS   Adj. R-squared:                  0.007\n",
            "Method:                 Least Squares   F-statistic:                     356.5\n",
            "Date:                Mon, 10 Apr 2023   Prob (F-statistic):           3.26e-79\n",
            "Time:                        10:30:55   Log-Likelihood:            -4.3600e+05\n",
            "No. Observations:               47119   AIC:                         8.720e+05\n",
            "Df Residuals:                   47117   BIC:                         8.720e+05\n",
            "Df Model:                           1                                         \n",
            "Covariance Type:            nonrobust                                         \n",
            "======================================================================================\n",
            "                         coef    std err          t      P>|t|      [0.025      0.975]\n",
            "--------------------------------------------------------------------------------------\n",
            "const               2193.5211     12.473    175.862      0.000    2169.074    2217.968\n",
            "Não quero informar   653.4808     34.612     18.880      0.000     585.641     721.321\n",
            "==============================================================================\n",
            "Omnibus:                    26199.067   Durbin-Watson:                   0.229\n",
            "Prob(Omnibus):                  0.000   Jarque-Bera (JB):           219934.676\n",
            "Skew:                           2.596   Prob(JB):                         0.00\n",
            "Kurtosis:                      12.224   Cond. No.                         3.03\n",
            "==============================================================================\n",
            "\n",
            "Notes:\n",
            "[1] Standard Errors assume that the covariance matrix of the errors is correctly specified.\n"
          ]
        }
      ]
    },
    {
      "cell_type": "markdown",
      "source": [
        "## Backward Elimination"
      ],
      "metadata": {
        "id": "8k8Irs2vguXU"
      }
    },
    {
      "cell_type": "code",
      "source": [
        "from zmq.constants import XPUB_MANUAL\n",
        "# adição de constante para o modelo \n",
        "X = sm.add_constant(X)\n",
        "\n",
        "# Variáveis de entrada\n",
        "X = df_novo[['idade_25 - 34 anos', 'idade_35 - 44 anos', 'idade_45 - 54 anos', 'idade_55 - 64 anos', 'idade_65 anos ou mais', 'Entre R$1.000 e R$2.000', 'Entre R$2.000 e R$3.000', 'Entre R$3.000 e R$5.000', 'Entre R$5.000 e R$10.000',\n",
        "             'Entre R$500 e R$1.000', 'Estou Desempregada(o)', 'Menos de R$500', 'Não quero informar', 'Mulher', 'Outro']]\n",
        "\n",
        "\n",
        "# Variável de saída\n",
        "y = df_novo['ltv_cliente']\n",
        "\n",
        "# Enquanto houver mais de uma variável no modelo\n",
        "while X.shape[1] > 1:\n",
        "    \n",
        "    # Ajustando o modelo de regressão linear\n",
        "    model = sm.OLS(y, X).fit()\n",
        "    \n",
        "    # Calculando os valores p para todas as variáveis\n",
        "    p_vals = model.pvalues\n",
        "    \n",
        "    # Encontrando a variável com o maior valor p\n",
        "    max_p_idx = p_vals.argmax()\n",
        "    \n",
        "    # Removendo a variável com o maior valor p\n",
        "    if max_p_idx == 0:\n",
        "        X = X.iloc[:, 1:]\n",
        "    else:\n",
        "        X = X.drop(X.columns[max_p_idx], axis=1)\n",
        "    \n",
        "    # Imprimindo as variáveis selecionadas e os coeficientes correspondentes\n",
        "    print('Selected features:', list(X.columns))\n",
        "    print('Coefficients:', model.params)\n",
        "    print('R-squared:', model.rsquared)\n",
        "    print('\\n')"
      ],
      "metadata": {
        "colab": {
          "base_uri": "https://localhost:8080/"
        },
        "id": "5ljJtsk-gxof",
        "outputId": "fb8d486d-f976-4dfb-f958-0d68e1610b78"
      },
      "execution_count": 802,
      "outputs": [
        {
          "output_type": "stream",
          "name": "stdout",
          "text": [
            "Selected features: ['idade_25 - 34 anos', 'idade_35 - 44 anos', 'idade_45 - 54 anos', 'idade_55 - 64 anos', 'idade_65 anos ou mais', 'Entre R$1.000 e R$2.000', 'Entre R$2.000 e R$3.000', 'Entre R$5.000 e R$10.000', 'Entre R$500 e R$1.000', 'Estou Desempregada(o)', 'Menos de R$500', 'Não quero informar', 'Mulher', 'Outro']\n",
            "Coefficients: idade_25 - 34 anos          1310.630147\n",
            "idade_35 - 44 anos          1398.358857\n",
            "idade_45 - 54 anos          1740.753549\n",
            "idade_55 - 64 anos          2374.575429\n",
            "idade_65 anos ou mais       2823.326501\n",
            "Entre R$1.000 e R$2.000     -661.883763\n",
            "Entre R$2.000 e R$3.000     -289.696466\n",
            "Entre R$3.000 e R$5.000      -40.194369\n",
            "Entre R$5.000 e R$10.000     108.055429\n",
            "Entre R$500 e R$1.000       -886.958669\n",
            "Estou Desempregada(o)       -939.586367\n",
            "Menos de R$500              -833.745792\n",
            "Não quero informar            97.341503\n",
            "Mulher                       657.955107\n",
            "Outro                      -1141.497237\n",
            "dtype: float64\n",
            "R-squared: 0.49110803096198063\n",
            "\n",
            "\n",
            "Selected features: ['idade_25 - 34 anos', 'idade_35 - 44 anos', 'idade_45 - 54 anos', 'idade_55 - 64 anos', 'idade_65 anos ou mais', 'Entre R$1.000 e R$2.000', 'Entre R$2.000 e R$3.000', 'Entre R$5.000 e R$10.000', 'Entre R$500 e R$1.000', 'Estou Desempregada(o)', 'Menos de R$500', 'Não quero informar', 'Mulher']\n",
            "Coefficients: idade_25 - 34 anos          1281.786924\n",
            "idade_35 - 44 anos          1369.703765\n",
            "idade_45 - 54 anos          1712.127733\n",
            "idade_55 - 64 anos          2345.847815\n",
            "idade_65 anos ou mais       2795.264453\n",
            "Entre R$1.000 e R$2.000     -631.467725\n",
            "Entre R$2.000 e R$3.000     -259.185609\n",
            "Entre R$5.000 e R$10.000     138.270422\n",
            "Entre R$500 e R$1.000       -856.419292\n",
            "Estou Desempregada(o)       -909.175059\n",
            "Menos de R$500              -803.517039\n",
            "Não quero informar           127.794531\n",
            "Mulher                       655.632865\n",
            "Outro                      -1145.767018\n",
            "dtype: float64\n",
            "R-squared: 0.491102907656766\n",
            "\n",
            "\n",
            "Selected features: ['idade_25 - 34 anos', 'idade_35 - 44 anos', 'idade_45 - 54 anos', 'idade_55 - 64 anos', 'idade_65 anos ou mais', 'Entre R$1.000 e R$2.000', 'Entre R$2.000 e R$3.000', 'Entre R$5.000 e R$10.000', 'Entre R$500 e R$1.000', 'Estou Desempregada(o)', 'Menos de R$500', 'Mulher']\n",
            "Coefficients: idade_25 - 34 anos          1280.668907\n",
            "idade_35 - 44 anos          1368.462775\n",
            "idade_45 - 54 anos          1710.897044\n",
            "idade_55 - 64 anos          2344.639093\n",
            "idade_65 anos ou mais       2793.357352\n",
            "Entre R$1.000 e R$2.000     -631.559009\n",
            "Entre R$2.000 e R$3.000     -259.093629\n",
            "Entre R$5.000 e R$10.000     137.867381\n",
            "Entre R$500 e R$1.000       -856.529803\n",
            "Estou Desempregada(o)       -909.310813\n",
            "Menos de R$500              -803.680557\n",
            "Não quero informar           127.358192\n",
            "Mulher                       657.100547\n",
            "dtype: float64\n",
            "R-squared: 0.491081361269075\n",
            "\n",
            "\n",
            "Selected features: ['idade_25 - 34 anos', 'idade_35 - 44 anos', 'idade_45 - 54 anos', 'idade_55 - 64 anos', 'idade_65 anos ou mais', 'Entre R$1.000 e R$2.000', 'Entre R$2.000 e R$3.000', 'Entre R$500 e R$1.000', 'Estou Desempregada(o)', 'Menos de R$500', 'Mulher']\n",
            "Coefficients: idade_25 - 34 anos          1325.372466\n",
            "idade_35 - 44 anos          1413.012481\n",
            "idade_45 - 54 anos          1753.998203\n",
            "idade_55 - 64 anos          2389.439003\n",
            "idade_65 anos ou mais       2838.261841\n",
            "Entre R$1.000 e R$2.000     -681.609346\n",
            "Entre R$2.000 e R$3.000     -309.316186\n",
            "Entre R$5.000 e R$10.000      88.125669\n",
            "Entre R$500 e R$1.000       -906.929458\n",
            "Estou Desempregada(o)       -959.314528\n",
            "Menos de R$500              -853.458479\n",
            "Mulher                       664.186760\n",
            "dtype: float64\n",
            "R-squared: 0.49097171769294057\n",
            "\n",
            "\n",
            "Selected features: ['idade_25 - 34 anos', 'idade_35 - 44 anos', 'idade_45 - 54 anos', 'idade_55 - 64 anos', 'idade_65 anos ou mais', 'Entre R$1.000 e R$2.000', 'Entre R$500 e R$1.000', 'Estou Desempregada(o)', 'Menos de R$500', 'Mulher']\n",
            "Coefficients: idade_25 - 34 anos         1346.909675\n",
            "idade_35 - 44 anos         1434.927921\n",
            "idade_45 - 54 anos         1775.942920\n",
            "idade_55 - 64 anos         2412.643729\n",
            "idade_65 anos ou mais      2863.348964\n",
            "Entre R$1.000 e R$2.000    -702.302104\n",
            "Entre R$2.000 e R$3.000    -330.332940\n",
            "Entre R$500 e R$1.000      -927.240381\n",
            "Estou Desempregada(o)      -979.297792\n",
            "Menos de R$500             -873.234249\n",
            "Mulher                      661.981391\n",
            "dtype: float64\n",
            "R-squared: 0.4909182090864843\n",
            "\n",
            "\n",
            "Selected features: ['idade_25 - 34 anos', 'idade_35 - 44 anos', 'idade_45 - 54 anos', 'idade_55 - 64 anos', 'idade_65 anos ou mais', 'Entre R$1.000 e R$2.000', 'Entre R$500 e R$1.000', 'Estou Desempregada(o)', 'Mulher']\n",
            "Coefficients: idade_25 - 34 anos         1263.406881\n",
            "idade_35 - 44 anos         1352.379708\n",
            "idade_45 - 54 anos         1694.312777\n",
            "idade_55 - 64 anos         2339.589570\n",
            "idade_65 anos ou mais      2805.461203\n",
            "Entre R$1.000 e R$2.000    -612.042633\n",
            "Entre R$500 e R$1.000      -834.818127\n",
            "Estou Desempregada(o)      -885.546201\n",
            "Menos de R$500             -779.822608\n",
            "Mulher                      644.909694\n",
            "dtype: float64\n",
            "R-squared: 0.48984860707385214\n",
            "\n",
            "\n",
            "Selected features: ['idade_35 - 44 anos', 'idade_45 - 54 anos', 'idade_55 - 64 anos', 'idade_65 anos ou mais', 'Entre R$1.000 e R$2.000', 'Entre R$500 e R$1.000', 'Estou Desempregada(o)', 'Mulher']\n",
            "Coefficients: idade_25 - 34 anos         1225.055372\n",
            "idade_35 - 44 anos         1322.757802\n",
            "idade_45 - 54 anos         1670.883152\n",
            "idade_55 - 64 anos         2334.416675\n",
            "idade_65 anos ou mais      2812.999368\n",
            "Entre R$1.000 e R$2.000    -574.769473\n",
            "Entre R$500 e R$1.000      -794.377990\n",
            "Estou Desempregada(o)      -842.269836\n",
            "Mulher                      619.631605\n",
            "dtype: float64\n",
            "R-squared: 0.4885756191399956\n",
            "\n",
            "\n",
            "Selected features: ['idade_35 - 44 anos', 'idade_45 - 54 anos', 'idade_55 - 64 anos', 'idade_65 anos ou mais', 'Entre R$500 e R$1.000', 'Estou Desempregada(o)', 'Mulher']\n",
            "Coefficients: idade_35 - 44 anos         1139.445615\n",
            "idade_45 - 54 anos         1483.789095\n",
            "idade_55 - 64 anos         2153.258922\n",
            "idade_65 anos ou mais      2641.929636\n",
            "Entre R$1.000 e R$2.000    -511.573454\n",
            "Entre R$500 e R$1.000      -746.389603\n",
            "Estou Desempregada(o)      -779.495896\n",
            "Mulher                      806.001428\n",
            "dtype: float64\n",
            "R-squared: 0.48546532165545375\n",
            "\n",
            "\n",
            "Selected features: ['idade_35 - 44 anos', 'idade_45 - 54 anos', 'idade_55 - 64 anos', 'idade_65 anos ou mais', 'Entre R$500 e R$1.000', 'Mulher']\n",
            "Coefficients: idade_35 - 44 anos       1033.260303\n",
            "idade_45 - 54 anos       1403.671021\n",
            "idade_55 - 64 anos       2094.613543\n",
            "idade_65 anos ou mais    2605.031567\n",
            "Entre R$500 e R$1.000    -624.615246\n",
            "Estou Desempregada(o)    -654.752806\n",
            "Mulher                    751.764625\n",
            "dtype: float64\n",
            "R-squared: 0.48232495527732533\n",
            "\n",
            "\n",
            "Selected features: ['idade_35 - 44 anos', 'idade_45 - 54 anos', 'idade_55 - 64 anos', 'idade_65 anos ou mais', 'Mulher']\n",
            "Coefficients: idade_35 - 44 anos        978.661606\n",
            "idade_45 - 54 anos       1366.731216\n",
            "idade_55 - 64 anos       2092.085884\n",
            "idade_65 anos ou mais    2643.250565\n",
            "Entre R$500 e R$1.000    -543.399053\n",
            "Mulher                    688.024895\n",
            "dtype: float64\n",
            "R-squared: 0.47928014030457244\n",
            "\n",
            "\n",
            "Selected features: ['idade_35 - 44 anos', 'idade_45 - 54 anos', 'idade_55 - 64 anos', 'idade_65 anos ou mais']\n",
            "Coefficients: idade_35 - 44 anos        948.446791\n",
            "idade_45 - 54 anos       1342.889559\n",
            "idade_55 - 64 anos       2080.630163\n",
            "idade_65 anos ou mais    2657.696467\n",
            "Mulher                    634.513746\n",
            "dtype: float64\n",
            "R-squared: 0.4767993548503253\n",
            "\n",
            "\n",
            "Selected features: ['idade_45 - 54 anos', 'idade_55 - 64 anos', 'idade_65 anos ou mais']\n",
            "Coefficients: idade_35 - 44 anos       1470.192111\n",
            "idade_45 - 54 anos       1891.862094\n",
            "idade_55 - 64 anos       2629.040967\n",
            "idade_65 anos ou mais    3196.087810\n",
            "dtype: float64\n",
            "R-squared: 0.47171301277878885\n",
            "\n",
            "\n",
            "Selected features: ['idade_55 - 64 anos', 'idade_65 anos ou mais']\n",
            "Coefficients: idade_45 - 54 anos       1891.862094\n",
            "idade_55 - 64 anos       2629.040967\n",
            "idade_65 anos ou mais    3196.087810\n",
            "dtype: float64\n",
            "R-squared: 0.44225306296227207\n",
            "\n",
            "\n",
            "Selected features: ['idade_65 anos ou mais']\n",
            "Coefficients: idade_55 - 64 anos       2629.040967\n",
            "idade_65 anos ou mais    3196.087810\n",
            "dtype: float64\n",
            "R-squared: 0.3465648454284668\n",
            "\n",
            "\n"
          ]
        }
      ]
    },
    {
      "cell_type": "markdown",
      "source": [
        "# Regressão Linear"
      ],
      "metadata": {
        "id": "C39TkMuphZOv"
      }
    },
    {
      "cell_type": "markdown",
      "source": [
        "## Regressão Linear - Idade"
      ],
      "metadata": {
        "id": "guJkZduxnMcP"
      }
    },
    {
      "cell_type": "code",
      "source": [
        "# Variáveis de entrada\n",
        "X = df_novo[['idade_25 - 34 anos', 'idade_35 - 44 anos', 'idade_45 - 54 anos', 'idade_55 - 64 anos', 'idade_65 anos ou mais']]\n",
        "\n",
        "# Variável de saída\n",
        "y = df_novo['ltv_cliente']\n",
        "\n",
        "X = sm.add_constant(X)\n",
        "model = sm.OLS(y, X).fit()\n",
        "\n",
        "print(model.summary())\n",
        "\n"
      ],
      "metadata": {
        "colab": {
          "base_uri": "https://localhost:8080/"
        },
        "id": "t-KUD0sZerQ4",
        "outputId": "1e0183a8-851a-423a-d5be-b2cc492b0345"
      },
      "execution_count": 803,
      "outputs": [
        {
          "output_type": "stream",
          "name": "stdout",
          "text": [
            "                            OLS Regression Results                            \n",
            "==============================================================================\n",
            "Dep. Variable:            ltv_cliente   R-squared:                       0.057\n",
            "Model:                            OLS   Adj. R-squared:                  0.057\n",
            "Method:                 Least Squares   F-statistic:                     567.5\n",
            "Date:                Mon, 10 Apr 2023   Prob (F-statistic):               0.00\n",
            "Time:                        10:30:56   Log-Likelihood:            -4.3480e+05\n",
            "No. Observations:               47119   AIC:                         8.696e+05\n",
            "Df Residuals:                   47113   BIC:                         8.697e+05\n",
            "Df Model:                           5                                         \n",
            "Covariance Type:            nonrobust                                         \n",
            "=========================================================================================\n",
            "                            coef    std err          t      P>|t|      [0.025      0.975]\n",
            "-----------------------------------------------------------------------------------------\n",
            "const                  2255.0651    158.932     14.189      0.000    1943.555    2566.575\n",
            "idade_25 - 34 anos     -931.2992    172.531     -5.398      0.000   -1269.462    -593.137\n",
            "idade_35 - 44 anos     -784.8730    161.468     -4.861      0.000   -1101.353    -468.393\n",
            "idade_45 - 54 anos     -363.2030    160.230     -2.267      0.023    -677.257     -49.149\n",
            "idade_55 - 64 anos      373.9759    160.195      2.335      0.020      59.992     687.960\n",
            "idade_65 anos ou mais   941.0227    161.190      5.838      0.000     625.089    1256.957\n",
            "==============================================================================\n",
            "Omnibus:                    25189.789   Durbin-Watson:                   0.255\n",
            "Prob(Omnibus):                  0.000   Jarque-Bera (JB):           202980.703\n",
            "Skew:                           2.481   Prob(JB):                         0.00\n",
            "Kurtosis:                      11.875   Cond. No.                         38.7\n",
            "==============================================================================\n",
            "\n",
            "Notes:\n",
            "[1] Standard Errors assume that the covariance matrix of the errors is correctly specified.\n"
          ]
        }
      ]
    },
    {
      "cell_type": "markdown",
      "source": [
        "## Regressão Linear - renda"
      ],
      "metadata": {
        "id": "ZWD3e4I8jvzH"
      }
    },
    {
      "cell_type": "code",
      "source": [
        "# Variáveis de entrada\n",
        "X = df_novo[['Entre R$1.000 e R$2.000', 'Entre R$2.000 e R$3.000', 'Entre R$3.000 e R$5.000', 'Entre R$5.000 e R$10.000',\n",
        "             'Entre R$500 e R$1.000', 'Estou Desempregada(o)', 'Menos de R$500', 'Não quero informar']]\n",
        "\n",
        "\n",
        "# Variável de saída\n",
        "y = df_novo['ltv_cliente']"
      ],
      "metadata": {
        "id": "WkqsVyFwjxgK"
      },
      "execution_count": 804,
      "outputs": []
    },
    {
      "cell_type": "code",
      "source": [
        "X = sm.add_constant(X)\n",
        "model = sm.OLS(y, X).fit()\n",
        "\n",
        "print(model.summary())"
      ],
      "metadata": {
        "colab": {
          "base_uri": "https://localhost:8080/"
        },
        "id": "I6Gvs5LPj4iK",
        "outputId": "b2afc656-ae4c-4cf9-aa35-49c40fccd953"
      },
      "execution_count": 805,
      "outputs": [
        {
          "output_type": "stream",
          "name": "stdout",
          "text": [
            "                            OLS Regression Results                            \n",
            "==============================================================================\n",
            "Dep. Variable:            ltv_cliente   R-squared:                       0.041\n",
            "Model:                            OLS   Adj. R-squared:                  0.041\n",
            "Method:                 Least Squares   F-statistic:                     250.1\n",
            "Date:                Mon, 10 Apr 2023   Prob (F-statistic):               0.00\n",
            "Time:                        10:30:56   Log-Likelihood:            -4.3520e+05\n",
            "No. Observations:               47119   AIC:                         8.704e+05\n",
            "Df Residuals:                   47110   BIC:                         8.705e+05\n",
            "Df Model:                           8                                         \n",
            "Covariance Type:            nonrobust                                         \n",
            "============================================================================================\n",
            "                               coef    std err          t      P>|t|      [0.025      0.975]\n",
            "--------------------------------------------------------------------------------------------\n",
            "const                     2938.5987     54.303     54.115      0.000    2832.164    3045.033\n",
            "Entre R$1.000 e R$2.000  -1051.5901     60.620    -17.347      0.000   -1170.405    -932.775\n",
            "Entre R$2.000 e R$3.000   -578.4403     61.547     -9.398      0.000    -699.074    -457.807\n",
            "Entre R$3.000 e R$5.000   -286.6261     61.751     -4.642      0.000    -407.660    -165.592\n",
            "Entre R$5.000 e R$10.000   -86.3591     64.684     -1.335      0.182    -213.140      40.422\n",
            "Entre R$500 e R$1.000    -1273.7474     64.220    -19.834      0.000   -1399.619   -1147.876\n",
            "Estou Desempregada(o)    -1462.7690     65.759    -22.244      0.000   -1591.657   -1333.881\n",
            "Menos de R$500           -1359.8784     89.598    -15.178      0.000   -1535.492   -1184.264\n",
            "Não quero informar         -91.5967     62.901     -1.456      0.145    -214.883      31.689\n",
            "==============================================================================\n",
            "Omnibus:                    25718.055   Durbin-Watson:                   0.242\n",
            "Prob(Omnibus):                  0.000   Jarque-Bera (JB):           215216.621\n",
            "Skew:                           2.533   Prob(JB):                         0.00\n",
            "Kurtosis:                      12.162   Cond. No.                         15.6\n",
            "==============================================================================\n",
            "\n",
            "Notes:\n",
            "[1] Standard Errors assume that the covariance matrix of the errors is correctly specified.\n"
          ]
        }
      ]
    },
    {
      "cell_type": "markdown",
      "source": [
        "## Regressão linear - Primeira compra"
      ],
      "metadata": {
        "id": "JAdsaWa1nFPi"
      }
    },
    {
      "cell_type": "code",
      "source": [
        "# Variáveis de entrada\n",
        "X = df_novo[['Belavita - Kit com 3 Potes', 'Belavita - Kit com 8 Potes', 'Belavita - Pote Unitário', 'Colágeno Tipo 2 | 30 dias',\n",
        "             'Colágeno Tipo 2 | Kit 60 dias', 'Colágeno Tipo 2 | Kit 90 dias', 'Detox Sistemico', 'Ebook Detox de 15 Dias', 'Evento Presencial Dayan Siebra',\n",
        "             '[VSA] Viva com Saúde (Assinatura)', '[VSA] Viva com Saúde: Revista Digital (Assinatura)', '[VSA] Viva com Saúde: Revista Digital (One Time)', 'Ômega Vita - Kit com 3 Potes']]\n",
        "\n",
        "\n",
        "# Variável de saída\n",
        "y = df_novo['ltv_cliente']"
      ],
      "metadata": {
        "id": "ITAoofyunQ8O"
      },
      "execution_count": 806,
      "outputs": []
    },
    {
      "cell_type": "code",
      "source": [
        "X = sm.add_constant(X)\n",
        "model = sm.OLS(y, X).fit()\n",
        "\n",
        "print(model.summary())"
      ],
      "metadata": {
        "colab": {
          "base_uri": "https://localhost:8080/"
        },
        "id": "PCohjA-hodjx",
        "outputId": "02d01fe7-b0f7-4000-fcbe-cd3b876d9203"
      },
      "execution_count": 807,
      "outputs": [
        {
          "output_type": "stream",
          "name": "stdout",
          "text": [
            "                            OLS Regression Results                            \n",
            "==============================================================================\n",
            "Dep. Variable:            ltv_cliente   R-squared:                       0.007\n",
            "Model:                            OLS   Adj. R-squared:                  0.007\n",
            "Method:                 Least Squares   F-statistic:                     25.05\n",
            "Date:                Mon, 10 Apr 2023   Prob (F-statistic):           1.75e-61\n",
            "Time:                        10:30:56   Log-Likelihood:            -4.3601e+05\n",
            "No. Observations:               47119   AIC:                         8.721e+05\n",
            "Df Residuals:                   47105   BIC:                         8.722e+05\n",
            "Df Model:                          13                                         \n",
            "Covariance Type:            nonrobust                                         \n",
            "======================================================================================================================\n",
            "                                                         coef    std err          t      P>|t|      [0.025      0.975]\n",
            "----------------------------------------------------------------------------------------------------------------------\n",
            "const                                               2325.0586     12.347    188.310      0.000    2300.858    2349.259\n",
            "Belavita - Kit com 3 Potes                         -1295.9086    631.803     -2.051      0.040   -2534.252     -57.565\n",
            "Belavita - Kit com 8 Potes                           110.7192    842.334      0.131      0.895   -1540.267    1761.706\n",
            "Belavita - Pote Unitário                           -1984.9586   1786.711     -1.111      0.267   -5486.937    1517.020\n",
            "Colágeno Tipo 2 | 30 dias                           2121.9670    300.122      7.070      0.000    1533.724    2710.210\n",
            "Colágeno Tipo 2 | Kit 60 dias                       -175.2437    300.122     -0.584      0.559    -763.487     412.999\n",
            "Colágeno Tipo 2 | Kit 90 dias                       1278.3343    241.230      5.299      0.000     805.519    1751.149\n",
            "Detox Sistemico                                    -1985.8986   1130.056     -1.757      0.079   -4200.824     229.026\n",
            "Ebook Detox de 15 Dias                              -273.3203    124.794     -2.190      0.029    -517.919     -28.722\n",
            "Evento Presencial Dayan Siebra                      -904.5386   1130.056     -0.800      0.423   -3119.464    1310.386\n",
            "[VSA] Viva com Saúde (Assinatura)                   -609.1895     42.813    -14.229      0.000    -693.104    -525.275\n",
            "[VSA] Viva com Saúde: Revista Digital (Assinatura)  -676.8365    173.568     -3.900      0.000   -1017.033    -336.640\n",
            "[VSA] Viva com Saúde: Revista Digital (One Time)     293.7385    112.024      2.622      0.009      74.171     513.306\n",
            "Ômega Vita - Kit com 3 Potes                       -1958.3946    799.118     -2.451      0.014   -3524.677    -392.113\n",
            "==============================================================================\n",
            "Omnibus:                    26497.868   Durbin-Watson:                   0.227\n",
            "Prob(Omnibus):                  0.000   Jarque-Bera (JB):           228388.337\n",
            "Skew:                           2.623   Prob(JB):                         0.00\n",
            "Kurtosis:                      12.423   Cond. No.                         154.\n",
            "==============================================================================\n",
            "\n",
            "Notes:\n",
            "[1] Standard Errors assume that the covariance matrix of the errors is correctly specified.\n"
          ]
        }
      ]
    },
    {
      "cell_type": "markdown",
      "source": [
        "## Regressão Linear - Genero"
      ],
      "metadata": {
        "id": "yEc2h4NgqkAG"
      }
    },
    {
      "cell_type": "code",
      "source": [
        "# Variáveis de entrada\n",
        "X = df_novo[['Mulher', 'Outro']]\n",
        "\n",
        "# Variável de saída\n",
        "y = df_novo['ltv_cliente']"
      ],
      "metadata": {
        "id": "xrJWo_-dqqvg"
      },
      "execution_count": 808,
      "outputs": []
    },
    {
      "cell_type": "code",
      "source": [
        "X = sm.add_constant(X)\n",
        "model = sm.OLS(y, X).fit()\n",
        "\n",
        "print(model.summary())"
      ],
      "metadata": {
        "colab": {
          "base_uri": "https://localhost:8080/"
        },
        "id": "NdJBHiStq04r",
        "outputId": "396ac14b-3cb9-45e9-a41b-3b081980fa27"
      },
      "execution_count": 809,
      "outputs": [
        {
          "output_type": "stream",
          "name": "stdout",
          "text": [
            "                            OLS Regression Results                            \n",
            "==============================================================================\n",
            "Dep. Variable:            ltv_cliente   R-squared:                       0.004\n",
            "Model:                            OLS   Adj. R-squared:                  0.004\n",
            "Method:                 Least Squares   F-statistic:                     98.41\n",
            "Date:                Mon, 10 Apr 2023   Prob (F-statistic):           2.23e-43\n",
            "Time:                        10:30:56   Log-Likelihood:            -4.3608e+05\n",
            "No. Observations:               47119   AIC:                         8.722e+05\n",
            "Df Residuals:                   47116   BIC:                         8.722e+05\n",
            "Df Model:                           2                                         \n",
            "Covariance Type:            nonrobust                                         \n",
            "==============================================================================\n",
            "                 coef    std err          t      P>|t|      [0.025      0.975]\n",
            "------------------------------------------------------------------------------\n",
            "const       1885.4856     30.427     61.967      0.000    1825.847    1945.124\n",
            "Mulher       460.6784     32.940     13.985      0.000     396.115     525.241\n",
            "Outro       -546.1423    843.840     -0.647      0.517   -2200.080    1107.796\n",
            "==============================================================================\n",
            "Omnibus:                    26412.103   Durbin-Watson:                   0.228\n",
            "Prob(Omnibus):                  0.000   Jarque-Bera (JB):           225012.646\n",
            "Skew:                           2.617   Prob(JB):                         0.00\n",
            "Kurtosis:                      12.339   Cond. No.                         96.7\n",
            "==============================================================================\n",
            "\n",
            "Notes:\n",
            "[1] Standard Errors assume that the covariance matrix of the errors is correctly specified.\n"
          ]
        }
      ]
    },
    {
      "cell_type": "markdown",
      "source": [
        "##Regressão Linear - com base na variável selecionada pelo Backward Elimination"
      ],
      "metadata": {
        "id": "3840XO1CrbWe"
      }
    },
    {
      "cell_type": "code",
      "source": [
        "# Variáveis de entrada\n",
        "X = df_novo[['idade_65 anos ou mais', 'idade_55 - 64 anos']]\n",
        "\n",
        "\n",
        "# Variável de saída\n",
        "y = df_novo['ltv_cliente']"
      ],
      "metadata": {
        "id": "JVFZYiedruPI"
      },
      "execution_count": 810,
      "outputs": []
    },
    {
      "cell_type": "code",
      "source": [
        "X = sm.add_constant(X)\n",
        "model = sm.OLS(y, X).fit()\n",
        "\n",
        "print(model.summary())"
      ],
      "metadata": {
        "colab": {
          "base_uri": "https://localhost:8080/"
        },
        "id": "CsDAsfZ3r5sH",
        "outputId": "7168ebf7-068e-43b3-d866-e85638425a54"
      },
      "execution_count": 811,
      "outputs": [
        {
          "output_type": "stream",
          "name": "stdout",
          "text": [
            "                            OLS Regression Results                            \n",
            "==============================================================================\n",
            "Dep. Variable:            ltv_cliente   R-squared:                       0.053\n",
            "Model:                            OLS   Adj. R-squared:                  0.053\n",
            "Method:                 Least Squares   F-statistic:                     1316.\n",
            "Date:                Mon, 10 Apr 2023   Prob (F-statistic):               0.00\n",
            "Time:                        10:30:57   Log-Likelihood:            -4.3490e+05\n",
            "No. Observations:               47119   AIC:                         8.698e+05\n",
            "Df Residuals:                   47116   BIC:                         8.698e+05\n",
            "Df Model:                           2                                         \n",
            "Covariance Type:            nonrobust                                         \n",
            "=========================================================================================\n",
            "                            coef    std err          t      P>|t|      [0.025      0.975]\n",
            "-----------------------------------------------------------------------------------------\n",
            "const                  1730.4246     16.032    107.934      0.000    1699.001    1761.848\n",
            "idade_65 anos ou mais  1465.6632     31.345     46.759      0.000    1404.226    1527.100\n",
            "idade_55 - 64 anos      898.6163     25.720     34.938      0.000     848.204     949.028\n",
            "==============================================================================\n",
            "Omnibus:                    25178.230   Durbin-Watson:                   0.252\n",
            "Prob(Omnibus):                  0.000   Jarque-Bera (JB):           201510.330\n",
            "Skew:                           2.483   Prob(JB):                         0.00\n",
            "Kurtosis:                      11.831   Cond. No.                         3.34\n",
            "==============================================================================\n",
            "\n",
            "Notes:\n",
            "[1] Standard Errors assume that the covariance matrix of the errors is correctly specified.\n"
          ]
        }
      ]
    },
    {
      "cell_type": "code",
      "source": [
        "# Fazer a previsão do LTV \n",
        "previsao_ltv = model.predict(X)\n",
        "\n",
        "# Ordenar os clientes de acordo com a previsão de LTV\n",
        "df_novo['previsao_ltv'] = previsao_ltv\n",
        "clientes_ordenados = df_novo.sort_values('previsao_ltv', ascending=False)\n",
        "\n",
        "# Selecionar os clientes com previsão mais alta de LTV\n",
        "top_clientes = clientes_ordenados.head(20)\n",
        "\n",
        "print(top_clientes)"
      ],
      "metadata": {
        "colab": {
          "base_uri": "https://localhost:8080/"
        },
        "id": "a0tmBhaEsQuk",
        "outputId": "a3d86fb5-4bea-4ee2-dd59-7d992cc1a3a1"
      },
      "execution_count": 814,
      "outputs": [
        {
          "output_type": "stream",
          "name": "stdout",
          "text": [
            "                          email_cliente                         nome_cliente  \\\n",
            "13326           mneusaraujo@hotmail.com              Maria Neusa Araújo Lima   \n",
            "40619       raimunda.correa53@gmail.com                Raimunda Moura Corrêa   \n",
            "40617       raimunda.correa53@gmail.com                Raimunda Moura Correa   \n",
            "40616       raimunda.correa53@gmail.com                Raimunda Moura Corrêa   \n",
            "40615       raimunda.correa53@gmail.com                Raimunda Moura Correa   \n",
            "40614           dariozorzal@hotmail.com                        Dario Zorzajl   \n",
            "40613           dariozorzal@hotmail.com                         Dario Zorzal   \n",
            "40603              lobato5000@ig.com.br            José Maria Pereira Lobato   \n",
            "40602              lobato5000@ig.com.br            José Maria Pereira Lobato   \n",
            "40601              lobato5000@ig.com.br            José Maria Pereira Lobato   \n",
            "40597               emy202092@gmail.com              Antonieta Correia Silva   \n",
            "40565        carmosinacruz@yahoo.com.br       Carmosina Da Costa Santos Cruz   \n",
            "40564        carmosinacruz@yahoo.com.br       Carmosina Da Costa Santos Cruz   \n",
            "11545  lucia.fonoaudiologia@hotmail.com  Maria Lúcia Das Graças Alves Matias   \n",
            "11546      girlei.dornelles@hotmail.com          Girlei Dornelles Dos Santos   \n",
            "11547      girlei.dornelles@hotmail.com          Girlei Dornelles Dos Santos   \n",
            "11548      girlei.dornelles@hotmail.com          Girlei Dornelles Dos Santos   \n",
            "40618       raimunda.correa53@gmail.com                Raimunda Moura Corrêa   \n",
            "40620       raimunda.correa53@gmail.com                Raimunda Moura Correa   \n",
            "40660       ione.oliveira54@hotmail.com      Ione gama de oliveira Magalhães   \n",
            "\n",
            "      transaction_status                        transaction_id data_pedido  \\\n",
            "13326           approved  97d2ee35-86e4-4ab4-a819-b9f9850f6e19  2022-11-24   \n",
            "40619           approved                      HP16015955113387  2020-07-23   \n",
            "40617           approved                             339312460  2021-06-23   \n",
            "40616           approved                      HP19016270467417  2021-07-23   \n",
            "40615           approved  94b18276-7a6e-4896-9ebf-91f915e8837e  2021-10-22   \n",
            "40614           approved  95fb5680-3152-40b6-9597-6141dd75537b  2022-04-04   \n",
            "40613           approved  947e5e30-c404-4b70-889c-b95ceed16c67  2021-09-26   \n",
            "40603           approved  95a1e162-ba6b-4d84-ae00-044b0443ead8  2022-02-18   \n",
            "40602           approved  95f36600-723b-48c4-9df3-00033456c6d3  2022-03-31   \n",
            "40601           approved                      HP12116040111398  2020-10-29   \n",
            "40597           approved  94bdadb4-76b9-4759-b2ee-fde1a60fe068  2021-10-28   \n",
            "40565           approved  95ad519d-0d38-4df8-bad2-a3324b0d06b3  2022-02-24   \n",
            "40564           approved  95ad4cdf-c5d9-4d06-b575-29263ba5049a  2022-02-24   \n",
            "11545           approved  9680e010-1447-4162-a5f4-ed7f2038d5c7  2022-06-09   \n",
            "11546           approved  98413143-91ab-43d6-a93e-9de5238b117e  2023-01-18   \n",
            "11547           approved  983397b1-2c27-49e0-a86d-3b7d3c1e381f  2023-01-11   \n",
            "11548           approved  9841301b-0a79-4fcc-8d6b-e43fb7760195  2023-01-18   \n",
            "40618           approved                      HP18015955113425  2020-07-23   \n",
            "40620           approved  94cc8cdb-d450-495a-8c10-f222699f96d6  2021-11-04   \n",
            "40660           approved                      HP17215995704788  2020-09-08   \n",
            "\n",
            "       valor_venda                                       nome_produto  \\\n",
            "13326       261.84     VitaCalm Night - Kit com 3 Potes  (Melatonina)   \n",
            "40619       205.20  Revista Digital: Viva com Saúde por Dr. Dayan ...   \n",
            "40617       203.92                      Colágeno Tipo 2 | Kit 90 dias   \n",
            "40616       205.20  Revista Digital: Viva com Saúde por Dr. Dayan ...   \n",
            "40615      1197.96                      Vitacongress - Plano Diamante   \n",
            "40614       496.96                      Fórmula SB3 - Kit com 3 Potes   \n",
            "40613       239.88                  [VSA] Viva com Saúde (Assinatura)   \n",
            "40603       179.88                  [VSA] Viva com Saúde (Assinatura)   \n",
            "40602       561.20                      Fórmula SB3 - Kit com 3 Potes   \n",
            "40601       153.90  Revista Digital: Viva com Saúde por Dr. Dayan ...   \n",
            "40597       355.24       Multivita Women (Mulheres) - Kit com 3 Potes   \n",
            "40565       129.08          Ômega Vita - Pote Unitário (Frete grátis)   \n",
            "40564       133.36         Multivita Women (Mulheres) - Pote Unitário   \n",
            "11545       215.98                        Fórmula SB4 - Pote Unitário   \n",
            "11546       800.88                                 Multivita Mulheres   \n",
            "11547      1188.00               Programa de Emagrecimento Definitivo   \n",
            "11548      1031.40                                          Bela Vita   \n",
            "40618        99.00               Guia Digital: Controlando a Diabetes   \n",
            "40620      1319.52                     Fórmula SB3 - Kit com 12 Potes   \n",
            "40660       997.00     PED • Programa de Emagrecimento Definitivo [R]   \n",
            "\n",
            "                                                  oferta        cep    pais  \\\n",
            "13326    VitaCalm Night - Kit com 3 Potes (Frete Grátis)   58043320      BR   \n",
            "40619                                           rfxr9dns        NaN  Brasil   \n",
            "40617                                                NaN  68633-000     NaN   \n",
            "40616                                           rfxr9dns        NaN  Brasil   \n",
            "40615                 Clube Vitascience - Plano Diamante        NaN      BR   \n",
            "40614                      Fórmula SB3 - Kit com 3 Potes   29055590      BR   \n",
            "40613                                 12x de R$19,99/ano        NaN      BR   \n",
            "40603                                    12x de R$ 14,99   65060270      BR   \n",
            "40602                      Fórmula SB3 - Kit com 3 Potes   65060270      BR   \n",
            "40601                                           u0b1vvl8        NaN  Brasil   \n",
            "40597  Multivita Women (Mulheres) - Kit com 3 Potes |...   44755000      BR   \n",
            "40565                         Ômega Vita - Pote Unitário   41098010      BR   \n",
            "40564         Multivita Women (Mulheres) - Pote Unitário   41098010      BR   \n",
            "11545                        Fórmula SB4 - Pote Unitário   75345000      BR   \n",
            "11546               9799cb37-769d-4750-85b0-4252dae3a9f6   96745000      BR   \n",
            "11547               9812e4a8-79ce-4656-96b8-eda577403b6b   96745000      BR   \n",
            "11548               98238229-5cc0-49ff-a9db-5dd8e385e685   96745000      BR   \n",
            "40618                                           hh30nvs7        NaN  Brasil   \n",
            "40620      Fórmula SB3 - Kit com 12 Potes (Frete Grátis)   68633000      BR   \n",
            "40660                                           txdinl49        NaN  Brasil   \n",
            "\n",
            "       ... Ômega Vita - Kit com 3 Potes  \\\n",
            "13326  ...                            0   \n",
            "40619  ...                            0   \n",
            "40617  ...                            0   \n",
            "40616  ...                            0   \n",
            "40615  ...                            0   \n",
            "40614  ...                            0   \n",
            "40613  ...                            0   \n",
            "40603  ...                            0   \n",
            "40602  ...                            0   \n",
            "40601  ...                            0   \n",
            "40597  ...                            0   \n",
            "40565  ...                            0   \n",
            "40564  ...                            0   \n",
            "11545  ...                            0   \n",
            "11546  ...                            0   \n",
            "11547  ...                            0   \n",
            "11548  ...                            0   \n",
            "40618  ...                            0   \n",
            "40620  ...                            0   \n",
            "40660  ...                            0   \n",
            "\n",
            "      Ômega Vita - Kit com 3 Potes (Frete grátis)  \\\n",
            "13326                                           0   \n",
            "40619                                           0   \n",
            "40617                                           0   \n",
            "40616                                           0   \n",
            "40615                                           0   \n",
            "40614                                           0   \n",
            "40613                                           0   \n",
            "40603                                           0   \n",
            "40602                                           0   \n",
            "40601                                           0   \n",
            "40597                                           0   \n",
            "40565                                           0   \n",
            "40564                                           0   \n",
            "11545                                           0   \n",
            "11546                                           0   \n",
            "11547                                           0   \n",
            "11548                                           0   \n",
            "40618                                           0   \n",
            "40620                                           0   \n",
            "40660                                           0   \n",
            "\n",
            "      Ômega Vita - Kit com 5 Potes  \\\n",
            "13326                            0   \n",
            "40619                            0   \n",
            "40617                            0   \n",
            "40616                            0   \n",
            "40615                            0   \n",
            "40614                            0   \n",
            "40613                            0   \n",
            "40603                            0   \n",
            "40602                            0   \n",
            "40601                            0   \n",
            "40597                            0   \n",
            "40565                            0   \n",
            "40564                            0   \n",
            "11545                            0   \n",
            "11546                            0   \n",
            "11547                            0   \n",
            "11548                            0   \n",
            "40618                            0   \n",
            "40620                            0   \n",
            "40660                            0   \n",
            "\n",
            "      Ômega Vita - Kit com 7 Potes (Frete grátis)  \\\n",
            "13326                                           0   \n",
            "40619                                           0   \n",
            "40617                                           0   \n",
            "40616                                           0   \n",
            "40615                                           0   \n",
            "40614                                           0   \n",
            "40613                                           0   \n",
            "40603                                           0   \n",
            "40602                                           0   \n",
            "40601                                           0   \n",
            "40597                                           0   \n",
            "40565                                           0   \n",
            "40564                                           0   \n",
            "11545                                           0   \n",
            "11546                                           0   \n",
            "11547                                           0   \n",
            "11548                                           0   \n",
            "40618                                           0   \n",
            "40620                                           0   \n",
            "40660                                           0   \n",
            "\n",
            "      Ômega Vita - Kit com 8 Potes  Ômega Vita - Pote Unitário  \\\n",
            "13326                            0                           0   \n",
            "40619                            0                           0   \n",
            "40617                            0                           0   \n",
            "40616                            0                           0   \n",
            "40615                            0                           0   \n",
            "40614                            0                           0   \n",
            "40613                            0                           0   \n",
            "40603                            0                           0   \n",
            "40602                            0                           0   \n",
            "40601                            0                           0   \n",
            "40597                            0                           0   \n",
            "40565                            0                           0   \n",
            "40564                            0                           0   \n",
            "11545                            0                           0   \n",
            "11546                            0                           0   \n",
            "11547                            0                           0   \n",
            "11548                            0                           0   \n",
            "40618                            0                           0   \n",
            "40620                            0                           0   \n",
            "40660                            0                           0   \n",
            "\n",
            "       Ômega Vita - Pote Unitário (Frete grátis)  Mulher Outro previsao_ltv  \n",
            "13326                                          0       1     0   3196.08781  \n",
            "40619                                          0       1     0   3196.08781  \n",
            "40617                                          0       1     0   3196.08781  \n",
            "40616                                          0       1     0   3196.08781  \n",
            "40615                                          0       1     0   3196.08781  \n",
            "40614                                          0       0     0   3196.08781  \n",
            "40613                                          0       0     0   3196.08781  \n",
            "40603                                          0       0     0   3196.08781  \n",
            "40602                                          0       0     0   3196.08781  \n",
            "40601                                          0       0     0   3196.08781  \n",
            "40597                                          0       1     0   3196.08781  \n",
            "40565                                          0       1     0   3196.08781  \n",
            "40564                                          0       1     0   3196.08781  \n",
            "11545                                          0       1     0   3196.08781  \n",
            "11546                                          0       1     0   3196.08781  \n",
            "11547                                          0       1     0   3196.08781  \n",
            "11548                                          0       1     0   3196.08781  \n",
            "40618                                          0       1     0   3196.08781  \n",
            "40620                                          0       1     0   3196.08781  \n",
            "40660                                          0       1     0   3196.08781  \n",
            "\n",
            "[20 rows x 233 columns]\n"
          ]
        }
      ]
    }
  ]
}